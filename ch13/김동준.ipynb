{
 "cells": [
  {
   "cell_type": "code",
   "execution_count": 79,
   "metadata": {},
   "outputs": [
    {
     "name": "stdout",
     "output_type": "stream",
     "text": [
      "[0 0 0 0 0 0 0 0 0 0]\n"
     ]
    }
   ],
   "source": [
    "# 1. 길이가 10인 0-벡터를 만드세요.\n",
    "import numpy as np\n",
    "\n",
    "vArray = np.zeros((10), dtype = np.int32)\n",
    "print(vArray)"
   ]
  },
  {
   "cell_type": "code",
   "execution_count": 91,
   "metadata": {},
   "outputs": [
    {
     "name": "stdout",
     "output_type": "stream",
     "text": [
      "[0 0 0 0 1 0 0 0 0 0]\n"
     ]
    }
   ],
   "source": [
    "# 길이가 10이며 다섯번째 원소만 1이고 나머지 원소는 모두 0인 벡터를 만드세요.\n",
    "\n",
    "vArray = np.arange(10)\n",
    "x = np.where(vArray == 5-1, 1, 0)\n",
    "print(x)"
   ]
  },
  {
   "cell_type": "code",
   "execution_count": 15,
   "metadata": {},
   "outputs": [
    {
     "name": "stdout",
     "output_type": "stream",
     "text": [
      "[10 11 12 13 14 15 16 17 18 19 20 21 22 23 24 25 26 27 28 29 30 31 32 33\n",
      " 34 35 36 37 38 39 40 41 42 43 44 45 46 47 48 49]\n"
     ]
    }
   ],
   "source": [
    "# 3. 10 부터 49까지의 값을 가지는 벡터를 만드세요.\n",
    "vArray = np.arange(10 , 50)\n",
    "print(vArray)"
   ]
  },
  {
   "cell_type": "code",
   "execution_count": 18,
   "metadata": {},
   "outputs": [
    {
     "name": "stdout",
     "output_type": "stream",
     "text": [
      "[49, 48, 47, 46, 45, 44, 43, 42, 41, 40, 39, 38, 37, 36, 35, 34, 33, 32, 31, 30, 29, 28, 27, 26, 25, 24, 23, 22, 21, 20, 19, 18, 17, 16, 15, 14, 13, 12, 11, 10]\n"
     ]
    }
   ],
   "source": [
    "# 4. 위(3번) 벡터의 순서를 바꾸세요.\n",
    "vArray = np.arange(10 , 50).tolist()\n",
    "vArray.sort(reverse = True)\n",
    "\n",
    "print(vArray)"
   ]
  },
  {
   "cell_type": "code",
   "execution_count": 19,
   "metadata": {},
   "outputs": [
    {
     "name": "stdout",
     "output_type": "stream",
     "text": [
      "[[0 1 2]\n",
      " [3 4 5]\n",
      " [6 7 8]]\n"
     ]
    }
   ],
   "source": [
    "# 5. 0부터 8까지의 값을 가지는 3x3 행렬을 만드세요.\n",
    "matrix = np.arange(9).reshape(3,3)\n",
    "print(matrix)"
   ]
  },
  {
   "cell_type": "code",
   "execution_count": 26,
   "metadata": {},
   "outputs": [
    {
     "name": "stdout",
     "output_type": "stream",
     "text": [
      "[1 2 4]\n"
     ]
    }
   ],
   "source": [
    "# 6. 벡터 [1,2,0,0,4,0] 에서 원소의 값이 0이 아닌 원소만 선택한 벡터를 만드세요.\n",
    "vArray = np.array([1,2,0,0,4,0])\n",
    "x = vArray[vArray > 0]\n",
    "\n",
    "print(x)"
   ]
  },
  {
   "cell_type": "code",
   "execution_count": 28,
   "metadata": {},
   "outputs": [
    {
     "name": "stdout",
     "output_type": "stream",
     "text": [
      "[[1 0 0]\n",
      " [0 1 0]\n",
      " [0 0 1]]\n"
     ]
    }
   ],
   "source": [
    "# 7. 3x3 단위 행렬(identity matrix)을 만드세요\n",
    "x = np.identity(n=3, dtype = np.int8)\n",
    "print (x)"
   ]
  },
  {
   "cell_type": "code",
   "execution_count": 37,
   "metadata": {},
   "outputs": [
    {
     "name": "stdout",
     "output_type": "stream",
     "text": [
      "[[0.65358959 0.11500694 0.95028286]\n",
      " [0.4821914  0.87247454 0.21233268]\n",
      " [0.04070962 0.39719446 0.2331322 ]]\n"
     ]
    }
   ],
   "source": [
    "# 8. 난수 원소를 가지는 3x3 행렬을 만드세요\n",
    "np.random.seed(1000)\n",
    "\n",
    "x = np.random.uniform(0,1,9).reshape(3,3)\n",
    "print(x)"
   ]
  },
  {
   "cell_type": "code",
   "execution_count": 90,
   "metadata": {},
   "outputs": [
    {
     "name": "stdout",
     "output_type": "stream",
     "text": [
      "최소값 : 0.040709624769089126\n",
      "최대값 : 0.9502828643490245\n"
     ]
    }
   ],
   "source": [
    "# 9. 위(8번)에서 만든 난수 행렬에서 최대값/최소값 원소를 찾으세요.\n",
    "aMin = np.argmin(x)\n",
    "aMax = np.argmax(x)\n",
    "\n",
    "#배열 형태로 가공하는 방법\n",
    "# i = int(aMin / 3)\n",
    "# j = int(aMin % 3)\n",
    "# print('최소값 원소 : %f'% x[i][j])\n",
    "#---------------------------------\n",
    "\n",
    "\n",
    "#flatten사용\n",
    "listx = x.flatten()\n",
    "\n",
    "print('최소값 : '+ (str(listx[aMin])))\n",
    "print('최대값 : '+ (str(listx[aMax])))\n",
    "\n",
    "# i = int(aMax / 3)\n",
    "# j = int(aMax % 3)\n",
    "\n",
    "# print('최대값 원소 : %f'% x[i][j])\n",
    "\n",
    "\n",
    "\n"
   ]
  },
  {
   "cell_type": "code",
   "execution_count": 75,
   "metadata": {},
   "outputs": [
    {
     "name": "stdout",
     "output_type": "stream",
     "text": [
      "출력값 : \n",
      "[[0.65358959 0.11500694 0.95028286]\n",
      " [0.4821914  0.87247454 0.21233268]\n",
      " [0.04070962 0.39719446 0.2331322 ]]\n",
      "행 평균의 값 :\n",
      "[0.39216354 0.46155865 0.46524925]\n",
      "열 평균의 값 :\n",
      "[0.5729598  0.52233287 0.22367876]\n"
     ]
    }
   ],
   "source": [
    "# 10. 위(8번)에서 만든 난수 행렬에서 행 평균, 열 평균을 계산하세요.\n",
    "print('출력값 : ')\n",
    "print(x)\n",
    "print('행 평균의 값 :')\n",
    "print(x.mean(axis = 0))\n",
    "print('열 평균의 값 :')\n",
    "print(x.mean(axis = 1))\n",
    "\n",
    "\n"
   ]
  },
  {
   "cell_type": "code",
   "execution_count": null,
   "metadata": {},
   "outputs": [],
   "source": []
  }
 ],
 "metadata": {
  "kernelspec": {
   "display_name": "Python 3",
   "language": "python",
   "name": "python3"
  },
  "language_info": {
   "codemirror_mode": {
    "name": "ipython",
    "version": 3
   },
   "file_extension": ".py",
   "mimetype": "text/x-python",
   "name": "python",
   "nbconvert_exporter": "python",
   "pygments_lexer": "ipython3",
   "version": "3.7.6"
  }
 },
 "nbformat": 4,
 "nbformat_minor": 4
}
