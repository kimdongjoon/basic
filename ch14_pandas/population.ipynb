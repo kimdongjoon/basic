{
 "cells": [
  {
   "cell_type": "code",
   "execution_count": null,
   "metadata": {},
   "outputs": [],
   "source": [
    "def get_list(list_data):\n",
    "    import csv\n",
    "    f = open('population_2020.csv','r',encoding='utf-8')\n",
    "    lines = csv.reader(f)\n",
    "    \n",
    "    header = next(lines)\n",
    "    \n",
    "    list_tmp = []\n",
    "    for line in lines :\n",
    "        list_tmp.append(line[:])\n",
    "        \n",
    "    for j in range(7) :\n",
    "        tmp = []\n",
    "        for i in range(len(list_tmp)) :\n",
    "            tmp.append(list_tmp[i][j])\n",
    "        list_data.append(tmp)\n",
    "        \n",
    "        "
   ]
  }
 ],
 "metadata": {
  "kernelspec": {
   "display_name": "Python 3",
   "language": "python",
   "name": "python3"
  },
  "language_info": {
   "codemirror_mode": {
    "name": "ipython",
    "version": 3
   },
   "file_extension": ".py",
   "mimetype": "text/x-python",
   "name": "python",
   "nbconvert_exporter": "python",
   "pygments_lexer": "ipython3",
   "version": "3.7.6"
  }
 },
 "nbformat": 4,
 "nbformat_minor": 4
}
