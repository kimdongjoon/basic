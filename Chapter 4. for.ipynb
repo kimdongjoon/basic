{
 "cells": [
  {
   "cell_type": "markdown",
   "metadata": {},
   "source": [
    "Chapter 04. 반복문\n",
    "1. 반복문 : 특정 코드를 반복 실행\n",
    "   반복문의 두가지 \n",
    "       * For\n",
    "       * While "
   ]
  },
  {
   "cell_type": "code",
   "execution_count": null,
   "metadata": {},
   "outputs": [],
   "source": [
    "# ex 4-1\n",
    "for x in range(5):\n",
    "    print('안녕하세요', x)\n"
   ]
  },
  {
   "cell_type": "code",
   "execution_count": null,
   "metadata": {},
   "outputs": [],
   "source": [
    "x =0\n",
    "while x< 5:\n",
    "    print('안녕하세요')\n",
    "    x += 1"
   ]
  },
  {
   "cell_type": "markdown",
   "metadata": {},
   "source": [
    "연습문제 \n",
    "두가지 반복문을 사용하여 1~10 까지의 합계를 구하시오. "
   ]
  },
  {
   "cell_type": "code",
   "execution_count": null,
   "metadata": {},
   "outputs": [],
   "source": [
    "#ex 4-3\n",
    "sum = 0\n",
    "for i in range(1,11,1):\n",
    "    sum += i\n",
    "    \n",
    "print(sum)"
   ]
  },
  {
   "cell_type": "code",
   "execution_count": null,
   "metadata": {},
   "outputs": [],
   "source": [
    "#ex 4-3 extend 증가분은 생략할 수 있으며 \n",
    "sum = 0\n",
    "for i in range(1,11):\n",
    "    sum +=i\n",
    "    \n",
    "print(sum)"
   ]
  },
  {
   "cell_type": "code",
   "execution_count": null,
   "metadata": {},
   "outputs": [],
   "source": [
    "#ex 4-4\n",
    "for i in range(10):\n",
    "    print(i, end=' ')\n",
    "print()\n",
    "\n",
    "for i in range(1,11):\n",
    "    print(i, end=' ')\n",
    "print()\n",
    "\n",
    "for i in range(1,10,2):\n",
    "    print(i, end=' ')\n",
    "print()\n",
    "\n",
    "for i in range(20,0,-2):\n",
    "    print(i, end=' ')\n",
    "print()\n"
   ]
  },
  {
   "cell_type": "code",
   "execution_count": null,
   "metadata": {},
   "outputs": [],
   "source": [
    "#ex4-5\n",
    "#1~100에서 3의 배수의 합계를 구하시오. \n",
    "sum = 0 \n",
    "for i in range(0,100,3):\n",
    "    sum +=i\n",
    "    \n",
    "print(sum)"
   ]
  },
  {
   "cell_type": "code",
   "execution_count": null,
   "metadata": {},
   "outputs": [],
   "source": [
    "#ex4-5\n",
    "#1~100에서 3의 배수의 합계를 구하시오. \n",
    "sum = 0 \n",
    "for i in range(0,100):\n",
    "    if i%3 == 0: \n",
    "        print(\"%d\" % i, end = ' ')\n",
    "        sum +=i\n",
    "    \n",
    "print('')\n",
    "print(sum)"
   ]
  },
  {
   "cell_type": "code",
   "execution_count": null,
   "metadata": {},
   "outputs": [],
   "source": [
    "#ex 4-6\n",
    "text = input(\"input text :\")\n",
    "\n",
    "for x in text:\n",
    "    print(x)\n",
    "    "
   ]
  },
  {
   "cell_type": "code",
   "execution_count": null,
   "metadata": {},
   "outputs": [],
   "source": [
    "#ex4-7\n",
    "print(\"-\" *30)\n",
    "print(\"   섭씨   화씨\")\n",
    "print(\"-\" *30)\n",
    "\n",
    "for c in range(20, 31, 5):\n",
    "    f = c * 9.0 / 5.0 + 32.0\n",
    "    print(\"%8d %6.1f\" %(c, f))\n",
    "    \n",
    "print(\"-\" * 30)"
   ]
  },
  {
   "cell_type": "code",
   "execution_count": null,
   "metadata": {},
   "outputs": [],
   "source": [
    "# Q 4-1. 5의 배수가 아닌 수의 합계 구하기\n",
    "n1 = int(input('시작 수를 입력하세요'))\n",
    "n2 = int(input('끝 수를 입력하세요'))\n",
    "\n",
    "sum = 0\n",
    "for i in range(n1, n2 +1):\n",
    "    if i % 5 != 0:\n",
    "        sum += i\n",
    "        \n",
    "print('_' * 50)\n",
    "print(sum)"
   ]
  },
  {
   "cell_type": "code",
   "execution_count": null,
   "metadata": {},
   "outputs": [],
   "source": [
    "# Q 4-2. 전화번호에서 하이픈(-) 삭제하기\n",
    "number =input(\"하이픈(-)을 포함한 휴대폰 번호를 입력하세요 :\")\n",
    "for i in number:\n",
    "    \n",
    "\n"
   ]
  },
  {
   "cell_type": "code",
   "execution_count": null,
   "metadata": {},
   "outputs": [],
   "source": [
    "# Q 4-3. 전화번호에서 하이픈(-) 추가하기\n",
    "phone = input(\"하이픈(-)을 뺀 11자리의 휴대폰 번호를 입력하세요 :\")\n",
    "number = '';\n",
    "for i in range(0, len(phone)):\n",
    "    if i == 2 :\n",
    "        number = number + (phone[2]+'-')\n",
    "    elif i == 6 : \n",
    "        number = number + (phone[6]+'-')\n",
    "    else :\n",
    "        number = number + (phone[i])\n",
    "print(number)\n",
    "    "
   ]
  },
  {
   "cell_type": "code",
   "execution_count": null,
   "metadata": {},
   "outputs": [],
   "source": [
    "# Q 4-4 길이 단위 환산표 만들기\n",
    "print('-' * 50)\n"
   ]
  },
  {
   "cell_type": "code",
   "execution_count": null,
   "metadata": {},
   "outputs": [],
   "source": [
    "# Q 4-5 무게 단위 환산표 만들기\n",
    "print('-' * 50)\n",
    "print('킬로그램 파운드 온스')\n",
    "print('-' * 50)"
   ]
  },
  {
   "cell_type": "code",
   "execution_count": null,
   "metadata": {},
   "outputs": [],
   "source": [
    "# Q 4-6 홀수 개수 세기   (결과가 이상한데?)\n",
    "number = input('숫자를 입력하세요')\n",
    "total = 0\n",
    "\n",
    "for a in number :\n",
    "    a = int(a)\n",
    "    if a%2 == 1:\n",
    "        total += 1\n",
    "        \n",
    "print(\"입력된 숫자중 홀수의 갯수 :%d 개\" % total)"
   ]
  },
  {
   "cell_type": "code",
   "execution_count": null,
   "metadata": {},
   "outputs": [],
   "source": [
    "# ex 4-9 구구단\n",
    "a = 2\n",
    "for a in range(2,10):\n",
    "    print('-' * 50)\n",
    "    for b in range(1,10):\n",
    "        c = a * b\n",
    "        print(\"%d x %d = %d\" % (a,b,c))  \n",
    "        "
   ]
  },
  {
   "cell_type": "code",
   "execution_count": null,
   "metadata": {},
   "outputs": [],
   "source": [
    "# Q4-7. 별표(*)로 특정 형태 만들기 1\n",
    "height = int(input(\"높이를 입력하세요\"))\n",
    "\n",
    "for i in range(0, height+1):\n",
    "    print(\"*\" * i)"
   ]
  },
  {
   "cell_type": "code",
   "execution_count": null,
   "metadata": {},
   "outputs": [],
   "source": [
    "# Q4-7. 별표(*)로 특정 형태 만들기 2\n",
    "height = int(input(\"높이를 입력하세요\"))\n",
    "\n",
    "for i in range(1, height+1):\n",
    "    for k in range(1, i+1):\n",
    "        print('*' , end = '')\n",
    "        \n",
    "    print()"
   ]
  },
  {
   "cell_type": "code",
   "execution_count": null,
   "metadata": {},
   "outputs": [],
   "source": [
    "# Q4-7. 별표(*)로 특정 형태 만들기 2\n",
    "height = int(input(\"높이를 입력하세요\"))\n",
    "\n",
    "for i in range(1, height+1):\n",
    "    for s in range(1, height - i + 1):\n",
    "        print(' ' , end = '')\n",
    "    for k in range(1, i):\n",
    "        print('*' , end = '')\n",
    "    print(\"*\")"
   ]
  },
  {
   "cell_type": "code",
   "execution_count": null,
   "metadata": {},
   "outputs": [],
   "source": [
    "# 연습문제 다이아몬드 만들기\n",
    "'''최대 높이는 홀수만 입력을 한다.  5\n",
    "\n",
    "'''\n",
    "\n",
    "height = int(input(\"높이를 입력하세요\"))\n",
    "\n",
    "\n",
    "for i in range(1, height+1):\n",
    "    for s in range(1, height - i + 1):\n",
    "        print(' ' , end = '')\n",
    "    for k in range(1, i):\n",
    "        print('*' , end = '')\n",
    "    print(\"*\")"
   ]
  },
  {
   "cell_type": "code",
   "execution_count": 11,
   "metadata": {},
   "outputs": [
    {
     "name": "stdout",
     "output_type": "stream",
     "text": [
      "989 46\n"
     ]
    }
   ],
   "source": [
    "# 합이 1000에 가까운 경우는 1에서부터 얼마까지 더한 경우인가?\n",
    "sum = 0\n",
    "count = 1\n",
    "while sum < 1000:    \n",
    "    sum += count\n",
    "    count += 1\n",
    "print(sum - count , count )\n"
   ]
  },
  {
   "cell_type": "code",
   "execution_count": 10,
   "metadata": {},
   "outputs": [
    {
     "name": "stdout",
     "output_type": "stream",
     "text": [
      "1 3 5 7 9 "
     ]
    }
   ],
   "source": [
    "#continue\n",
    "for i in range(10):\n",
    "    if i % 2 == 0:\n",
    "        continue\n",
    "    print(i, end = ' ')\n",
    "    "
   ]
  },
  {
   "cell_type": "code",
   "execution_count": 7,
   "metadata": {},
   "outputs": [
    {
     "name": "stdout",
     "output_type": "stream",
     "text": [
      "i = 1 : 0 \n",
      "i = 2 : 0 1 \n",
      "i = 3 : 0 1 2 \n",
      "i = 4 : 0 1 2 3 \n",
      "i = 5 : 0 1 2 3 4 \n"
     ]
    }
   ],
   "source": [
    "#중첩에서 break\n",
    "for i in range(1, 6):\n",
    "    print('i =', i, ':', end = ' ')\n",
    "    for k in range(5):\n",
    "        if k == i:\n",
    "            break;\n",
    "        print(k, end =' ')\n",
    "    print()\n",
    "    "
   ]
  },
  {
   "cell_type": "code",
   "execution_count": null,
   "metadata": {},
   "outputs": [],
   "source": []
  },
  {
   "cell_type": "code",
   "execution_count": null,
   "metadata": {},
   "outputs": [],
   "source": []
  }
 ],
 "metadata": {
  "kernelspec": {
   "display_name": "Python 3",
   "language": "python",
   "name": "python3"
  },
  "language_info": {
   "codemirror_mode": {
    "name": "ipython",
    "version": 3
   },
   "file_extension": ".py",
   "mimetype": "text/x-python",
   "name": "python",
   "nbconvert_exporter": "python",
   "pygments_lexer": "ipython3",
   "version": "3.7.6"
  }
 },
 "nbformat": 4,
 "nbformat_minor": 4
}
