{
 "cells": [
  {
   "cell_type": "markdown",
   "metadata": {},
   "source": [
    "# SQLite 훈련"
   ]
  },
  {
   "cell_type": "code",
   "execution_count": 1,
   "metadata": {},
   "outputs": [],
   "source": [
    "import sqlite3 "
   ]
  },
  {
   "cell_type": "code",
   "execution_count": 2,
   "metadata": {},
   "outputs": [],
   "source": [
    "conn = sqlite3.connect('./test.db')"
   ]
  },
  {
   "cell_type": "code",
   "execution_count": 3,
   "metadata": {},
   "outputs": [
    {
     "data": {
      "text/plain": [
       "<sqlite3.Cursor at 0x17684d55030>"
      ]
     },
     "execution_count": 3,
     "metadata": {},
     "output_type": "execute_result"
    }
   ],
   "source": [
    "cur = conn.cursor()\n",
    "cur.execute('select * from eagles')"
   ]
  },
  {
   "cell_type": "code",
   "execution_count": 4,
   "metadata": {},
   "outputs": [],
   "source": [
    "rows = cur.fetchall()"
   ]
  },
  {
   "cell_type": "code",
   "execution_count": 9,
   "metadata": {},
   "outputs": [
    {
     "name": "stdout",
     "output_type": "stream",
     "text": [
      "(1, 22, '이태양', '투수')\n",
      "(4, 108, '최이경', '투수')\n",
      "(8, 62, '강재민', '투수')\n",
      "(9, 26, '한승주', '투수')\n",
      "(10, 111, '김승일', '투수')\n"
     ]
    }
   ],
   "source": [
    "rows\n",
    "\n",
    "cur.execute(\"select * from eagles where position ='투수'\")\n",
    "pitchers = cur.fetchall()\n",
    "for pitcher in pitchers:\n",
    "    print(pitcher)\n",
    "            "
   ]
  },
  {
   "cell_type": "markdown",
   "metadata": {},
   "source": [
    "## 데이터 추가"
   ]
  },
  {
   "cell_type": "code",
   "execution_count": 11,
   "metadata": {},
   "outputs": [
    {
     "data": {
      "text/plain": [
       "<sqlite3.Cursor at 0x17684d55030>"
      ]
     },
     "execution_count": 11,
     "metadata": {},
     "output_type": "execute_result"
    }
   ],
   "source": [
    "cur.execute(\"insert into eagles(back_no,name,position) values(1,'하주석','내야수')\")"
   ]
  },
  {
   "cell_type": "code",
   "execution_count": 13,
   "metadata": {},
   "outputs": [],
   "source": [
    "conn.commit()"
   ]
  },
  {
   "cell_type": "code",
   "execution_count": 15,
   "metadata": {},
   "outputs": [
    {
     "name": "stdout",
     "output_type": "stream",
     "text": [
      "(5, 56, '박정현', '내야수')\n",
      "(6, 113, '박재경', '내야수')\n",
      "(11, 1, '하주석', '내야수')\n"
     ]
    }
   ],
   "source": [
    "cur.execute(\"select * from eagles where position ='내야수'\")\n",
    "pitchers = cur.fetchall()\n",
    "for pitcher in pitchers:\n",
    "    print(pitcher)"
   ]
  },
  {
   "cell_type": "code",
   "execution_count": 16,
   "metadata": {},
   "outputs": [],
   "source": [
    "# 파라메터 : 튜플을 사용해서 전달"
   ]
  },
  {
   "cell_type": "code",
   "execution_count": 17,
   "metadata": {},
   "outputs": [],
   "source": [
    "back_no = 25\n",
    "name = '최진행'\n",
    "position = '외야수'\n",
    "sql = 'insert into eagles(back_no,name,position) values(?,?,?)'\n",
    "cur.execute(sql, (back_no, name, position))\n",
    "conn.commit()"
   ]
  },
  {
   "cell_type": "code",
   "execution_count": 18,
   "metadata": {},
   "outputs": [
    {
     "name": "stdout",
     "output_type": "stream",
     "text": [
      "(3, 3, '노태형', '외야수')\n",
      "(7, 104, '임종찬', '외야수')\n",
      "(12, 25, '최진행', '외야수')\n"
     ]
    }
   ],
   "source": [
    "cur.execute(\"select * from eagles where position ='외야수'\")\n",
    "pitchers = cur.fetchall()\n",
    "for pitcher in pitchers:\n",
    "    print(pitcher)"
   ]
  },
  {
   "cell_type": "code",
   "execution_count": 19,
   "metadata": {},
   "outputs": [],
   "source": [
    "players = [(38,'안영명','투수'),(54,'서균','투수')]\n",
    "for player in players:\n",
    "    cur.execute(sql, player)\n",
    "conn.commit()\n",
    "\n"
   ]
  },
  {
   "cell_type": "code",
   "execution_count": 21,
   "metadata": {},
   "outputs": [],
   "source": [
    "# executemany() 사용\n",
    "players = [(48,'벨','투수'),(53,'김민우','투수')]\n",
    "cur.executemany(sql,players)\n",
    "conn.commit()"
   ]
  },
  {
   "cell_type": "markdown",
   "metadata": {},
   "source": [
    "## 데이터 조회"
   ]
  },
  {
   "cell_type": "code",
   "execution_count": 27,
   "metadata": {},
   "outputs": [
    {
     "name": "stdout",
     "output_type": "stream",
     "text": [
      "(3, 3, '노태형', '외야수')\n",
      "(7, 104, '임종찬', '외야수')\n",
      "(12, 25, '최진행', '외야수')\n"
     ]
    }
   ],
   "source": [
    "# 순회 조회**************************************\n",
    "sql = \"select * from eagles where position ='외야수'\"\n",
    "cur.execute(sql)\n",
    "for result in cur:\n",
    "    print(result)"
   ]
  },
  {
   "cell_type": "code",
   "execution_count": 40,
   "metadata": {},
   "outputs": [
    {
     "name": "stdout",
     "output_type": "stream",
     "text": [
      "(3, 3, '노태형', '외야수')\n"
     ]
    }
   ],
   "source": [
    "# 한 건 조회**************************************\n",
    "cur.execute(sql)\n",
    "result = cur.fetchone()\n",
    "print(result)"
   ]
  },
  {
   "cell_type": "code",
   "execution_count": 41,
   "metadata": {},
   "outputs": [
    {
     "name": "stdout",
     "output_type": "stream",
     "text": [
      "(7, 104, '임종찬', '외야수')\n"
     ]
    }
   ],
   "source": [
    "\n",
    "result = cur.fetchone()\n",
    "print(result)"
   ]
  },
  {
   "cell_type": "code",
   "execution_count": 43,
   "metadata": {},
   "outputs": [
    {
     "data": {
      "text/plain": [
       "[(1, 22, '이태양', '투수'), (4, 108, '최이경', '투수'), (8, 62, '강재민', '투수')]"
      ]
     },
     "execution_count": 43,
     "metadata": {},
     "output_type": "execute_result"
    }
   ],
   "source": [
    "# 갯수 지정 조회**********************************\n",
    "sql = \"select * from eagles where position ='투수'\"\n",
    "cur.execute(sql)\n",
    "results = cur.fetchmany(3)\n",
    "results"
   ]
  },
  {
   "cell_type": "code",
   "execution_count": 44,
   "metadata": {},
   "outputs": [
    {
     "data": {
      "text/plain": [
       "[(9, 26, '한승주', '투수'),\n",
       " (10, 111, '김승일', '투수'),\n",
       " (13, 38, '안영명', '투수'),\n",
       " (14, 54, '서균', '투수'),\n",
       " (15, 48, '벨', '투수'),\n",
       " (16, 53, '김민우', '투수')]"
      ]
     },
     "execution_count": 44,
     "metadata": {},
     "output_type": "execute_result"
    }
   ],
   "source": [
    "# 전부 조회****************************************\n",
    "results = cur.fetchall()\n",
    "results"
   ]
  },
  {
   "cell_type": "code",
   "execution_count": 46,
   "metadata": {},
   "outputs": [
    {
     "data": {
      "text/plain": [
       "[(1, 22, '이태양', '투수'),\n",
       " (4, 108, '최이경', '투수'),\n",
       " (8, 62, '강재민', '투수'),\n",
       " (9, 26, '한승주', '투수'),\n",
       " (10, 111, '김승일', '투수'),\n",
       " (13, 38, '안영명', '투수'),\n",
       " (14, 54, '서균', '투수'),\n",
       " (15, 48, '벨', '투수'),\n",
       " (16, 53, '김민우', '투수')]"
      ]
     },
     "execution_count": 46,
     "metadata": {},
     "output_type": "execute_result"
    }
   ],
   "source": [
    "sql = \"select * from eagles where position ='투수'\"\n",
    "cur.execute(sql)\n",
    "results = cur.fetchall()\n",
    "results"
   ]
  },
  {
   "cell_type": "code",
   "execution_count": 48,
   "metadata": {},
   "outputs": [
    {
     "data": {
      "text/plain": [
       "[(22, '이태양'),\n",
       " (108, '최이경'),\n",
       " (56, '박정현'),\n",
       " (113, '박재경'),\n",
       " (104, '임종찬'),\n",
       " (62, '강재민'),\n",
       " (26, '한승주'),\n",
       " (111, '김승일'),\n",
       " (25, '최진행'),\n",
       " (38, '안영명'),\n",
       " (54, '서균'),\n",
       " (48, '벨'),\n",
       " (53, '김민우')]"
      ]
     },
     "execution_count": 48,
     "metadata": {},
     "output_type": "execute_result"
    }
   ],
   "source": [
    "# 필요한 컬럼만 조회\n",
    "cur.execute(sql)\n",
    "results = cur.fetchall()\n",
    "results"
   ]
  },
  {
   "cell_type": "code",
   "execution_count": 52,
   "metadata": {},
   "outputs": [
    {
     "data": {
      "text/plain": [
       "[(1, 22, '이태양', '투수'),\n",
       " (9, 26, '한승주', '투수'),\n",
       " (12, 25, '최진행', '외야수'),\n",
       " (13, 38, '안영명', '투수')]"
      ]
     },
     "execution_count": 52,
     "metadata": {},
     "output_type": "execute_result"
    }
   ],
   "source": [
    "# 백넘버가 20 ~ 39 까지인 선수들의 명수 *******************\n",
    "sql = \"select * from eagles where back_no between 20 and 39\"\n",
    "cur.execute(sql)\n",
    "results = cur.fetchall()\n",
    "results"
   ]
  },
  {
   "cell_type": "code",
   "execution_count": 54,
   "metadata": {},
   "outputs": [
    {
     "data": {
      "text/plain": [
       "(6, 113, '박재경', '내야수')"
      ]
     },
     "execution_count": 54,
     "metadata": {},
     "output_type": "execute_result"
    }
   ],
   "source": [
    "# 백넘버가 가장 큰 번호를 갖는 선수는? *******************\n",
    "sql = \"select * from eagles order by back_no desc limit 1\"\n",
    "cur.execute(sql)\n",
    "results = cur.fetchone()\n",
    "results"
   ]
  },
  {
   "cell_type": "code",
   "execution_count": 56,
   "metadata": {},
   "outputs": [
    {
     "data": {
      "text/plain": [
       "[('내야수', 3), ('외야수', 3), ('투수', 9), ('포수', 1)]"
      ]
     },
     "execution_count": 56,
     "metadata": {},
     "output_type": "execute_result"
    }
   ],
   "source": [
    "# 포지션별 사람 수\n",
    "sql = \"select position , count(*) from eagles group by position\"\n",
    "cur.execute(sql)\n",
    "results = cur.fetchall()\n",
    "results\n"
   ]
  },
  {
   "cell_type": "markdown",
   "metadata": {},
   "source": [
    "# 데이터 검색"
   ]
  },
  {
   "cell_type": "code",
   "execution_count": 62,
   "metadata": {},
   "outputs": [
    {
     "data": {
      "text/plain": [
       "(5, 56, '박정현', '내야수')"
      ]
     },
     "execution_count": 62,
     "metadata": {},
     "output_type": "execute_result"
    }
   ],
   "source": [
    "# back_no가 56번인 선수는?\n",
    "back_no = 56\n",
    "sql = \"select * from eagles where back_no =?\"\n",
    "cur.execute(sql, (back_no,))\n",
    "results = cur.fetchone()\n",
    "results"
   ]
  },
  {
   "cell_type": "markdown",
   "metadata": {},
   "source": [
    "# 데이터 변경\n"
   ]
  },
  {
   "cell_type": "code",
   "execution_count": 66,
   "metadata": {},
   "outputs": [],
   "source": [
    "# id가 11인 하주석 선수의 포지션을 외야수로 변경\n",
    "id_ = 11\n",
    "position = '내야수'\n",
    "sql = \"update eagles set position =? where id = ?\"\n",
    "cur.execute(sql, (position, id_))\n",
    "conn.commit()\n"
   ]
  },
  {
   "cell_type": "markdown",
   "metadata": {},
   "source": [
    "# 데이터 삭제"
   ]
  },
  {
   "cell_type": "code",
   "execution_count": 67,
   "metadata": {},
   "outputs": [],
   "source": [
    "sql = \"delete from eagles where id = ?\"\n",
    "cur.execute(sql, (id_,))\n",
    "conn.commit()"
   ]
  },
  {
   "cell_type": "code",
   "execution_count": null,
   "metadata": {},
   "outputs": [],
   "source": []
  }
 ],
 "metadata": {
  "kernelspec": {
   "display_name": "Python 3",
   "language": "python",
   "name": "python3"
  },
  "language_info": {
   "codemirror_mode": {
    "name": "ipython",
    "version": 3
   },
   "file_extension": ".py",
   "mimetype": "text/x-python",
   "name": "python",
   "nbconvert_exporter": "python",
   "pygments_lexer": "ipython3",
   "version": "3.7.6"
  }
 },
 "nbformat": 4,
 "nbformat_minor": 4
}
