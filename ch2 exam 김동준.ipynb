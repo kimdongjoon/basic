{
 "cells": [
  {
   "cell_type": "code",
   "execution_count": 5,
   "metadata": {},
   "outputs": [
    {
     "name": "stdout",
     "output_type": "stream",
     "text": [
      "숫자    : 정수 또는 실수 형태의 데이터 형태로 사칙연산이 가능. \n",
      "문자열  : 연속된 텍스트 기반의 데이터\n"
     ]
    }
   ],
   "source": [
    "\"\"\"\n",
    "1. 다음은 파이선에서 많이 사용되는 데이터 형이다. \n",
    "데이터 형의 정의 및 특징에 대해 설명하시오.\n",
    "\n",
    "#1. 숫자    : 정수 또는 실수 형태의 데이터 형태로 사칙연산이 가능. \n",
    "#2. 문자열  : 연속된 텍스트 기반의 데이터\n",
    "\"\"\"\n",
    "print('숫자    : 정수 또는 실수 형태의 데이터 형태로 사칙연산이 가능. ')\n",
    "print('문자열  : 연속된 텍스트 기반의 데이터')"
   ]
  },
  {
   "cell_type": "code",
   "execution_count": 2,
   "metadata": {},
   "outputs": [
    {
     "name": "stdout",
     "output_type": "stream",
     "text": [
      "-72\n"
     ]
    }
   ],
   "source": [
    "\"\"\"\n",
    "2. 다음 프로그램의 실행 결과는\n",
    "\"\"\"\n",
    "a = 7\n",
    "b = 10\n",
    "\n",
    "c = a + b * 2\n",
    "c %= 5\n",
    "c **= 3\n",
    "c -= c * 10\n",
    "\n",
    "print(c)"
   ]
  },
  {
   "cell_type": "code",
   "execution_count": 17,
   "metadata": {},
   "outputs": [
    {
     "name": "stdout",
     "output_type": "stream",
     "text": [
      "반지름을 입력하세요 :10\n",
      "반지름 10\n",
      "원의 둘레 : 62.80cm\n",
      "원의 면적 : 314.00cm2\n"
     ]
    }
   ],
   "source": [
    "\"\"\"\n",
    "3. 원의 둘레와 면적을 구하는 프로그램을 작성하시오.\n",
    "단, 실행 결과는 아래와 같이 정확하게 일치하도록 하고, \n",
    "반지름은 키보드로 입력받아 처리한다. \n",
    "\n",
    "실행결과\n",
    "반지름을 입력하세요 : 10\n",
    "반지름 10cm\n",
    "원의 둘레 : 62.80cm\n",
    "원의 면적 : 314.00 cm2\n",
    "\"\"\"\n",
    "#define\n",
    "pi = 3.14\n",
    "#159265359\n",
    "\n",
    "r = int(input(\"반지름을 입력하세요 :\"))\n",
    "print(\"반지름 %d\" % r)\n",
    "i = 2 * pi * r \n",
    "s = r * r * pi\n",
    "print(\"원의 둘레 : %0.2fcm\" % i )\n",
    "print(\"원의 면적 : %0.2fcm2\" % s )"
   ]
  },
  {
   "cell_type": "code",
   "execution_count": 18,
   "metadata": {},
   "outputs": [
    {
     "name": "stdout",
     "output_type": "stream",
     "text": [
      "책값을 입력하세요 :15000\n",
      "할인율을 입력하세요(%) :15\n",
      "배송료를 입력하세요 :3000\n",
      "결제 금액 : 15750\n"
     ]
    }
   ],
   "source": [
    "\"\"\"\n",
    "4. 온라인 서점에서 결제할 금액을 계산하는 프로그램을 작성하시오.\n",
    "단 실행결과는 아래와 같이 정확하게 일치하도록 하고, \n",
    "책 값, 할인율, 배송료는 키보드로 입력받아 처리한다.\n",
    "\n",
    "* 힌트 : 결제 금액 : 책 값 - (책값 * 할인율 / 100) + 배송료\n",
    "\n",
    "실행결과 \n",
    "책값을 입력하세요 : 15000\n",
    "할인율을 입력하세요(%) : 15\n",
    "배송료를 입력하세요 : 3000\n",
    "결제 금액 : 15750원\n",
    "\"\"\"\n",
    "book = int(input(\"책값을 입력하세요 :\"))\n",
    "dc = int(input(\"할인율을 입력하세요(%) :\"))\n",
    "delevery = int(input(\"배송료를 입력하세요 :\"))\n",
    "\n",
    "total = book - (book * dc / 100) + delevery\n",
    "\n",
    "print(\"결제 금액 : %d\" % total)"
   ]
  },
  {
   "cell_type": "code",
   "execution_count": 26,
   "metadata": {},
   "outputs": [
    {
     "name": "stdout",
     "output_type": "stream",
     "text": [
      "이름을 입력하세요 :안지영\n",
      "현재년을 입력하세요 :2020\n",
      "탄생년을 입력하세요 :1997\n",
      "안지영님의 나이는 24세 입니다!\n"
     ]
    }
   ],
   "source": [
    "\"\"\"\n",
    "5. 이름, 현재년, 출생년을 입력받아 나이를 계산하는 \n",
    "   프로그램을 작성하시오. \n",
    "   \n",
    "   *힌트 : 나이 = 현재년 - 출생년 + 1\n",
    "   \n",
    "   실행결과\n",
    "   이름을 입력하세요 : 안지영\n",
    "   현재년을 입력하세요 : 2020\n",
    "   탄생년을 입력하세요 : 1997\n",
    "   안지영님의 나이는 24세 입니다!\n",
    "   \n",
    "\"\"\"\n",
    "name = input(\"이름을 입력하세요 :\")\n",
    "year = int(input(\"현재년을 입력하세요 :\"))\n",
    "birth = int(input(\"탄생년을 입력하세요 :\"))\n",
    "\n",
    "calc = year - birth + 1\n",
    "\n",
    "print(\"%s님의 나이는 %d세 입니다!\" % (name, calc))"
   ]
  },
  {
   "cell_type": "code",
   "execution_count": 36,
   "metadata": {},
   "outputs": [
    {
     "name": "stdout",
     "output_type": "stream",
     "text": [
      "연을 입력하세요 :2020\n",
      "월을 입력하세요 :1\n",
      "일을 입력하세요 :5\n",
      "2020-01-05\n"
     ]
    }
   ],
   "source": [
    "\"\"\"\n",
    "6. 연, 월, 일을 입력받아 ####-##-##의 형태로 출력하는 프로그램을 \n",
    "   작성하시오. \n",
    "   단, 실행 결과에서와 같이 월과 일에 1~9의 숫자가 입력되면 \n",
    "   그 숫자 앞에 0을 채운다. \n",
    "\n",
    "    실행결과 \n",
    "    연을 입력하세요 : 2020\n",
    "    월을 입력하세요 : 1\n",
    "    일을 입력하세요 : 5\n",
    "    2020-01-05\n",
    "\"\"\"\n",
    "year = int(input(\"연을 입력하세요 :\")) \n",
    "month = int(input(\"월을 입력하세요 :\"))\n",
    "day = int(input(\"일을 입력하세요 :\"))\n",
    "\n",
    "\n",
    "print(\"%d-%02d-%02d\" % (year,month,day)) \n"
   ]
  },
  {
   "cell_type": "code",
   "execution_count": 38,
   "metadata": {},
   "outputs": [
    {
     "name": "stdout",
     "output_type": "stream",
     "text": [
      "-------------------------------------------------------\n"
     ]
    }
   ],
   "source": [
    "print(\"-------------------------------------------------------\")"
   ]
  },
  {
   "cell_type": "code",
   "execution_count": 39,
   "metadata": {},
   "outputs": [],
   "source": [
    "#3장 연습문제 조건문"
   ]
  },
  {
   "cell_type": "code",
   "execution_count": 48,
   "metadata": {},
   "outputs": [
    {
     "name": "stdout",
     "output_type": "stream",
     "text": [
      "False\n",
      "False\n",
      "False\n",
      "True\n",
      "False\n",
      "False\n",
      "True\n",
      "False\n",
      "True\n"
     ]
    }
   ],
   "source": [
    "\"\"\"\n",
    "1. 변수 a,b,c의 값에 따라 연산의 결과가\n",
    "   참이면 True, 거짓이면 False를 빈 칸에 적으시오.\n",
    "                a != 2   not(b >= a)   c/2 > a*3\n",
    "  a   b   c\n",
    "  2   5  -3\n",
    "  3   7  -4\n",
    "-10  10  -2\n",
    "\"\"\"\n",
    "a = 2\n",
    "b = 5\n",
    "c = -3\n",
    "\n",
    "_a = 3\n",
    "_b = 7\n",
    "_c = -4\n",
    "\n",
    "__a = -10\n",
    "__b = 10\n",
    "__c = -2\n",
    "\n",
    "if a!=2 :\n",
    "    print(\"True\")\n",
    "else : \n",
    "    print(\"False\")\n",
    "    \n",
    "if not(b>=a) :\n",
    "    print(\"True\")\n",
    "else : \n",
    "    print(\"False\")    \n",
    "    \n",
    "if c/2 > a*3 :\n",
    "    print(\"True\")\n",
    "else : \n",
    "    print(\"False\")    \n",
    "\n",
    "    \n",
    "if _a!=2 :\n",
    "    print(\"True\")\n",
    "else : \n",
    "    print(\"False\")\n",
    "    \n",
    "if not(_b>=_a) :\n",
    "    print(\"True\")\n",
    "else : \n",
    "    print(\"False\")    \n",
    "    \n",
    "if _c/2 > _a*3 :\n",
    "    print(\"True\")\n",
    "else : \n",
    "    print(\"False\")    \n",
    "    \n",
    "    \n",
    "if __a!=2 :\n",
    "    print(\"True\")\n",
    "else : \n",
    "    print(\"False\")\n",
    "    \n",
    "if not(__b>=__a) :\n",
    "    print(\"True\")\n",
    "else : \n",
    "    print(\"False\")    \n",
    "    \n",
    "if __c/2 > __a*3 :\n",
    "    print(\"True\")\n",
    "else : \n",
    "    print(\"False\")        \n",
    "    "
   ]
  },
  {
   "cell_type": "code",
   "execution_count": 52,
   "metadata": {},
   "outputs": [
    {
     "name": "stdout",
     "output_type": "stream",
     "text": [
      "False\n",
      "True\n",
      "True\n",
      "False\n",
      "False\n",
      "True\n"
     ]
    }
   ],
   "source": [
    "\"\"\"\n",
    "2. 변수 a,b,c의 값에 따라 연산의 결과가 참이면 True,\n",
    "   거짓이면 False를 빈칸에 적으시오. \n",
    "        a > 2 or c > b and c > 2     not(a > 5 or b > c and c >=3)\n",
    "  a   b   c\n",
    " -5   3   2\n",
    " 10   5   7\n",
    " -3  10   2\n",
    "\"\"\"\n",
    "a = -5\n",
    "b = 3\n",
    "c = 2\n",
    "\n",
    "_a = 10\n",
    "_b = 5\n",
    "_c = 7\n",
    "\n",
    "__a = -3\n",
    "__b = 10\n",
    "__c = 2\n",
    "\n",
    "if a > 2 or c > b and c > 2 :\n",
    "    print(\"True\")\n",
    "else : \n",
    "    print(\"False\")\n",
    "    \n",
    "if not(a > 5 or b > c and c >=3) :\n",
    "    print(\"True\")\n",
    "else : \n",
    "    print(\"False\")    \n",
    "    \n",
    "    \n",
    "if _a > 2 or _c > _b and _c > 2 :\n",
    "    print(\"True\")\n",
    "else : \n",
    "    print(\"False\")\n",
    "    \n",
    "if not(_a > 5 or _b > _c and _c >=3) :\n",
    "    print(\"True\")\n",
    "else : \n",
    "    print(\"False\")        \n",
    "\n",
    "    \n",
    "if __a > 2 or __c > __b and __c > 2 :\n",
    "    print(\"True\")\n",
    "else : \n",
    "    print(\"False\")\n",
    "    \n",
    "if not(__a > 5 or __b > __c and __c >=3) :\n",
    "    print(\"True\")\n",
    "else : \n",
    "    print(\"False\")        \n",
    "    "
   ]
  },
  {
   "cell_type": "code",
   "execution_count": 54,
   "metadata": {},
   "outputs": [
    {
     "name": "stdout",
     "output_type": "stream",
     "text": [
      "4\n"
     ]
    }
   ],
   "source": [
    "\"\"\"\n",
    "3. 다음 프로그램의 실행 결과는?\n",
    "a = 2\n",
    "z = a * 5\n",
    "w = (z -3) * (a-2) / 7 + 10\n",
    "\n",
    "if a > z or w > a :\n",
    "    y = 2 * a\n",
    "else :\n",
    "    y = 4 * a\n",
    "    \n",
    "    print(y)\n",
    "\"\"\"\n",
    "a = 2\n",
    "z = a * 5\n",
    "w = (z -3) * (a-2) / 7 + 10\n",
    "\n",
    "if a > z or w > a :\n",
    "    y = 2 * a\n",
    "else :\n",
    "    y = 4 * a\n",
    "    \n",
    "print(y)"
   ]
  },
  {
   "cell_type": "code",
   "execution_count": 86,
   "metadata": {},
   "outputs": [
    {
     "name": "stdout",
     "output_type": "stream",
     "text": [
      "단위를 입력하세요(1:섭씨, 2:화씨): 2\n",
      "온도를 입력하세요 : 80\n",
      "물의 섭씨 온도 : 26.67, 상태 : 액체\n"
     ]
    }
   ],
   "source": [
    "\"\"\"\n",
    "4. 물의 섭씨 또는 화씨 온도를 입력받아 섭씨 온도와 물의 상태를\n",
    "   판별하는 프로그램을 작성하시오. \n",
    "   단, 화씨 온도가 입력될 경우에는 섭씨 온도로 변환한다. \n",
    "   \n",
    "   실행 결과\n",
    "   단위를 입력하세요(1:섭씨, 2:화씨): 2\n",
    "   온도를 입력하세요 : 80\n",
    "   물의 섭씨 온도 : 26.67, 상태 : 액체\n",
    "   \n",
    "   섭씨 : Celsius 화씨 : Fahrenheit\n",
    "\"\"\"\n",
    "#Celsius\n",
    "#Fahrenheit\n",
    "\n",
    "i = int(input(\"단위를 입력하세요(1:섭씨, 2:화씨): \"))\n",
    "if i == 1 :\n",
    "    Temperature = int(input(\"온도를 입력하세요 : \"))\n",
    "    if Temperature >=100 :\n",
    "        state = \"기체\"\n",
    "    else :\n",
    "        state = \"액체\"\n",
    "elif i == 2 :\n",
    "    Temperature = float(input(\"온도를 입력하세요 : \"))\n",
    "    if Temperature >=100 :\n",
    "        state = \"기체\"\n",
    "    else :\n",
    "        state = \"액체\"\n",
    "    \n",
    "    Temperature = (Temperature - 32) * 5/9\n",
    "    \n",
    "print(\"물의 섭씨 온도 : %0.2f, 상태 : %s\" % (Temperature, state))\n",
    "\n"
   ]
  },
  {
   "cell_type": "code",
   "execution_count": 92,
   "metadata": {},
   "outputs": [
    {
     "name": "stdout",
     "output_type": "stream",
     "text": [
      "아이디를 입력하세요 :rubato\n",
      "회원 레벨을 입력해 주세요 :3\n",
      "일부 콘텐츠 이용가능\n"
     ]
    }
   ],
   "source": [
    "\"\"\"\n",
    "5. 아이디를 입력받아 아이디가 'admin' 이면 \n",
    "   '모든 콘텐츠 이용 가능'을 출력하고 프로그램을 종료한다. \n",
    "   아이디가 'admin'이 아니면 회원 레벨을 입력받아 \n",
    "   회원 레벨이 2~7이면 '일부 콘텐츠 이용가능'을 출력하고, 그렇지 않으면\n",
    "   '콘텐츠 이용 불가'를 출력하는 프로그램을 작성하시오. \n",
    "   \n",
    "   실행결과 \n",
    "   아이디를 입력하세요 : rubato\n",
    "   회원 레벨을 입력해 주세요 : 3\n",
    "   일부 콘텐츠 이용 가능 \n",
    "\"\"\"\n",
    "id = input(\"아이디를 입력하세요 :\")\n",
    "lv = int(input(\"회원 레벨을 입력해 주세요 :\"))\n",
    "\n",
    "if id == 'admin' :\n",
    "    print(\"모든 콘텐츠 이용가능\")\n",
    "elif lv > 1 and lv <= 7 :\n",
    "    print(\"일부 콘텐츠 이용가능\")\n",
    "else :\n",
    "    print(\"콘텐츠 이용 불가\")\n"
   ]
  },
  {
   "cell_type": "code",
   "execution_count": 104,
   "metadata": {},
   "outputs": [
    {
     "name": "stdout",
     "output_type": "stream",
     "text": [
      "나이를 입력하세요 :6\n",
      "입장료는 1000원입니다. \n"
     ]
    }
   ],
   "source": [
    "\"\"\"\n",
    "6. 나이를 입력받아 입장료를 계산하는 프로그램을 작성하시오. \n",
    "   단, 10세 이하의 입장료는 1000원\n",
    "   65세 이상의 입장료는 0원,\n",
    "   기본 입장료는 2000원이다. \n",
    "   \n",
    "   실행결과 \n",
    "   나이를 입력하세요 : 6\n",
    "   입장료는 1000원 입니다. \n",
    "\"\"\"\n",
    "age = int(input(\"나이를 입력하세요 :\"))\n",
    "pay = 2000\n",
    "\n",
    "if age > 65 :\n",
    "    print(\"입장료는 %d원입니다. \"% (pay - pay))\n",
    "elif age <= 10 :\n",
    "    print(\"입장료는 %d원입니다. \"% (pay/2))\n",
    "else :\n",
    "    print(\"입장료는 %d원입니다. \"% (pay))\n",
    "\n"
   ]
  },
  {
   "cell_type": "code",
   "execution_count": 112,
   "metadata": {},
   "outputs": [
    {
     "name": "stdout",
     "output_type": "stream",
     "text": [
      "영어시험 점수를 입력하세요 :85\n",
      "수학시험 점수를 입력하세요 :75\n",
      "재시험 기회제공\n"
     ]
    }
   ],
   "source": [
    "\"\"\"\n",
    "7. 영어와 수학이 모두 80점 이상이면 '합격', \n",
    "   영어와 수학이 모두 80점 미만이면 '불합격', \n",
    "   두 시험중 한 과목이 80점 이상이면 '재시험 기회제공'\n",
    "   의 메시지를 출력하는 프로그램을 작성하시오. \n",
    "   \n",
    "   실행결과\n",
    "   영어시험 점수를 입력하세요 : 85\n",
    "   수학시험 점수를 입력하세요 : 75\n",
    "   재시험 기회제공\n",
    "\"\"\"\n",
    "eng = int(input(\"영어시험 점수를 입력하세요 :\"))\n",
    "mat = int(input(\"수학시험 점수를 입력하세요 :\"))\n",
    "\n",
    "if eng >= 80 and mat >= 80 :\n",
    "    print(\"합격\")\n",
    "elif eng < 80 and mat < 80 :\n",
    "    print(\"불합격\")\n",
    "elif eng >= 80 or mat >= 80 :\n",
    "    print(\"재시험 기회제공\")\n",
    "\n",
    "\n"
   ]
  },
  {
   "cell_type": "code",
   "execution_count": null,
   "metadata": {},
   "outputs": [],
   "source": []
  }
 ],
 "metadata": {
  "kernelspec": {
   "display_name": "Python 3",
   "language": "python",
   "name": "python3"
  },
  "language_info": {
   "codemirror_mode": {
    "name": "ipython",
    "version": 3
   },
   "file_extension": ".py",
   "mimetype": "text/x-python",
   "name": "python",
   "nbconvert_exporter": "python",
   "pygments_lexer": "ipython3",
   "version": "3.7.6"
  }
 },
 "nbformat": 4,
 "nbformat_minor": 4
}
