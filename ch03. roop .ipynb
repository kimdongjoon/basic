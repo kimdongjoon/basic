{
 "cells": [
  {
   "cell_type": "code",
   "execution_count": 1,
   "metadata": {},
   "outputs": [
    {
     "name": "stdout",
     "output_type": "stream",
     "text": [
      "숫자를 입력하세요 :10\n",
      "양수\n"
     ]
    }
   ],
   "source": [
    "#예제 3-1. if~ else~ 구문으로 양수 판별\n",
    "x = int(input('숫자를 입력하세요 :'))\n",
    "\n",
    "if x > 0 :\n",
    "    print(\"양수\")\n",
    "else :\n",
    "    print(\"0 또는 음수\")\n"
   ]
  },
  {
   "cell_type": "code",
   "execution_count": 6,
   "metadata": {},
   "outputs": [
    {
     "name": "stdout",
     "output_type": "stream",
     "text": [
      "숫자를 입력하세요 :2\n",
      "양수\n",
      "양수!!!!!!!!!!\n"
     ]
    }
   ],
   "source": [
    "#예제 3-1. extend 1\n",
    "x = int(input('숫자를 입력하세요 :'))\n",
    "\n",
    "if x == 0 :\n",
    "    print(\"0\")\n",
    "elif x > 0 :\n",
    "    print(\"양수\")\n",
    "    print(\"양수!!!!!!!!!!\")\n",
    "else :\n",
    "    print(\"음수\")\n",
    "    print(\"음수!!!!!!!!!!\")\n"
   ]
  },
  {
   "cell_type": "code",
   "execution_count": 8,
   "metadata": {},
   "outputs": [],
   "source": [
    "if x >50 and x<=70 :\n",
    "    print(\"x는 50보다 크고 70보다 작거나 같다\")"
   ]
  },
  {
   "cell_type": "code",
   "execution_count": 11,
   "metadata": {},
   "outputs": [
    {
     "name": "stdout",
     "output_type": "stream",
     "text": [
      "필기 성적을 입력하세요 : 80\n",
      "실기 성적을 입력하세요 : 80\n",
      "합격\n"
     ]
    }
   ],
   "source": [
    "#예제 3-4\n",
    "score1 = int(input(\"필기 성적을 입력하세요 : \"))\n",
    "score2 = int(input(\"실기 성적을 입력하세요 : \"))\n",
    "\n",
    "if score1 >= 80 and score2 >= 80 :\n",
    "    print(\"합격\")\n",
    "else : \n",
    "    print(\"불합격\")\n",
    "    "
   ]
  },
  {
   "cell_type": "code",
   "execution_count": 14,
   "metadata": {},
   "outputs": [
    {
     "name": "stdout",
     "output_type": "stream",
     "text": [
      "아이디를 입력하세요aa\n",
      "회원 레벨을 입력하세요. 1\n",
      "관리자입니다. \n"
     ]
    }
   ],
   "source": [
    "#예제 3-5 홈페이지 관리자 판별\n",
    "id = input(\"아이디를 입력하세요\")\n",
    "level = int(input(\"회원 레벨을 입력하세요. \"))\n",
    "\n",
    "if (id == \"admin\"  or level == 1):\n",
    "    print(\"관리자입니다. \")\n",
    "else :\n",
    "    print(\"관리자가 아닙니다. \")"
   ]
  },
  {
   "cell_type": "code",
   "execution_count": 18,
   "metadata": {},
   "outputs": [
    {
     "name": "stdout",
     "output_type": "stream",
     "text": [
      "이름을 입력하세요홍길동\n",
      "이름 : 홍길동\n"
     ]
    }
   ],
   "source": [
    "#예제 3-6 논리 연산자 not 의 사용 예\n",
    "name = input('이름을 입력하세요')\n",
    "\n",
    "if not name :\n",
    "    print('이름이 입력되지 않았습니다. ')\n",
    "else :\n",
    "    print('이름 : %s'% name)"
   ]
  },
  {
   "cell_type": "code",
   "execution_count": 22,
   "metadata": {},
   "outputs": [
    {
     "name": "stdout",
     "output_type": "stream",
     "text": [
      "True\n",
      "False\n",
      "False\n",
      "True\n"
     ]
    }
   ],
   "source": [
    "#예제 3-7 참/거짓 판정\n",
    "print(True) if 15 else print(False)\n",
    "print(True) if 0 else print(False)\n",
    "print(True) if None else print(False)\n",
    "print(True) if '홍길동' else print(False)"
   ]
  },
  {
   "cell_type": "code",
   "execution_count": 35,
   "metadata": {},
   "outputs": [
    {
     "name": "stdout",
     "output_type": "stream",
     "text": [
      "True\n"
     ]
    }
   ],
   "source": [
    "if ' ' :\n",
    "    print(True)\n",
    "else :\n",
    "    print(False)\n",
    "\n"
   ]
  },
  {
   "cell_type": "code",
   "execution_count": 40,
   "metadata": {},
   "outputs": [
    {
     "name": "stdout",
     "output_type": "stream",
     "text": [
      "나이를 입력하세요 : 20\n",
      "입장료 : 3000원\n"
     ]
    }
   ],
   "source": [
    "#예제 3-8 if~ 구문의 사용 예\n",
    "age = int(input('나이를 입력하세요 : '))\n",
    "pay = '3000원'\n",
    "\n",
    "if age >= 65 or age < 7 :\n",
    "    pay = '무료'\n",
    "    \n",
    "print('입장료 : %s' % pay)\n",
    "    "
   ]
  },
  {
   "cell_type": "code",
   "execution_count": 41,
   "metadata": {},
   "outputs": [
    {
     "name": "stdout",
     "output_type": "stream",
     "text": [
      "나이를 입력하세요 : 65\n",
      "입장료 : 무료\n"
     ]
    }
   ],
   "source": [
    "#예제 3-8 if~ 구문의 사용 예 extend 1\n",
    "age = int(input('나이를 입력하세요 : '))\n",
    "pay = '3000원'\n",
    "\n",
    "if age >= 65 or age < 7 :\n",
    "    pay = '무료'\n",
    "    \n",
    "print('입장료 : %s' % pay)\n",
    "    "
   ]
  },
  {
   "cell_type": "code",
   "execution_count": 44,
   "metadata": {},
   "outputs": [
    {
     "name": "stdout",
     "output_type": "stream",
     "text": [
      "나이를 입력하세요 : 15\n",
      "입장료 : 3000\n"
     ]
    }
   ],
   "source": [
    "#예제 3-8 if~ 구문의 사용 예 extend 2 \n",
    "#청소년 요금제 계산\n",
    "#정상 소비자 가격은 6천원 이며 청소년인 경우 반값 할인 적용\n",
    "age = int(input('나이를 입력하세요 : '))\n",
    "pay = '6000원'\n",
    "\n",
    "if age >= 65 :\n",
    "    pay = '무료'\n",
    "elif age < 18 :\n",
    "    pay = 3000\n",
    "\n",
    "print('입장료 : %s' % pay)\n",
    "    "
   ]
  },
  {
   "cell_type": "code",
   "execution_count": 54,
   "metadata": {},
   "outputs": [
    {
     "name": "stdout",
     "output_type": "stream",
     "text": [
      "점수를 입력하세요 :91\n",
      "성적 : 91점\n",
      "등급 : A\n"
     ]
    }
   ],
   "source": [
    "#예제 3-10. if~elif ~ else~ 구문의 사용 예\n",
    "score = int(input('점수를 입력하세요 :'))\n",
    "\n",
    "if score > 90 :\n",
    "    grade = 'A'\n",
    "elif score >= 80 :\n",
    "    grade = 'B'\n",
    "elif score >= 70 :\n",
    "    grade = 'C'\n",
    "elif score >= 60 :\n",
    "    grade = 'D'\n",
    "else :\n",
    "    grade ='F'\n",
    "\n",
    "print('성적 : %d점' % score)\n",
    "print('등급 : %s' % grade)"
   ]
  },
  {
   "cell_type": "code",
   "execution_count": 56,
   "metadata": {},
   "outputs": [
    {
     "name": "stdout",
     "output_type": "stream",
     "text": [
      "오늘 년도를 입력하세요2020\n",
      "오늘 월을 입력하세요5\n",
      "오늘 일을 입력하세요29\n",
      "유저의 생년을 입력하세요1987\n",
      "유저의 생월을 입력하세요10\n",
      "유저의 생일을 입력하세요29\n",
      "당신의 만 나이는 33살 입니다.\n"
     ]
    }
   ],
   "source": [
    "#오늘 날짜를 입력받고 \n",
    "#생일을 입력한다. \n",
    "#사용자의 만 나이를 계산하시오.\n",
    "\"\"\"\n",
    "만나이란?\n",
    "대한민국은 일상생활에서는 세는 나이를 사용하며 \n",
    "법률 및 언론보도에서는 대부분 만 나이를 사용합니다.\n",
    "만 나이는 태어난 날을 기준으로 매 생일을 맞을 때마다 \n",
    "한살씩 늘어나며, 태어나서 얼마를 살았느냐를 나타냅니다.\n",
    "\"\"\"\n",
    "\n",
    "\n",
    "year = int(input('오늘 년도를 입력하세요'))\n",
    "month = int(input('오늘 월을 입력하세요'))\n",
    "day = int(input('오늘 일을 입력하세요'))\n",
    "\n",
    "_year = int(input('유저의 생년을 입력하세요'))\n",
    "_month = int(input('유저의 생월을 입력하세요'))\n",
    "_day =int(input('유저의 생일을 입력하세요'))\n",
    "\n",
    "cyear = year - _year\n",
    "cmonth = month - _month\n",
    "cday = day = _day\n",
    "\n",
    "if cmonth < 0 : \n",
    "    print(\"당신의 만 나이는 %d살 입니다.\" % cyear)\n",
    "elif cmonth >= 0 : \n",
    "    print(\"당신의 만 나이는 %d살 입니다.\" % cyear -1)\n",
    "\n",
    "\n",
    "\n"
   ]
  },
  {
   "cell_type": "code",
   "execution_count": null,
   "metadata": {},
   "outputs": [],
   "source": []
  }
 ],
 "metadata": {
  "kernelspec": {
   "display_name": "Python 3",
   "language": "python",
   "name": "python3"
  },
  "language_info": {
   "codemirror_mode": {
    "name": "ipython",
    "version": 3
   },
   "file_extension": ".py",
   "mimetype": "text/x-python",
   "name": "python",
   "nbconvert_exporter": "python",
   "pygments_lexer": "ipython3",
   "version": "3.7.6"
  }
 },
 "nbformat": 4,
 "nbformat_minor": 4
}
