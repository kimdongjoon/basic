{
 "cells": [
  {
   "cell_type": "markdown",
   "metadata": {},
   "source": [
    "Chapter 5. 리스트 "
   ]
  },
  {
   "cell_type": "code",
   "execution_count": 6,
   "metadata": {},
   "outputs": [
    {
     "name": "stdout",
     "output_type": "stream",
     "text": [
      "['사과', '오렌지', '딸기', '포도', '감', '키위', '멜론', '수박']\n",
      "[5, 10.2, '탁구', True, [4, 5, 6]]\n",
      "[1, 3, 5, 7, 9]\n",
      "\n",
      "사과\n",
      "['오렌지', '딸기', '포도']\n",
      "['딸기', '포도', '감', '키위', '멜론', '수박']\n",
      "수박\n",
      "['수박']\n",
      "['감', '키위']\n",
      "키위\n"
     ]
    }
   ],
   "source": [
    "#Ex 5-1. 리스트 생성\n",
    "'''\n",
    "실행결과\n",
    "['사과', '오렌지', '딸기', '포도', '감', '키위', '멜론', '수박']\n",
    "[5, 10.2, '탁구', True, [4, 5, 6]]\n",
    "[1, 3, 5, 7, 9]\n",
    "\n",
    "사과\n",
    "['오렌지', '딸기', '포도']\n",
    "['딸기', '포도', '감', '키위', '멜론', '수박']\n",
    "수박\n",
    "['감', '키위']\n",
    "키위\n",
    "'''\n",
    "\n",
    "fruits = ['사과','오렌지','딸기','포도','감','키위','멜론','수박']\n",
    "list1 = [5, 10.2, '탁구', True, [4,5,6]]\n",
    "numbers = list(range(1,10,2))\n",
    "\n",
    "print(fruits)\n",
    "print(list1)\n",
    "print(numbers)\n",
    "\n",
    "print()\n",
    "print(fruits[0])\n",
    "print(fruits[1:4])\n",
    "print(fruits[2:])\n",
    "print(fruits[-1])\n",
    "print(fruits[-1:])\n",
    "print(fruits[-4:-2])\n",
    "print(fruits[-3])\n",
    "\n"
   ]
  },
  {
   "cell_type": "code",
   "execution_count": 12,
   "metadata": {},
   "outputs": [
    {
     "name": "stdout",
     "output_type": "stream",
     "text": [
      "['red', 'green', 'blue', 'yellow']\n",
      "['red', 'black', 'green', 'blue', 'yellow']\n",
      "['red', 'black', 'green', 'blue', 'yellow', 'purple', 'white']\n",
      "['red', 'black', 'green', 'blue', 'yellow', 'purple', 'white', 'purple', 'white']\n"
     ]
    }
   ],
   "source": [
    "#Ex 5-2 리스트 요소 추가\n",
    "a = ['red', 'green','blue']\n",
    "a.append('yellow')\n",
    "print(a)\n",
    "\n",
    "a.insert(1, 'black')\n",
    "print(a)\n",
    "\n",
    "b = ['purple', 'white']\n",
    "a.extend(b)\n",
    "print(a)\n",
    "\n",
    "c = a + b \n",
    "print(c)"
   ]
  },
  {
   "cell_type": "code",
   "execution_count": 19,
   "metadata": {},
   "outputs": [
    {
     "name": "stdout",
     "output_type": "stream",
     "text": [
      "2\n",
      "[10, 20, 40, 50, 60, 70, 80, 90, 100]\n",
      "[10, 20, 40, 60, 70, 80, 90, 100]\n",
      "[10, 20, 40, 60, 70, 80, 100]\n",
      "[]\n"
     ]
    }
   ],
   "source": [
    "# ex 5-3\n",
    "a = [10,20,30,40,50,60,70,80,90,100]\n",
    "x = a.index(30)\n",
    "print(x)\n",
    "\n",
    "a.pop(x)\n",
    "print(a)\n",
    "\n",
    "del a[3]\n",
    "print(a)\n",
    "\n",
    "a.remove(90)\n",
    "print(a)\n",
    "\n",
    "a.clear()\n",
    "print(a)"
   ]
  },
  {
   "cell_type": "code",
   "execution_count": 22,
   "metadata": {},
   "outputs": [
    {
     "name": "stdout",
     "output_type": "stream",
     "text": [
      "[1, 2, [33, 35]]\n"
     ]
    }
   ],
   "source": [
    "b = [1,2,3]\n",
    "\n",
    "b[2] = [33, 35]\n",
    "print(b)\n"
   ]
  },
  {
   "cell_type": "code",
   "execution_count": 24,
   "metadata": {},
   "outputs": [
    {
     "name": "stdout",
     "output_type": "stream",
     "text": [
      "[1, 2, 33, 35]\n"
     ]
    }
   ],
   "source": [
    "b = [1,2,3]\n",
    "\n",
    "b[2:] = [33, 35]\n",
    "print(b)"
   ]
  },
  {
   "cell_type": "code",
   "execution_count": 26,
   "metadata": {},
   "outputs": [
    {
     "name": "stdout",
     "output_type": "stream",
     "text": [
      "3\n"
     ]
    }
   ],
   "source": [
    "#5-4 리스트 요소 카운트\n",
    "list1 = ['a','bb','c','d','aaa','c','ddd','aaa','b','cc','d','aaa',]\n",
    "length = list1.count('aaa')\n",
    "\n",
    "print(length)"
   ]
  },
  {
   "cell_type": "code",
   "execution_count": 27,
   "metadata": {},
   "outputs": [
    {
     "name": "stdout",
     "output_type": "stream",
     "text": [
      "['h', 'e', 'l', 'l', 'o']\n"
     ]
    }
   ],
   "source": [
    "s = []\n",
    "for c in 'hello' :\n",
    "    s.append(c)\n",
    "print(s)"
   ]
  },
  {
   "cell_type": "code",
   "execution_count": 31,
   "metadata": {},
   "outputs": [
    {
     "name": "stdout",
     "output_type": "stream",
     "text": [
      "[-7, 1, 3, 5, 8, 9, 11, 13]\n",
      "[13, 11, 9, 8, 5, 3, 1, -7]\n"
     ]
    }
   ],
   "source": [
    "# ex 5-5\n",
    "list2 = [-7,1,5,8,3,9,11,13]\n",
    "list2.sort()\n",
    "print(list2)\n",
    "\n",
    "list2.sort(reverse=True)\n",
    "print(list2)"
   ]
  },
  {
   "cell_type": "code",
   "execution_count": 35,
   "metadata": {},
   "outputs": [
    {
     "name": "stdout",
     "output_type": "stream",
     "text": [
      "사과\n",
      "바나나\n",
      "파인애플\n",
      "배\n",
      "키위\n"
     ]
    }
   ],
   "source": [
    "#리스트 요소 추가하기\n",
    "mylist = ['사과','바나나','파인애플','배']\n",
    "mylist.append('키위')\n",
    "\n",
    "for a in mylist:\n",
    "    print(a)"
   ]
  },
  {
   "cell_type": "code",
   "execution_count": 37,
   "metadata": {},
   "outputs": [
    {
     "name": "stdout",
     "output_type": "stream",
     "text": [
      "['사과', '파인애플', '포도', '오렌지', '배']\n"
     ]
    }
   ],
   "source": [
    "#리스트 요소 삭제하기\n",
    "mylist = ['사과','바나나','파인애플','포도','오렌지','배']\n",
    "\n",
    "mylist.remove('바나나')\n",
    "print(mylist)"
   ]
  },
  {
   "cell_type": "code",
   "execution_count": 45,
   "metadata": {},
   "outputs": [
    {
     "name": "stdout",
     "output_type": "stream",
     "text": [
      "총점 : 666, 평균 : 83.25\n"
     ]
    }
   ],
   "source": [
    "#5.7 리스트로 합계와 평균 구하기\n",
    "scores = [88,75,90,95,77,69,80,92]\n",
    "\n",
    "sum = 0\n",
    "for score in scores:\n",
    "    sum+= score\n",
    "    \n",
    "avg = sum / 8\n",
    "\n",
    "print(\"총점 : %d, 평균 : %.2f\" % (sum,avg))"
   ]
  },
  {
   "cell_type": "code",
   "execution_count": 46,
   "metadata": {},
   "outputs": [
    {
     "name": "stdout",
     "output_type": "stream",
     "text": [
      "토끼\n",
      "거북이\n",
      "사자\n",
      "호랑이\n"
     ]
    }
   ],
   "source": [
    "#5.8 while문에서 리스트 활용\n",
    "animals = ['토끼','거북이','사자','호랑이']\n",
    "\n",
    "i = 0 \n",
    "while i < len(animals):\n",
    "    print(animals[i])\n",
    "    \n",
    "    i+=1"
   ]
  },
  {
   "cell_type": "markdown",
   "metadata": {},
   "source": [
    "5.4.1 2차원 리스트의 구조"
   ]
  },
  {
   "cell_type": "code",
   "execution_count": 64,
   "metadata": {},
   "outputs": [
    {
     "name": "stdout",
     "output_type": "stream",
     "text": [
      "[10, 20, 30]\n",
      "[40, 50, 60]\n",
      "10\n",
      "20\n",
      "30\n",
      "40\n",
      "50\n",
      "60\n"
     ]
    }
   ],
   "source": [
    "#2차원 리스트의 기본 구조\n",
    "numbers = [[10,20,30],[40,50,60]]\n",
    "\n",
    "print(numbers[0])\n",
    "print(numbers[1])\n",
    "\n",
    "print(numbers[0][0])\n",
    "print(numbers[0][1])\n",
    "print(numbers[0][2])\n",
    "\n",
    "print(numbers[1][0])\n",
    "print(numbers[1][1])\n",
    "print(numbers[1][2])"
   ]
  },
  {
   "cell_type": "code",
   "execution_count": 2,
   "metadata": {},
   "outputs": [
    {
     "name": "stdout",
     "output_type": "stream",
     "text": [
      "1번째 학생의 합계 : 260, 평균 : 86.67\n",
      "2번째 학생의 합계 : 258, 평균 : 86.00\n",
      "3번째 학생의 합계 : 254, 평균 : 84.67\n",
      "4번째 학생의 합계 : 254, 평균 : 84.67\n",
      "5번째 학생의 합계 : 257, 평균 : 85.67\n",
      "6번째 학생의 합계 : 236, 평균 : 78.67\n",
      "7번째 학생의 합계 : 248, 평균 : 82.67\n",
      "8번째 학생의 합계 : 258, 평균 : 86.00\n"
     ]
    }
   ],
   "source": [
    "#ex 5-10. 8명 학생의 3과목 성적의 합계/평균\n",
    "\n",
    "scores = [[96,84,80],[96,86,76],[76,95,83],[89,96,69],[90,76,91],[82,66,88],[83,86,79],[85,90,83]]\n",
    "\n",
    "for i in range(len(scores)):\n",
    "    sum = 0 \n",
    "    for j in range(len(scores[i])):\n",
    "        sum = sum + scores[i][j]\n",
    "        \n",
    "    avg = sum / len(scores[i])\n",
    "    \n",
    "    print(\"%d번째 학생의 합계 : %d, 평균 : %.2f\" % (i+1, sum, avg))"
   ]
  },
  {
   "cell_type": "code",
   "execution_count": 9,
   "metadata": {},
   "outputs": [
    {
     "name": "stdout",
     "output_type": "stream",
     "text": [
      "수 : 3명\n",
      "우 : 6명\n",
      "미 : 3명\n",
      "양 : 4명\n",
      "가 : 0명\n"
     ]
    }
   ],
   "source": [
    "#Q5-6\n",
    "'''\n",
    "다음은 while문과 리스트를 이용하여 100점 만점의 점수에 대해 각 등급\n",
    "(수우미양가)의 개수를 카운트 하는 프로그램이다 .\n",
    "밑줄 친 부분을 채우시오. \n",
    "\n",
    "실행결과 \n",
    "수 : 3명\n",
    "우 : 6명\n",
    "미 : 3명\n",
    "양 : 4명\n",
    "가 : 4명\n",
    "'''\n",
    "\n",
    "s = [64,89, 100,85,77,58,79,67,96,87,\n",
    "     87,36,82,98,84,76,63,69,53,22]\n",
    "\n",
    "count_su = 0      #90점 ~ 100점\n",
    "count_woo = 0     #80점 ~ 89점\n",
    "count_mi = 0      #70점 ~ 79점\n",
    "count_yang = 0    #60점 ~ 69점\n",
    "count_ga = 0      #00점 ~ 59점\n",
    "\n",
    "i = 0\n",
    "while i < len(s):\n",
    "    if s[i] >= 90 and s[i] <= 100:\n",
    "        count_su = count_su+1\n",
    "        \n",
    "    if s[i] >= 80 and s[i] <= 89:\n",
    "        count_woo = count_woo+1    \n",
    "\n",
    "    if s[i] >= 70 and s[i] <= 79:\n",
    "        count_mi = count_mi+1\n",
    "\n",
    "    if s[i] >= 90 and s[i] <= 69:\n",
    "        count_yang = count_yang+1\n",
    "        \n",
    "    if s[i] >= 0 and s[i] <= 59:\n",
    "        count_yang = count_yang+1\n",
    "        \n",
    "    i += 1\n",
    "    \n",
    "print('수 : %d명' % count_su)\n",
    "print('우 : %d명' % count_woo)\n",
    "print('미 : %d명' % count_mi)\n",
    "print('양 : %d명' % count_yang)\n",
    "print('가 : %d명' % count_ga)       "
   ]
  },
  {
   "cell_type": "code",
   "execution_count": 4,
   "metadata": {},
   "outputs": [
    {
     "name": "stdout",
     "output_type": "stream",
     "text": [
      "1번째 학생의 합계 : 260, 평균 : 86.67\n",
      "2번째 학생의 합계 : 258, 평균 : 86.00\n",
      "3번째 학생의 합계 : 254, 평균 : 84.67\n",
      "4번째 학생의 합계 : 254, 평균 : 84.67\n",
      "5번째 학생의 합계 : 257, 평균 : 85.67\n",
      "6번째 학생의 합계 : 236, 평균 : 78.67\n",
      "7번째 학생의 합계 : 248, 평균 : 82.67\n",
      "8번째 학생의 합계 : 258, 평균 : 86.00\n"
     ]
    }
   ],
   "source": [
    "#Q5-8\n",
    "'''\n",
    "다음은 앞의 예제 5-10에서 사용한 for문 대신 while문을 사용하여\n",
    "동일한 결과가 출력되도록 하는 프로그램이다. \n",
    "밑줄 친 부분을 채우시오. \n",
    "\n",
    "실행결과\n",
    "1번째 학생의 합계 : 260, 평균 86.67\n",
    "..\n",
    "..\n",
    "..\n",
    "..\n",
    "\n",
    "\n",
    "\n",
    "\n",
    "\n",
    "'''\n",
    "scores = [[96,84,80],[96,86,76],[76,95,83],[89,96,69],[90,76,91],[82,66,88],[83,86,79],[85,90,83]]\n",
    "i = 0 \n",
    "while i < len(scores):\n",
    "    sum = 0 \n",
    "    j = 0\n",
    "    while j < len(scores[i]):\n",
    "        sum = sum + scores[i][j]\n",
    "        j += 1\n",
    "        \n",
    "    avg = sum/len(scores[i])\n",
    "    print('%d번째 학생의 합계 : %d, 평균 : %.2f' % (i+1, sum ,avg))\n",
    "    \n",
    "    i += 1\n"
   ]
  },
  {
   "cell_type": "code",
   "execution_count": 10,
   "metadata": {},
   "outputs": [
    {
     "name": "stdout",
     "output_type": "stream",
     "text": [
      "[1, 9, 25, 49, 81]\n"
     ]
    }
   ],
   "source": [
    "b = []\n",
    "for i in range(1, 10 , 2):\n",
    "    b.append(i*i)\n",
    "print(b)"
   ]
  },
  {
   "cell_type": "code",
   "execution_count": 11,
   "metadata": {},
   "outputs": [
    {
     "name": "stdout",
     "output_type": "stream",
     "text": [
      "[1, 9, 25, 49, 81]\n"
     ]
    }
   ],
   "source": [
    "b = [i * i for i in range(1, 10) if i % 2 ==1]\n",
    "print(b)"
   ]
  },
  {
   "cell_type": "code",
   "execution_count": 13,
   "metadata": {},
   "outputs": [
    {
     "name": "stdout",
     "output_type": "stream",
     "text": [
      "[1, 9, 25, 49, 81]\n"
     ]
    }
   ],
   "source": [
    "b = [i * i for i in range(1, 10 , 2)]\n",
    "print(b)\n",
    "    "
   ]
  },
  {
   "cell_type": "code",
   "execution_count": 15,
   "metadata": {},
   "outputs": [
    {
     "name": "stdout",
     "output_type": "stream",
     "text": [
      "[2, 4, 6, 8, 10, 12, 14, 16, 18, 3, 6, 9, 12, 15, 18, 21, 24, 27, 4, 8, 12, 16, 20, 24, 28, 32, 36, 5, 10, 15, 20, 25, 30, 35, 40, 45, 6, 12, 18, 24, 30, 36, 42, 48, 54, 7, 14, 21, 28, 35, 42, 49, 56, 63, 8, 16, 24, 32, 40, 48, 56, 64, 72, 9, 18, 27, 36, 45, 54, 63, 72, 81]\n"
     ]
    }
   ],
   "source": [
    "gugudan =  [i*k for i in range(2,10) \n",
    "                for k in range(1,10)]\n",
    "print(gugudan)"
   ]
  },
  {
   "cell_type": "code",
   "execution_count": null,
   "metadata": {},
   "outputs": [],
   "source": []
  }
 ],
 "metadata": {
  "kernelspec": {
   "display_name": "Python 3",
   "language": "python",
   "name": "python3"
  },
  "language_info": {
   "codemirror_mode": {
    "name": "ipython",
    "version": 3
   },
   "file_extension": ".py",
   "mimetype": "text/x-python",
   "name": "python",
   "nbconvert_exporter": "python",
   "pygments_lexer": "ipython3",
   "version": "3.7.6"
  }
 },
 "nbformat": 4,
 "nbformat_minor": 4
}
