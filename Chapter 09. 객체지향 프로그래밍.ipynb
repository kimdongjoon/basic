{
 "cells": [
  {
   "cell_type": "code",
   "execution_count": 14,
   "metadata": {},
   "outputs": [
    {
     "name": "stdout",
     "output_type": "stream",
     "text": [
      "300\n",
      "-100\n",
      "400\n",
      "200\n",
      "100 100\n"
     ]
    }
   ],
   "source": [
    "## Ex9-1\n",
    "class Calculator:\n",
    "    \n",
    "    def __init__(self, first, second) :\n",
    "        self.first = first\n",
    "        self.second = second\n",
    "        \n",
    "    def add(self) :\n",
    "        result = self.first + self.second\n",
    "        return result\n",
    "    \n",
    "    def sub(self) :\n",
    "        result = self.first - self.second\n",
    "        return result\n",
    "    \n",
    "calc1 = Calculator(100,200)\n",
    "print(calc1.add())\n",
    "print(calc1.sub())"
   ]
  },
  {
   "cell_type": "code",
   "execution_count": 18,
   "metadata": {},
   "outputs": [
    {
     "name": "stdout",
     "output_type": "stream",
     "text": [
      "400\n",
      "200\n"
     ]
    }
   ],
   "source": [
    "calc2 = Calculator(300,100)    \n",
    "print(calc2.add())\n",
    "print(calc2.sub())"
   ]
  },
  {
   "cell_type": "code",
   "execution_count": 19,
   "metadata": {},
   "outputs": [
    {
     "name": "stdout",
     "output_type": "stream",
     "text": [
      "300 100\n"
     ]
    }
   ],
   "source": [
    "print(calc2.first, calc2.second)"
   ]
  },
  {
   "cell_type": "code",
   "execution_count": 25,
   "metadata": {},
   "outputs": [],
   "source": [
    "##비공개 속성\n",
    "class Person :\n",
    "    def __init__(self, name, age, address, wallet) :\n",
    "        self.name = name\n",
    "        self.age = age\n",
    "        self.address = address\n",
    "        self.__wallet = wallet    #변수 앞에 __를 붙여서 비공개 속성으로\n",
    "        \n",
    "        \n",
    "        \n",
    "    def toString(self):\n",
    "        print('%s %d %s %d' %(self.name , self.age , self.address , self.__wallet))"
   ]
  },
  {
   "cell_type": "code",
   "execution_count": 28,
   "metadata": {},
   "outputs": [
    {
     "data": {
      "text/plain": [
       "'마리아'"
      ]
     },
     "execution_count": 28,
     "metadata": {},
     "output_type": "execute_result"
    }
   ],
   "source": [
    "maria = Person('마리아', 20, '서울시 서초구 반포동', 36000)\n",
    "maria.name"
   ]
  },
  {
   "cell_type": "code",
   "execution_count": 29,
   "metadata": {},
   "outputs": [
    {
     "name": "stdout",
     "output_type": "stream",
     "text": [
      "마리아 20 서울시 서초구 반포동 36000\n"
     ]
    }
   ],
   "source": [
    "maria.toString()"
   ]
  },
  {
   "cell_type": "code",
   "execution_count": 1,
   "metadata": {},
   "outputs": [],
   "source": [
    "#상속(Inheritance)\n",
    "class Person:\n",
    "    def greeting(self):\n",
    "        print('안녕하세요')\n",
    "        \n",
    "    def money(self):\n",
    "        print('백만달러')\n",
    "        \n",
    "class Student(Person):\n",
    "    def study(self):\n",
    "        print('공부하기')"
   ]
  },
  {
   "cell_type": "code",
   "execution_count": 2,
   "metadata": {},
   "outputs": [
    {
     "name": "stdout",
     "output_type": "stream",
     "text": [
      "공부하기\n",
      "안녕하세요\n",
      "백만달러\n"
     ]
    }
   ],
   "source": [
    "james = Student()\n",
    "james.study()\n",
    "james.greeting()\n",
    "\n",
    "james.money()"
   ]
  },
  {
   "cell_type": "code",
   "execution_count": 3,
   "metadata": {},
   "outputs": [],
   "source": [
    "class Person:\n",
    "    def __init__(self, name):\n",
    "        self.name = name\n",
    "    def greeting(self):\n",
    "        print('안녕하세요.')\n",
    "        \n",
    "class Student(Person):\n",
    "    def study(self):\n",
    "        print('공부하기')"
   ]
  },
  {
   "cell_type": "code",
   "execution_count": 6,
   "metadata": {},
   "outputs": [
    {
     "data": {
      "text/plain": [
       "'Maria'"
      ]
     },
     "execution_count": 6,
     "metadata": {},
     "output_type": "execute_result"
    }
   ],
   "source": [
    "maria = Student('Maria')\n",
    "maria.name"
   ]
  },
  {
   "cell_type": "code",
   "execution_count": 10,
   "metadata": {},
   "outputs": [
    {
     "name": "stdout",
     "output_type": "stream",
     "text": [
      "행복이\n",
      "멍멍~~~\n"
     ]
    }
   ],
   "source": [
    "class Aninal:\n",
    "    def __init__(self, name):\n",
    "        self.name = name\n",
    "        \n",
    "    def printName(self):\n",
    "        print(self.name)\n",
    "        \n",
    "class Dog(Aninal):\n",
    "    def __init__(self, name, sound):\n",
    "        super().__init__(name)\n",
    "        self.sound = sound\n",
    "        \n",
    "    def printSound(self):\n",
    "        print(self.sound)\n",
    "        \n",
    "dog1 = Dog('행복이', '멍멍~~~')\n",
    "dog1.printName()\n",
    "dog1.printSound()\n",
    "\n"
   ]
  },
  {
   "cell_type": "code",
   "execution_count": 23,
   "metadata": {},
   "outputs": [
    {
     "name": "stdout",
     "output_type": "stream",
     "text": [
      "안녕하세요. 파이선 수업을 듣고 있는 학생입니다 \n"
     ]
    }
   ],
   "source": [
    "#다형성(Polymorphism) - Method overriding\n",
    "\n",
    "class Person:\n",
    "    def __init__(self, name):\n",
    "        self.name = name\n",
    "    def greeting(self):\n",
    "        print('안녕하세요.')\n",
    "\n",
    "class Student2(Person):\n",
    "    def __init__(self, name, age):\n",
    "        super().__init__(name)\n",
    "        self.age = age\n",
    "    def study(self):\n",
    "        print('공부하기')\n",
    "    def greeting(self):\n",
    "        print('안녕하세요. 파이선 수업을 듣고 있는 학생입니다 ')\n",
    "        \n",
    "jason = Student2('jason', 20)\n",
    "jason.greeting()"
   ]
  },
  {
   "cell_type": "code",
   "execution_count": 6,
   "metadata": {},
   "outputs": [],
   "source": [
    "# 객체지향 고급\n",
    "# Static Method\n",
    "\n",
    "class Person:\n",
    "    \n",
    "    def greeting(self):\n",
    "        print('안녕하세요1.')\n",
    "    \n",
    "    @staticmethod\n",
    "    def hello():\n",
    "        print('Static Method의 hello()')"
   ]
  },
  {
   "cell_type": "code",
   "execution_count": 5,
   "metadata": {},
   "outputs": [
    {
     "name": "stdout",
     "output_type": "stream",
     "text": [
      "Static Method의 hello()\n",
      "안녕하세요.\n"
     ]
    }
   ],
   "source": [
    "Person.hello()\n",
    "\n",
    "p = Person()\n",
    "p.greeting()"
   ]
  },
  {
   "cell_type": "code",
   "execution_count": 1,
   "metadata": {},
   "outputs": [],
   "source": [
    "class Person:\n",
    "    def __init__(self, name):\n",
    "        self.name = name\n",
    "                                            #TypeError: __init__() should return None, not 'str'\n",
    "    def greeting(self):\n",
    "        print('안녕하세요.')    \n",
    "        \n",
    "    def __str__(self):      \n",
    "        return '반갑습니다. '+self.name + '입니다.' "
   ]
  },
  {
   "cell_type": "code",
   "execution_count": 2,
   "metadata": {},
   "outputs": [
    {
     "name": "stdout",
     "output_type": "stream",
     "text": [
      "반갑습니다. Maria입니다.\n"
     ]
    }
   ],
   "source": [
    "maria = Person('Maria')\n",
    "print(maria)"
   ]
  },
  {
   "cell_type": "code",
   "execution_count": 4,
   "metadata": {},
   "outputs": [],
   "source": [
    "# 객체 비교\n",
    "class Student:\n",
    "    def __init__(self, name, age):\n",
    "        self.name = name\n",
    "        self.age = age\n",
    "    def __eq__ (self, other):\n",
    "        return self.name == other.name and self.age == other.age         # 스페셜 메소드  __eq__"
   ]
  },
  {
   "cell_type": "code",
   "execution_count": 9,
   "metadata": {},
   "outputs": [],
   "source": [
    "a = Student('홍길동', 25)\n",
    "b = Student('Maria', 25)\n",
    "c = Student('홍길동', 23)\n",
    "d = Student('홍길동', 25)"
   ]
  },
  {
   "cell_type": "code",
   "execution_count": 10,
   "metadata": {},
   "outputs": [
    {
     "data": {
      "text/plain": [
       "False"
      ]
     },
     "execution_count": 10,
     "metadata": {},
     "output_type": "execute_result"
    }
   ],
   "source": [
    "a == b"
   ]
  },
  {
   "cell_type": "code",
   "execution_count": 11,
   "metadata": {},
   "outputs": [
    {
     "data": {
      "text/plain": [
       "False"
      ]
     },
     "execution_count": 11,
     "metadata": {},
     "output_type": "execute_result"
    }
   ],
   "source": [
    "b == c"
   ]
  },
  {
   "cell_type": "code",
   "execution_count": 12,
   "metadata": {},
   "outputs": [
    {
     "data": {
      "text/plain": [
       "True"
      ]
     },
     "execution_count": 12,
     "metadata": {},
     "output_type": "execute_result"
    }
   ],
   "source": [
    "a == d"
   ]
  },
  {
   "cell_type": "code",
   "execution_count": 19,
   "metadata": {},
   "outputs": [
    {
     "name": "stdout",
     "output_type": "stream",
     "text": [
      "입력 :10\n",
      "2\n"
     ]
    }
   ],
   "source": [
    "intext = input('입력 :')\n",
    "islist = list(intext)\n",
    "\n",
    "print (len(islist))\n",
    "\n",
    "#for i in len(a):\n",
    "    "
   ]
  },
  {
   "cell_type": "code",
   "execution_count": null,
   "metadata": {},
   "outputs": [],
   "source": []
  }
 ],
 "metadata": {
  "kernelspec": {
   "display_name": "Python 3",
   "language": "python",
   "name": "python3"
  },
  "language_info": {
   "codemirror_mode": {
    "name": "ipython",
    "version": 3
   },
   "file_extension": ".py",
   "mimetype": "text/x-python",
   "name": "python",
   "nbconvert_exporter": "python",
   "pygments_lexer": "ipython3",
   "version": "3.7.6"
  }
 },
 "nbformat": 4,
 "nbformat_minor": 4
}
