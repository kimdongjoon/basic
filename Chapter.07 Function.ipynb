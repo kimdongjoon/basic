{
 "cells": [
  {
   "cell_type": "markdown",
   "metadata": {},
   "source": [
    "Chapter 07. 함수\n"
   ]
  },
  {
   "cell_type": "code",
   "execution_count": 1,
   "metadata": {},
   "outputs": [
    {
     "name": "stdout",
     "output_type": "stream",
     "text": [
      "안녕하세요\n"
     ]
    }
   ],
   "source": [
    "#Ex 7-1\n",
    "def hello():\n",
    "    print('안녕하세요')\n",
    "    \n",
    "hello()"
   ]
  },
  {
   "cell_type": "code",
   "execution_count": 2,
   "metadata": {},
   "outputs": [
    {
     "name": "stdout",
     "output_type": "stream",
     "text": [
      "7은(는) 홀수이다. \n",
      "16은(는) 짝수이다. \n"
     ]
    }
   ],
   "source": [
    "#Ex 7-2\n",
    "def even_odd(num):\n",
    "    if num % 2  == 0:\n",
    "        print('%d은(는) 짝수이다. '% num)\n",
    "    else :\n",
    "        print('%d은(는) 홀수이다. '% num)\n",
    "        \n",
    "even_odd(7)\n",
    "even_odd(16)\n",
    "\n",
    "    "
   ]
  },
  {
   "cell_type": "code",
   "execution_count": 6,
   "metadata": {},
   "outputs": [
    {
     "name": "stdout",
     "output_type": "stream",
     "text": [
      "김지영님은 빨강을 좋아하지 않습니다. \n",
      "홍채영님은 노랑을 조금 좋아합니다. \n",
      "진소진님은 파랑을 매우 좋아합니다. \n"
     ]
    }
   ],
   "source": [
    "#Ex 7-3\n",
    "\n",
    "def favorte_color(name, color, amount): #함수정의\n",
    "    if(amount == 1 ):\n",
    "        print('%s님은 %s을 좋아하지 않습니다. ' % (name, color))\n",
    "    elif(amount == 2) :\n",
    "        print('%s님은 %s을 조금 좋아합니다. ' % (name, color))\n",
    "    else :\n",
    "        print('%s님은 %s을 매우 좋아합니다. ' % (name, color))\n",
    "        \n",
    "favorate_color('김지영', '빨강', 1)\n",
    "favorate_color('홍채영', '노랑', 2)\n",
    "favorate_color('진소진', '파랑', 3)\n",
    "        \n",
    "        "
   ]
  },
  {
   "cell_type": "code",
   "execution_count": 10,
   "metadata": {},
   "outputs": [
    {
     "name": "stdout",
     "output_type": "stream",
     "text": [
      "3과목의 평균 : 90.00\n",
      "4과목의 평균 : 81.75\n",
      "5과목의 평균 : 79.40\n"
     ]
    }
   ],
   "source": [
    "#ex7-4 임의의 매개변수에서 사용되는 *\n",
    "def average(*scores):\n",
    "    sum = 0\n",
    "    for i in range(len(scores)):\n",
    "        sum += scores[i]\n",
    "        \n",
    "    avg = sum / len(scores)\n",
    "    print('%d과목의 평균 : %.2f' % (len(scores), avg))\n",
    "    \n",
    "average(80,90,100)\n",
    "average(75,80,94,78)\n",
    "average(80,73,76,86,82)\n"
   ]
  },
  {
   "cell_type": "code",
   "execution_count": 12,
   "metadata": {},
   "outputs": [
    {
     "name": "stdout",
     "output_type": "stream",
     "text": [
      "메인 : x = 10 ,id =  140735869330096\n",
      "func() : x =  100 id =  140735869332976\n",
      "메인 :x =  10 ,id=  140735869330096\n"
     ]
    }
   ],
   "source": [
    "#ex7-5 값에 의한 호출의 예\n",
    "#서브루틴 : func() 함수\n",
    "def func(x):\n",
    "    x = 100\n",
    "    print('func() : x = ', x, 'id = ', id(x))\n",
    "    \n",
    "    \n",
    "#메인 루틴\n",
    "x = 10 \n",
    "print('메인 : x =', x,',id = ',id(x))\n",
    "func(x)\n",
    "print('메인 :x = ', x,',id= ', id(x))"
   ]
  },
  {
   "cell_type": "code",
   "execution_count": 13,
   "metadata": {},
   "outputs": [
    {
     "name": "stdout",
     "output_type": "stream",
     "text": [
      "메인 : x = [1, 2, 3] ,id =  1773100352712\n",
      "func() : x =  [100, 2, 3] id =  1773100352712\n",
      "메인 :x =  [100, 2, 3] ,id=  1773100352712\n"
     ]
    }
   ],
   "source": [
    "#ex7-6 페퍼런스에 의한 호출의 예\n",
    "#서브루틴 : func() 함수\n",
    "def func(x):\n",
    "    x[0] = 100\n",
    "    print('func() : x = ', x, 'id = ', id(x))\n",
    "    \n",
    "    \n",
    "#메인 루틴\n",
    "x = [1,2,3] \n",
    "print('메인 : x =', x,',id = ',id(x))\n",
    "func(x)\n",
    "print('메인 :x = ', x,',id= ', id(x))"
   ]
  },
  {
   "cell_type": "code",
   "execution_count": 22,
   "metadata": {},
   "outputs": [
    {
     "name": "stdout",
     "output_type": "stream",
     "text": [
      "(면적)원의 반지름을 입력하세요5\n",
      "반지름 : 5, 원의 면적 : 78.50\n",
      "(면적)원의 반지름을 입력하세요5\n",
      "반지름 : 5, 원의 둘레 : 31.40\n"
     ]
    }
   ],
   "source": [
    "#7-7. 함수 값의 반환의 예\n",
    "def circle_area(r):\n",
    "    area = r * r * 3.14\n",
    "    \n",
    "    return area\n",
    "\n",
    "def new_circle_area(r):\n",
    "    area = 2 * r * 3.14\n",
    "    \n",
    "    return area\n",
    "\n",
    "radius = int(input('(면적)원의 반지름을 입력하세요'))\n",
    "result = circle_area(radius)\n",
    "print('반지름 : %d, 원의 면적 : %.2f' % (radius, result))\n",
    "      \n",
    "    \n",
    "radius = int(input('(면적)원의 반지름을 입력하세요'))\n",
    "result = new_circle_area(radius)\n",
    "print('반지름 : %d, 원의 둘레 : %.2f' % (radius, result))\n",
    "\n",
    "      \n"
   ]
  },
  {
   "cell_type": "code",
   "execution_count": 25,
   "metadata": {},
   "outputs": [
    {
     "name": "stdout",
     "output_type": "stream",
     "text": [
      "(면적)원의 반지름을 입력하세요5\n",
      "반지름 : 5, 원의 면적 : 78.50 원의 면적 : 31.40\n"
     ]
    }
   ],
   "source": [
    "#7-7. 함수 값의 반환의 예\n",
    "def circle_area(r):\n",
    "    area = r * r * 3.14\n",
    "    circum = 2 * r * 3.14\n",
    "    \n",
    "    return area, circum\n",
    "\n",
    "radius = int(input('(면적)원의 반지름을 입력하세요'))\n",
    "result, result1 = circle_area(radius)\n",
    "print('반지름 : %d, 원의 면적 : %.2f 원의 면적 : %.2f'% (radius, result, result1))\n"
   ]
  },
  {
   "cell_type": "code",
   "execution_count": null,
   "metadata": {},
   "outputs": [],
   "source": [
    "\n"
   ]
  }
 ],
 "metadata": {
  "kernelspec": {
   "display_name": "Python 3",
   "language": "python",
   "name": "python3"
  },
  "language_info": {
   "codemirror_mode": {
    "name": "ipython",
    "version": 3
   },
   "file_extension": ".py",
   "mimetype": "text/x-python",
   "name": "python",
   "nbconvert_exporter": "python",
   "pygments_lexer": "ipython3",
   "version": "3.7.6"
  }
 },
 "nbformat": 4,
 "nbformat_minor": 4
}
