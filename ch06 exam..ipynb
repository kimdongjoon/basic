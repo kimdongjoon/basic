{
 "cells": [
  {
   "cell_type": "code",
   "execution_count": 1,
   "metadata": {},
   "outputs": [
    {
     "data": {
      "text/plain": [
       "'\\n회사 쇼핑몰 고객의 아이디에 부여된 마일리지 포인트를 딕셔너리에 저장하여 관리하고자 한다. \\n물음에 답하시오. (1~4번 문제)\\n\\n\\n아이디             kim99      lee66      han55     hong77      hwang33\\n마일리지 포인트    12000      11000      3000       5000       18000\\n'"
      ]
     },
     "execution_count": 1,
     "metadata": {},
     "output_type": "execute_result"
    }
   ],
   "source": [
    "'''\n",
    "회사 쇼핑몰 고객의 아이디에 부여된 마일리지 포인트를 딕셔너리에 저장하여 관리하고자 한다. \n",
    "물음에 답하시오. (1~4번 문제)\n",
    "\n",
    "\n",
    "아이디             kim99      lee66      han55     hong77      hwang33\n",
    "마일리지 포인트    12000      11000      3000       5000       18000\n",
    "'''"
   ]
  },
  {
   "cell_type": "code",
   "execution_count": 7,
   "metadata": {},
   "outputs": [
    {
     "name": "stdout",
     "output_type": "stream",
     "text": [
      "1. 아이디 : kim99, 마일리지 : 12000점\n",
      "2. 아이디 : lee66, 마일리지 : 11000점\n",
      "3. 아이디 : han55, 마일리지 : 3000점\n",
      "4. 아이디 : hong77, 마일리지 : 5000점\n",
      "5. 아이디 : hwang33, 마일리지 : 18000점\n"
     ]
    }
   ],
   "source": [
    "'''\n",
    "1. 위의 표에 나타난 아이디와 마일리지 포인트를 딕셔너리에 저장한 다음 출력하는 프로그램을 작성하시오. \n",
    "\n",
    "    실행결과 \n",
    "    1. 아이디 : kim99,   마일리지 : 12000점\n",
    "    2. 아이디 : lee66,   마일리지 : 11000점\n",
    "    3. 아이디 : han55,   마일리지 :  3000점\n",
    "    4. 아이디 : hong77,  마일리지 :  5000점\n",
    "    5. 아이디 : hwang33, 마일리지 : 18000점\n",
    "    \n",
    "'''\n",
    "shop = {'kim99':'12000','lee66':'11000','han55':'3000','hong77':'5000','hwang33':'18000'}\n",
    "\n",
    "n = 1\n",
    "for key in shop:\n",
    "    print('%d. 아이디 : %s, 마일리지 : %s점' %(n, key, shop[key]))\n",
    "    n+=1"
   ]
  },
  {
   "cell_type": "code",
   "execution_count": 13,
   "metadata": {},
   "outputs": [
    {
     "name": "stdout",
     "output_type": "stream",
     "text": [
      "아이디 입력 :han55\n",
      "변경할 마일리지 입력 :5000\n",
      "han55님의 마일리지가 5000점으로 변경 수정 되었습니다. \n"
     ]
    }
   ],
   "source": [
    "'''\n",
    "2. 아이디 'han55'의 마일리지를 5000점으로 업데이트하고 업데이트된 정보를 출력하는 프로그램을 작성하시오.\n",
    "\n",
    "    실행결과\n",
    "    1. han55님의 마일리지가 5000점으로 수정 되었습니다. \n",
    "'''\n",
    "shop = {'kim99':'12000','lee66':'11000','han55':'3000','hong77':'5000','hwang33':'18000'}\n",
    "\n",
    "ck_id = input('아이디 입력 :')\n",
    "ch_val = input('변경할 마일리지 입력 :')\n",
    "shop[ck_id] = ch_val\n",
    "\n",
    "print('%s님의 마일리지가 %s점으로 변경 수정 되었습니다. '% (ck_id, ch_val))\n"
   ]
  },
  {
   "cell_type": "code",
   "execution_count": 16,
   "metadata": {},
   "outputs": [
    {
     "name": "stdout",
     "output_type": "stream",
     "text": [
      "아이디 입력 :jang88\n",
      "변경할 마일리지 입력 :7000\n",
      "jang88님의 마일리지 (7000점)가 추가 되었습니다. \n"
     ]
    }
   ],
   "source": [
    "'''\n",
    "3. 딕셔너리에 아이디 'jang88과 마일리지 7000을 추가한 다음 \n",
    "전체 딕셔너리와 추가된 데이터를 출력하는 프로그램을 작성하시오. '\n",
    "\n",
    "    실행결과\n",
    "    전체 딕셔너리 : {'kim99:12000,'lee66':11000,'han55':3000,'hong77':5000, 'hwang33':18000,'jang88':7000}\n",
    "    jang88님의 마일리지(7000점)가 추가 되었습니다. \n",
    "'''\n",
    "shop = {'kim99':'12000','lee66':'11000','han55':'3000','hong77':'5000','hwang33':'18000'}\n",
    "ck_id = input('아이디 입력 :')\n",
    "ch_val = input('변경할 마일리지 입력 :')\n",
    "shop[ck_id] = ch_val\n",
    "\n",
    "print('%s님의 마일리지 (%s점)가 추가 되었습니다. '% (ck_id, ch_val))\n"
   ]
  },
  {
   "cell_type": "code",
   "execution_count": 42,
   "metadata": {},
   "outputs": [
    {
     "name": "stdout",
     "output_type": "stream",
     "text": [
      "hwang33님이 18000점으로 가장 높은 점수입니다. \n"
     ]
    }
   ],
   "source": [
    "'''\n",
    "4. 딕셔너리에서 가장 높은 마일리지를 찾아서 출력하는 프로그램을 작성하시오. \n",
    "\n",
    "    실행결과 \n",
    "    hwang33님이 18000점으로 가장 높은 점수입니다. \n",
    "\n",
    "\n",
    "'''\n",
    "shop = {'kim99':12000,'lee66':11000,'han55':3000,'hong77':5000,'hwang33':18000}\n",
    "\n",
    "high = ''\n",
    "max=0\n",
    "for key in shop:\n",
    "    if max < shop[key]:\n",
    "        max = shop[key]\n",
    "        high = key\n",
    "    #print('%s %s'%(key, shop[key]))\n",
    "\n",
    "    \n",
    "print('%s님이 %s점으로 가장 높은 점수입니다. ' %(high, shop[high]))        \n",
    "        "
   ]
  },
  {
   "cell_type": "code",
   "execution_count": null,
   "metadata": {},
   "outputs": [],
   "source": []
  }
 ],
 "metadata": {
  "kernelspec": {
   "display_name": "Python 3",
   "language": "python",
   "name": "python3"
  },
  "language_info": {
   "codemirror_mode": {
    "name": "ipython",
    "version": 3
   },
   "file_extension": ".py",
   "mimetype": "text/x-python",
   "name": "python",
   "nbconvert_exporter": "python",
   "pygments_lexer": "ipython3",
   "version": "3.7.6"
  }
 },
 "nbformat": 4,
 "nbformat_minor": 4
}
