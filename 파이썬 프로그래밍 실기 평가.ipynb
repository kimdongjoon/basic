{
 "cells": [
  {
   "cell_type": "markdown",
   "metadata": {},
   "source": [
    "# 파이썬 프로그래밍 실기 평가\n"
   ]
  },
  {
   "cell_type": "code",
   "execution_count": 1,
   "metadata": {},
   "outputs": [],
   "source": [
    "import matplotlib.pyplot as plt\n",
    "import numpy as np\n",
    "import math as math\n",
    "from matplotlib import rc\n",
    "import pandas as pd\n",
    "\n",
    "# Matplotlib 한글처리 코드\n",
    "import matplotlib as mpl\n",
    "import matplotlib.pyplot as plt\n",
    "mpl.rcParams['axes.unicode_minus'] = False\n",
    "mpl.rc('font', family='Malgun Gothic')\n",
    "%matplotlib inline"
   ]
  },
  {
   "cell_type": "markdown",
   "metadata": {},
   "source": [
    "1. 아래 그림과 같이 맨 아랫줄에 * 가 7개인 산 모양 2개를 출력하는 프로그램을 for loop 를 사용해서 만드시오.\n",
    "단, 산과 산 사이에는 공백이 한 개 있음. \n"
   ]
  },
  {
   "cell_type": "code",
   "execution_count": 64,
   "metadata": {},
   "outputs": [
    {
     "name": "stdout",
     "output_type": "stream",
     "text": [
      "   *       *            \n",
      "  ***     ***           \n",
      " *****   *****          \n",
      "******* *******         \n"
     ]
    }
   ],
   "source": [
    "line = 4\n",
    "\n",
    "for x in range(1, line * 2, 2):\n",
    "    for z in range(0,2,1):\n",
    "        print((\" \" * ( (line * 2 - 1 - x) // 2 )) + (\"*\" * x) + (\" \" * ( (line * 2 - 1 - x) // 2 )), end =' ')\n",
    "        if z == 1 :\n",
    "            print(' ' * ( (line * 2 - 1 - x)) + (\" \" * x), end = ' ')\n",
    "            \n",
    "    print()            "
   ]
  },
  {
   "cell_type": "markdown",
   "metadata": {},
   "source": [
    "2. 다음의 지뢰찾기 문제를 해결해 보시오. \n",
    "정수 n(단, n은 3이상)을 매개변수로 하여 크기가 (n, n)인 리스트를 만들고 여기에 '*'과 ','을 랜덤하게 채워 넣어 이를 출력하고 리턴하는 함수 create_mine(n)을 만드시오\n"
   ]
  },
  {
   "cell_type": "code",
   "execution_count": 68,
   "metadata": {},
   "outputs": [
    {
     "name": "stdout",
     "output_type": "stream",
     "text": [
      "['.*..', '*.*.', '***.', '.*.*']\n"
     ]
    }
   ],
   "source": [
    "import random\n",
    "random.seed(1000)\n",
    "\n",
    "\n",
    "list_y = []\n",
    "def create_mine(n):\n",
    "    in_int = n\n",
    "    for j in range(0,n):\n",
    "        #list_x = []\n",
    "        list_x = \"\"\n",
    "        for i in range(0,n):\n",
    "            \n",
    "            tmp = random.randrange(1,3)\n",
    "            if tmp == 1:\n",
    "                #list_x.append('*')\n",
    "                list_x += '*'\n",
    "            else : \n",
    "                #list_x.append('.')\n",
    "                list_x += '.'\n",
    "        list_y.append(list_x)\n",
    "               \n",
    "    return list_y\n",
    "rst = create_mine(4)\n",
    "print(rst)"
   ]
  },
  {
   "cell_type": "markdown",
   "metadata": {},
   "source": [
    "#위에서 만든 (n,n)리스트에서 지뢰찾기 프로그램의 최종 결과를 보여주는 프로그램을 작성하시오. \n",
    "단 , *은 지뢰이고 . 은 지뢰가 아니며, 지뢰가 아닌 요소에는 인접한 지뢰의 개수를 출력하고 지뢰는 *로 출력함.\n"
   ]
  },
  {
   "cell_type": "code",
   "execution_count": 77,
   "metadata": {},
   "outputs": [
    {
     "name": "stdout",
     "output_type": "stream",
     "text": [
      "4*42\n",
      "*6*2\n",
      "***3\n",
      "4*4*\n"
     ]
    }
   ],
   "source": [
    "def mine(inp):\n",
    "    for i in range(len(inp)):\n",
    "        for j in range(len(inp[i])):\n",
    "            if inp[i][j] == '.' :\n",
    "                cnt = 0\n",
    "                for x in range(i-1, (i+2, i+1)[i+2 > len(inp)]):\n",
    "                    for y in range(j-1, (j+2, j+1)[j+2 > len(inp)]):\n",
    "                        if inp[x][y] == '*':\n",
    "                            cnt += 1\n",
    "                print(cnt, end='')\n",
    "            else:\n",
    "                print('*', end='')\n",
    "        print()\n",
    "\n",
    "if __name__ == '__main__':\n",
    "    #Test\n",
    "#     inp = ['.*..',\n",
    "#            '*.*.',\n",
    "#            '***.',\n",
    "#            '.*.*']\n",
    "    \n",
    "    mine(inp)\n",
    "\n",
    "        \n"
   ]
  },
  {
   "cell_type": "markdown",
   "metadata": {},
   "source": [
    "3. 하이퍼볼릭 탄젠트(tanh)함수의 그래프를 -2 * pi 에서 2 * pi 까지 matplotlib를 사용하여 그리시오."
   ]
  },
  {
   "cell_type": "code",
   "execution_count": 5,
   "metadata": {},
   "outputs": [],
   "source": [
    "import matplotlib.pyplot as plt\n",
    "import numpy as np\n",
    "import math as math\n",
    "from matplotlib import rc"
   ]
  },
  {
   "cell_type": "code",
   "execution_count": 6,
   "metadata": {},
   "outputs": [
    {
     "data": {
      "image/png": "[encoded data removed]",
      "text/plain": [
       "<Figure size 432x288 with 1 Axes>"
      ]
     },
     "metadata": {
      "needs_background": "light"
     },
     "output_type": "display_data"
    }
   ],
   "source": [
    "x = np.linspace(-2 * 3.14, 2 * 3.14, 1000)\n",
    "plt.plot(x, np.tanh(x))\n",
    "plt.xlabel('x')\n",
    "plt.ylabel('tanh(x)')\n",
    "plt.axis('tight')\n",
    "plt.show()"
   ]
  },
  {
   "cell_type": "markdown",
   "metadata": {},
   "source": [
    "4. 멜론 사이트에서 2020년 5월 월간 국내종합차트 Top 100곡을 크롤링하여 제목, 가수, 앨범명, 전월순위 필드를 가지는 데이터 프레임을 만들고, 1위에서 10위 까지를 출력하는 프로그램을 작성하시오. \n",
    "단, 인덱스는 순위로 만들 것"
   ]
  },
  {
   "cell_type": "code",
   "execution_count": 7,
   "metadata": {},
   "outputs": [
    {
     "data": {
      "text/plain": [
       "'1'"
      ]
     },
     "execution_count": 7,
     "metadata": {},
     "output_type": "execute_result"
    }
   ],
   "source": [
    "import requests\n",
    "from bs4 import BeautifulSoup\n",
    "from urllib.request import urlopen\n",
    "\n",
    "url_base = 'https://www.melon.com'\n",
    "url_sub = '/chart/index.htm#params%5Bidx%5D=1'\n",
    "url = url_base + url_sub\n",
    "\n",
    "header = {'User-Agent': 'Mozilla/5.0 (Windows NT 6.3; Trident/7.0; rv:11.0) like Gecko'}\n",
    "req = requests.get('https://www.melon.com/chart/week/index.htm', headers = header) ## 주간 차트를 크롤링 할 것임\n",
    "html = req.text\n",
    "\n",
    "#html = urlopen(url)\n",
    "soup = BeautifulSoup(html, 'html.parser')\n",
    "\n",
    "m_list = soup.find_all(class_ = 'lst50')\n",
    "#전월 순위의 경우 상승은 up, 하강은 down, 순위 동일은 none\n",
    "\n",
    "if m_list[0].find(class_ = 'rank_wrap').find(class_ = 'up') :\n",
    "    m_list[0].find(class_ = 'rank_wrap').find(class_ = 'up').get_text()\n",
    "elif m_list[0].find(class_ = 'rank_wrap').find(class_ = 'down') :\n",
    "    m_list[0].find(class_ = 'rank_wrap').find(class_ = 'down').get_text()\n",
    "else :\n",
    "    m_list[0].find(class_ = 'rank_wrap').find(class_ = 'none').get_text()\n",
    "    \n",
    "m_list[0].find(class_ = 'rank').get_text()    \n",
    "#m_list[0].find(class_ = 'ellipsis rank01').find('a').get_text()\n",
    "#m_list[0].find(class_ = 'ellipsis rank02').find('a').get_text()\n",
    "#m_list[0].find(class_ = 'ellipsis rank03').find('a').get_text()\n"
   ]
  },
  {
   "cell_type": "code",
   "execution_count": 8,
   "metadata": {},
   "outputs": [],
   "source": [
    "#크롤링 목록\n",
    "#제목, 가수, 앨범명, 전월순위"
   ]
  },
  {
   "cell_type": "code",
   "execution_count": 9,
   "metadata": {},
   "outputs": [],
   "source": [
    "title = []\n",
    "singer= []\n",
    "album = []\n",
    "beRank = []\n",
    "asRank = []\n",
    "for m in m_list:\n",
    "    title.append(m.find(class_ = 'ellipsis rank01').find('a').get_text())\n",
    "    singer.append(m.find(class_ = 'ellipsis rank02').find('a').get_text())\n",
    "    album.append(m.find(class_ = 'ellipsis rank03').find('a').get_text())\n",
    "    asRank.append(m.find(class_ = 'rank').get_text())\n",
    "    if m.find(class_ = 'rank_wrap').find(class_ = 'up') :\n",
    "       tmp = '+' + str(m.find(class_ = 'rank_wrap').find(class_ = 'up').get_text())\n",
    "    elif m.find(class_ = 'rank_wrap').find(class_ = 'down') :\n",
    "       tmp = '-' + str(m.find(class_ = 'rank_wrap').find(class_ = 'down').get_text())\n",
    "    else :\n",
    "       tmp = '0' #m.find(class_ = 'rank_wrap').find(class_ = 'none').get_text()\n",
    "    beRank.append(tmp)"
   ]
  },
  {
   "cell_type": "code",
   "execution_count": 21,
   "metadata": {},
   "outputs": [
    {
     "data": {
      "text/html": [
       "<div>\n",
       "<style scoped>\n",
       "    .dataframe tbody tr th:only-of-type {\n",
       "        vertical-align: middle;\n",
       "    }\n",
       "\n",
       "    .dataframe tbody tr th {\n",
       "        vertical-align: top;\n",
       "    }\n",
       "\n",
       "    .dataframe thead th {\n",
       "        text-align: right;\n",
       "    }\n",
       "</style>\n",
       "<table border=\"1\" class=\"dataframe\">\n",
       "  <thead>\n",
       "    <tr style=\"text-align: right;\">\n",
       "      <th></th>\n",
       "      <th>제목</th>\n",
       "      <th>가수</th>\n",
       "      <th>앨범명</th>\n",
       "      <th>전월순위</th>\n",
       "    </tr>\n",
       "    <tr>\n",
       "      <th>순위</th>\n",
       "      <th></th>\n",
       "      <th></th>\n",
       "      <th></th>\n",
       "      <th></th>\n",
       "    </tr>\n",
       "  </thead>\n",
       "  <tbody>\n",
       "    <tr>\n",
       "      <th>1</th>\n",
       "      <td>사랑하게 될 줄 알았어</td>\n",
       "      <td>전미도</td>\n",
       "      <td>슬기로운 의사생활 OST Part 11</td>\n",
       "      <td>+1</td>\n",
       "    </tr>\n",
       "    <tr>\n",
       "      <th>2</th>\n",
       "      <td>에잇(Prod.&amp;Feat. SUGA of BTS)</td>\n",
       "      <td>아이유</td>\n",
       "      <td>에잇</td>\n",
       "      <td>-1</td>\n",
       "    </tr>\n",
       "    <tr>\n",
       "      <th>3</th>\n",
       "      <td>아로하</td>\n",
       "      <td>조정석</td>\n",
       "      <td>슬기로운 의사생활 OST Part 3</td>\n",
       "      <td>0</td>\n",
       "    </tr>\n",
       "    <tr>\n",
       "      <th>4</th>\n",
       "      <td>MORE &amp; MORE</td>\n",
       "      <td>TWICE (트와이스)</td>\n",
       "      <td>MORE &amp; MORE</td>\n",
       "      <td>0</td>\n",
       "    </tr>\n",
       "    <tr>\n",
       "      <th>5</th>\n",
       "      <td>살짝 설렜어 (Nonstop)</td>\n",
       "      <td>오마이걸</td>\n",
       "      <td>NONSTOP</td>\n",
       "      <td>0</td>\n",
       "    </tr>\n",
       "    <tr>\n",
       "      <th>6</th>\n",
       "      <td>깡 Official Remix</td>\n",
       "      <td>식케이 (Sik-K)</td>\n",
       "      <td>깡 Official Remix</td>\n",
       "      <td>0</td>\n",
       "    </tr>\n",
       "    <tr>\n",
       "      <th>7</th>\n",
       "      <td>나비와 고양이 (feat.백현 (BAEKHYUN))</td>\n",
       "      <td>볼빨간사춘기</td>\n",
       "      <td>사춘기집Ⅱ 꽃 본 나비</td>\n",
       "      <td>-3</td>\n",
       "    </tr>\n",
       "    <tr>\n",
       "      <th>8</th>\n",
       "      <td>좋은 사람 있으면 소개시켜줘</td>\n",
       "      <td>조이 (JOY)</td>\n",
       "      <td>슬기로운 의사생활 OST Part 2</td>\n",
       "      <td>-2</td>\n",
       "    </tr>\n",
       "    <tr>\n",
       "      <th>9</th>\n",
       "      <td>너에게 난, 나에게 넌</td>\n",
       "      <td>미도와 파라솔</td>\n",
       "      <td>슬기로운 의사생활 OST Part 12</td>\n",
       "      <td>+45</td>\n",
       "    </tr>\n",
       "    <tr>\n",
       "      <th>10</th>\n",
       "      <td>화려하지 않은 고백</td>\n",
       "      <td>규현 (KYUHYUN)</td>\n",
       "      <td>슬기로운 의사생활 OST Part 4</td>\n",
       "      <td>0</td>\n",
       "    </tr>\n",
       "  </tbody>\n",
       "</table>\n",
       "</div>"
      ],
      "text/plain": [
       "                              제목            가수                    앨범명 전월순위\n",
       "순위                                                                        \n",
       "1                   사랑하게 될 줄 알았어           전미도  슬기로운 의사생활 OST Part 11   +1\n",
       "2    에잇(Prod.&Feat. SUGA of BTS)           아이유                     에잇   -1\n",
       "3                            아로하           조정석   슬기로운 의사생활 OST Part 3    0\n",
       "4                    MORE & MORE  TWICE (트와이스)            MORE & MORE    0\n",
       "5               살짝 설렜어 (Nonstop)          오마이걸                NONSTOP    0\n",
       "6               깡 Official Remix   식케이 (Sik-K)       깡 Official Remix    0\n",
       "7   나비와 고양이 (feat.백현 (BAEKHYUN))        볼빨간사춘기           사춘기집Ⅱ 꽃 본 나비   -3\n",
       "8                좋은 사람 있으면 소개시켜줘      조이 (JOY)   슬기로운 의사생활 OST Part 2   -2\n",
       "9                   너에게 난, 나에게 넌       미도와 파라솔  슬기로운 의사생활 OST Part 12  +45\n",
       "10                    화려하지 않은 고백  규현 (KYUHYUN)   슬기로운 의사생활 OST Part 4    0"
      ]
     },
     "execution_count": 21,
     "metadata": {},
     "output_type": "execute_result"
    }
   ],
   "source": [
    "# 데이터 프레임으로 만들기\n",
    "import pandas as pd #'순위' : asRank ,\n",
    "df = pd.DataFrame ({'순위' : asRank ,'제목':title, '가수':singer, '앨범명':album,  '전월순위': beRank})\n",
    "\n",
    "#df.rename(columns=df.iloc[0],inplace=True)\n",
    "#df.columns = df.iloc[0]\n",
    "#df=df.reindex(df.index.drop(0))\n",
    "df.set_index('순위', drop = True, append = False, inplace = True)\n",
    "\n",
    "df.head(10)\n"
   ]
  },
  {
   "cell_type": "code",
   "execution_count": null,
   "metadata": {},
   "outputs": [],
   "source": []
  }
 ],
 "metadata": {
  "kernelspec": {
   "display_name": "Python 3",
   "language": "python",
   "name": "python3"
  },
  "language_info": {
   "codemirror_mode": {
    "name": "ipython",
    "version": 3
   },
   "file_extension": ".py",
   "mimetype": "text/x-python",
   "name": "python",
   "nbconvert_exporter": "python",
   "pygments_lexer": "ipython3",
   "version": "3.7.6"
  }
 },
 "nbformat": 4,
 "nbformat_minor": 4
}
