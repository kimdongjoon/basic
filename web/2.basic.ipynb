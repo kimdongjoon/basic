{
 "cells": [
  {
   "cell_type": "code",
   "execution_count": 1,
   "metadata": {},
   "outputs": [],
   "source": [
    "# import urllib.request\n",
    "# import urllib.parse\n",
    "\n",
    "# # web_url에 원하는 웹의 URL을 넣어주면 됨\n",
    "# with urllib.request.urlopen(\"http://www.naver.com\") as response:\n",
    "#     html = response.read()\n",
    "#     soup = BeautifulSoup(html, 'html.parser')\n"
   ]
  },
  {
   "cell_type": "code",
   "execution_count": 2,
   "metadata": {},
   "outputs": [],
   "source": [
    "from bs4 import BeautifulSoup\n",
    "with open(\"Example2.html\") as fp:\n",
    "    soup = BeautifulSoup(fp, 'html.parser')"
   ]
  },
  {
   "cell_type": "code",
   "execution_count": 3,
   "metadata": {},
   "outputs": [
    {
     "name": "stdout",
     "output_type": "stream",
     "text": [
      "<!DOCTYPE html>\n",
      "<html>\n",
      " <head>\n",
      "  <meta charset=\"utf-8\"/>\n",
      "  <title>\n",
      "   Very Simple HTML Code by PinkWink\n",
      "  </title>\n",
      " </head>\n",
      " <body>\n",
      "  <div>\n",
      "   <p class=\"Inner-text first-item\" id=\"first\">\n",
      "    Happy PinkWink.\n",
      "    <a href=\"http://www.pinkwink.kr\" id=\"pw-link\">\n",
      "     PinkWink\n",
      "    </a>\n",
      "   </p>\n",
      "   <p class=\"Inner-text second-item\" id=\"second\">\n",
      "    Happy Data Science.\n",
      "    <a href=\"http://www.Python.org\" id=\"pw-link\">\n",
      "     Python\n",
      "    </a>\n",
      "   </p>\n",
      "  </div>\n",
      "  <p class=\"Outer-text first-item\" id=\"second\">\n",
      "   <b>\n",
      "    Data Science is Funny\n",
      "   </b>\n",
      "  </p>\n",
      "  <p class=\"Outer-text\">\n",
      "   <b>\n",
      "    All I Need is Love.\n",
      "   </b>\n",
      "   <c>\n",
      "    We I Need is Love.\n",
      "   </c>\n",
      "  </p>\n",
      " </body>\n",
      "</html>\n",
      "\n"
     ]
    }
   ],
   "source": [
    "print(soup.prettify())"
   ]
  },
  {
   "cell_type": "code",
   "execution_count": 4,
   "metadata": {},
   "outputs": [
    {
     "name": "stdout",
     "output_type": "stream",
     "text": [
      "['html', '\\n', <html>\n",
      "<head>\n",
      "<meta charset=\"utf-8\"/>\n",
      "<title>Very Simple HTML Code by PinkWink</title>\n",
      "</head>\n",
      "<body>\n",
      "<div>\n",
      "<p class=\"Inner-text first-item\" id=\"first\">\n",
      "      Happy PinkWink.\n",
      "      <a href=\"http://www.pinkwink.kr\" id=\"pw-link\">PinkWink</a>\n",
      "</p>\n",
      "<p class=\"Inner-text second-item\" id=\"second\">\n",
      "      Happy Data Science.\n",
      "    <a href=\"http://www.Python.org\" id=\"pw-link\">Python</a>\n",
      "</p></div>\n",
      "<p class=\"Outer-text first-item\" id=\"second\">\n",
      "<b>\n",
      "        Data Science is Funny\n",
      "      </b>\n",
      "</p>\n",
      "<p class=\"Outer-text\">\n",
      "<b>\n",
      "        All I Need is Love.\n",
      "      </b>\n",
      "<c>\n",
      "        We I Need is Love.\n",
      "      </c>\n",
      "</p>\n",
      "</body>\n",
      "</html>, '\\n']\n"
     ]
    }
   ],
   "source": [
    "print(list(soup.children))"
   ]
  },
  {
   "cell_type": "code",
   "execution_count": 5,
   "metadata": {},
   "outputs": [],
   "source": [
    "body = soup.find('body')"
   ]
  },
  {
   "cell_type": "code",
   "execution_count": 6,
   "metadata": {
    "scrolled": false
   },
   "outputs": [
    {
     "data": {
      "text/plain": [
       "<body>\n",
       "<div>\n",
       "<p class=\"Inner-text first-item\" id=\"first\">\n",
       "      Happy PinkWink.\n",
       "      <a href=\"http://www.pinkwink.kr\" id=\"pw-link\">PinkWink</a>\n",
       "</p>\n",
       "<p class=\"Inner-text second-item\" id=\"second\">\n",
       "      Happy Data Science.\n",
       "    <a href=\"http://www.Python.org\" id=\"pw-link\">Python</a>\n",
       "</p></div>\n",
       "<p class=\"Outer-text first-item\" id=\"second\">\n",
       "<b>\n",
       "        Data Science is Funny\n",
       "      </b>\n",
       "</p>\n",
       "<p class=\"Outer-text\">\n",
       "<b>\n",
       "        All I Need is Love.\n",
       "      </b>\n",
       "<c>\n",
       "        We I Need is Love.\n",
       "      </c>\n",
       "</p>\n",
       "</body>"
      ]
     },
     "execution_count": 6,
     "metadata": {},
     "output_type": "execute_result"
    }
   ],
   "source": [
    "body"
   ]
  },
  {
   "cell_type": "code",
   "execution_count": 7,
   "metadata": {},
   "outputs": [
    {
     "data": {
      "text/plain": [
       "<body>\n",
       "<div>\n",
       "<p class=\"Inner-text first-item\" id=\"first\">\n",
       "      Happy PinkWink.\n",
       "      <a href=\"http://www.pinkwink.kr\" id=\"pw-link\">PinkWink</a>\n",
       "</p>\n",
       "<p class=\"Inner-text second-item\" id=\"second\">\n",
       "      Happy Data Science.\n",
       "    <a href=\"http://www.Python.org\" id=\"pw-link\">Python</a>\n",
       "</p></div>\n",
       "<p class=\"Outer-text first-item\" id=\"second\">\n",
       "<b>\n",
       "        Data Science is Funny\n",
       "      </b>\n",
       "</p>\n",
       "<p class=\"Outer-text\">\n",
       "<b>\n",
       "        All I Need is Love.\n",
       "      </b>\n",
       "<c>\n",
       "        We I Need is Love.\n",
       "      </c>\n",
       "</p>\n",
       "</body>"
      ]
     },
     "execution_count": 7,
     "metadata": {},
     "output_type": "execute_result"
    }
   ],
   "source": [
    "soup.body"
   ]
  },
  {
   "cell_type": "code",
   "execution_count": 8,
   "metadata": {},
   "outputs": [
    {
     "data": {
      "text/plain": [
       "[<p class=\"Inner-text first-item\" id=\"first\">\n",
       "       Happy PinkWink.\n",
       "       <a href=\"http://www.pinkwink.kr\" id=\"pw-link\">PinkWink</a>\n",
       " </p>,\n",
       " <p class=\"Inner-text second-item\" id=\"second\">\n",
       "       Happy Data Science.\n",
       "     <a href=\"http://www.Python.org\" id=\"pw-link\">Python</a>\n",
       " </p>,\n",
       " <p class=\"Outer-text first-item\" id=\"second\">\n",
       " <b>\n",
       "         Data Science is Funny\n",
       "       </b>\n",
       " </p>,\n",
       " <p class=\"Outer-text\">\n",
       " <b>\n",
       "         All I Need is Love.\n",
       "       </b>\n",
       " <c>\n",
       "         We I Need is Love.\n",
       "       </c>\n",
       " </p>]"
      ]
     },
     "execution_count": 8,
     "metadata": {},
     "output_type": "execute_result"
    }
   ],
   "source": [
    "all_ps = soup.find_all('p')\n",
    "all_ps"
   ]
  },
  {
   "cell_type": "code",
   "execution_count": 9,
   "metadata": {},
   "outputs": [
    {
     "data": {
      "text/plain": [
       "'\\n      Happy PinkWink.\\n      PinkWink\\n'"
      ]
     },
     "execution_count": 9,
     "metadata": {},
     "output_type": "execute_result"
    }
   ],
   "source": [
    "first_p = soup.find('p')\n",
    "first_p.get_text()"
   ]
  },
  {
   "cell_type": "code",
   "execution_count": 10,
   "metadata": {},
   "outputs": [
    {
     "data": {
      "text/plain": [
       "'PinkWink'"
      ]
     },
     "execution_count": 10,
     "metadata": {},
     "output_type": "execute_result"
    }
   ],
   "source": [
    "first_p.find('a').get_text()"
   ]
  },
  {
   "cell_type": "code",
   "execution_count": 11,
   "metadata": {},
   "outputs": [
    {
     "data": {
      "text/plain": [
       "[<p class=\"Inner-text first-item\" id=\"first\">\n",
       "       Happy PinkWink.\n",
       "       <a href=\"http://www.pinkwink.kr\" id=\"pw-link\">PinkWink</a>\n",
       " </p>,\n",
       " <p class=\"Inner-text second-item\" id=\"second\">\n",
       "       Happy Data Science.\n",
       "     <a href=\"http://www.Python.org\" id=\"pw-link\">Python</a>\n",
       " </p>]"
      ]
     },
     "execution_count": 11,
     "metadata": {},
     "output_type": "execute_result"
    }
   ],
   "source": [
    "#find_all의 경우 class를 검색할 때 사용\n",
    "#class는 여러개의 값을 가지므로 이름 뒤 언더바를 붙임. \n",
    "#ex) class_\n",
    "soup.find_all(class_='Inner-text')"
   ]
  },
  {
   "cell_type": "code",
   "execution_count": 12,
   "metadata": {},
   "outputs": [
    {
     "data": {
      "text/plain": [
       "[<p class=\"Outer-text first-item\" id=\"second\">\n",
       " <b>\n",
       "         Data Science is Funny\n",
       "       </b>\n",
       " </p>,\n",
       " <p class=\"Outer-text\">\n",
       " <b>\n",
       "         All I Need is Love.\n",
       "       </b>\n",
       " <c>\n",
       "         We I Need is Love.\n",
       "       </c>\n",
       " </p>]"
      ]
     },
     "execution_count": 12,
     "metadata": {},
     "output_type": "execute_result"
    }
   ],
   "source": [
    "soup.find_all(class_='Outer-text')"
   ]
  },
  {
   "cell_type": "code",
   "execution_count": 13,
   "metadata": {},
   "outputs": [
    {
     "data": {
      "text/plain": [
       "<p class=\"Inner-text second-item\" id=\"second\">\n",
       "      Happy Data Science.\n",
       "    <a href=\"http://www.Python.org\" id=\"pw-link\">Python</a>\n",
       "</p>"
      ]
     },
     "execution_count": 13,
     "metadata": {},
     "output_type": "execute_result"
    }
   ],
   "source": [
    "#find 의 경우 id를 검색할 때 사용\n",
    "#(id는 하나이므로)\n",
    "soup.find(id='second')\n"
   ]
  },
  {
   "cell_type": "code",
   "execution_count": 14,
   "metadata": {},
   "outputs": [
    {
     "data": {
      "text/plain": [
       "'http://www.pinkwink.kr'"
      ]
     },
     "execution_count": 14,
     "metadata": {},
     "output_type": "execute_result"
    }
   ],
   "source": [
    "soup.find('a')['href']"
   ]
  },
  {
   "cell_type": "code",
   "execution_count": 15,
   "metadata": {},
   "outputs": [
    {
     "data": {
      "text/plain": [
       "'http://www.pinkwink.kr'"
      ]
     },
     "execution_count": 15,
     "metadata": {},
     "output_type": "execute_result"
    }
   ],
   "source": [
    "a = soup.find('a')\n",
    "a['href']"
   ]
  },
  {
   "cell_type": "code",
   "execution_count": 16,
   "metadata": {},
   "outputs": [
    {
     "data": {
      "text/plain": [
       "[<a href=\"http://www.pinkwink.kr\" id=\"pw-link\">PinkWink</a>,\n",
       " <a href=\"http://www.Python.org\" id=\"pw-link\">Python</a>]"
      ]
     },
     "execution_count": 16,
     "metadata": {},
     "output_type": "execute_result"
    }
   ],
   "source": [
    "soup.find_all('a')"
   ]
  },
  {
   "cell_type": "code",
   "execution_count": 17,
   "metadata": {},
   "outputs": [
    {
     "name": "stdout",
     "output_type": "stream",
     "text": [
      "PinkWink:\thttp://www.pinkwink.kr\n",
      "Python:\thttp://www.Python.org\n"
     ]
    }
   ],
   "source": [
    "links = soup.find_all('a')\n",
    "for link in links:\n",
    "    url = link['href']\n",
    "    site= link.get_text()\n",
    "    print('%s:\\t%s' %(site,url))\n",
    "    "
   ]
  },
  {
   "cell_type": "code",
   "execution_count": 18,
   "metadata": {},
   "outputs": [
    {
     "data": {
      "text/plain": [
       "[<b>\n",
       "         Data Science is Funny\n",
       "       </b>,\n",
       " <b>\n",
       "         All I Need is Love.\n",
       "       </b>]"
      ]
     },
     "execution_count": 18,
     "metadata": {},
     "output_type": "execute_result"
    }
   ],
   "source": [
    "soup.find_all('b')"
   ]
  },
  {
   "cell_type": "markdown",
   "metadata": {},
   "source": [
    "# 크롬 개발자 도구를 이용해서 원하는 태그 찾기"
   ]
  },
  {
   "cell_type": "code",
   "execution_count": 19,
   "metadata": {},
   "outputs": [],
   "source": [
    "from urllib.request import urlopen"
   ]
  },
  {
   "cell_type": "code",
   "execution_count": 20,
   "metadata": {},
   "outputs": [],
   "source": [
    "url = 'https://finance.naver.com/marketindex/'\n",
    "page = urlopen(url)\n",
    "\n",
    "soup = BeautifulSoup(page, 'html.parser')"
   ]
  },
  {
   "cell_type": "code",
   "execution_count": 21,
   "metadata": {},
   "outputs": [],
   "source": [
    "market_data = soup.find_all(class_ = 'market_data')\n",
    "lis = market_data[0].find_all('li')\n"
   ]
  },
  {
   "cell_type": "code",
   "execution_count": 22,
   "metadata": {},
   "outputs": [
    {
     "name": "stdout",
     "output_type": "stream",
     "text": [
      "미국 USD \t 1,193.80\n",
      "일본 JPY(100엔) \t 1,108.40\n",
      "유럽연합 EUR \t 1,353.89\n",
      "중국 CNY \t 168.81\n",
      "일본 엔/달러 \t 107.7100\n",
      "달러/유로 \t 1.1353\n",
      "달러/영국파운드 \t 1.2722\n",
      "달러인덱스 \t 96.3200\n",
      "WTI \t 38.94\n",
      "휘발유 \t 1307.71\n",
      "국제 금 \t 1714.7\n",
      "국내 금 \t 65844.86\n"
     ]
    }
   ],
   "source": [
    "for li in lis:\n",
    "\n",
    "    label = li.find(class_ = 'blind')\n",
    "    value = li.find(class_ = 'value')\n",
    "    print(label.get_text(), '\\t',value.get_text())"
   ]
  },
  {
   "cell_type": "code",
   "execution_count": 23,
   "metadata": {},
   "outputs": [
    {
     "name": "stdout",
     "output_type": "stream",
     "text": [
      "['미국 USD', '일본 JPY(100엔)', '유럽연합 EUR', '중국 CNY', '일본 엔/달러', '달러/유로', '달러/영국파운드', '달러인덱스', 'WTI', '휘발유', '국제 금', '국내 금']\n"
     ]
    }
   ],
   "source": [
    "import pandas as pd\n",
    "labels = []\n",
    "values = []\n",
    "for li in lis:\n",
    "    label = li.find(class_ = 'blind')\n",
    "    value = li.find(class_ = 'value')\n",
    "    labels.append(label.get_text())\n",
    "    values.append(value.get_text())\n",
    "    \n",
    "print(labels)\n"
   ]
  },
  {
   "cell_type": "code",
   "execution_count": 24,
   "metadata": {},
   "outputs": [
    {
     "data": {
      "text/html": [
       "<div>\n",
       "<style scoped>\n",
       "    .dataframe tbody tr th:only-of-type {\n",
       "        vertical-align: middle;\n",
       "    }\n",
       "\n",
       "    .dataframe tbody tr th {\n",
       "        vertical-align: top;\n",
       "    }\n",
       "\n",
       "    .dataframe thead th {\n",
       "        text-align: right;\n",
       "    }\n",
       "</style>\n",
       "<table border=\"1\" class=\"dataframe\">\n",
       "  <thead>\n",
       "    <tr style=\"text-align: right;\">\n",
       "      <th></th>\n",
       "      <th>항목</th>\n",
       "      <th>값</th>\n",
       "    </tr>\n",
       "  </thead>\n",
       "  <tbody>\n",
       "    <tr>\n",
       "      <th>0</th>\n",
       "      <td>미국 USD</td>\n",
       "      <td>1,193.80</td>\n",
       "    </tr>\n",
       "    <tr>\n",
       "      <th>1</th>\n",
       "      <td>일본 JPY(100엔)</td>\n",
       "      <td>1,108.40</td>\n",
       "    </tr>\n",
       "    <tr>\n",
       "      <th>2</th>\n",
       "      <td>유럽연합 EUR</td>\n",
       "      <td>1,353.89</td>\n",
       "    </tr>\n",
       "    <tr>\n",
       "      <th>3</th>\n",
       "      <td>중국 CNY</td>\n",
       "      <td>168.81</td>\n",
       "    </tr>\n",
       "    <tr>\n",
       "      <th>4</th>\n",
       "      <td>일본 엔/달러</td>\n",
       "      <td>107.7100</td>\n",
       "    </tr>\n",
       "    <tr>\n",
       "      <th>5</th>\n",
       "      <td>달러/유로</td>\n",
       "      <td>1.1353</td>\n",
       "    </tr>\n",
       "    <tr>\n",
       "      <th>6</th>\n",
       "      <td>달러/영국파운드</td>\n",
       "      <td>1.2722</td>\n",
       "    </tr>\n",
       "    <tr>\n",
       "      <th>7</th>\n",
       "      <td>달러인덱스</td>\n",
       "      <td>96.3200</td>\n",
       "    </tr>\n",
       "    <tr>\n",
       "      <th>8</th>\n",
       "      <td>WTI</td>\n",
       "      <td>38.94</td>\n",
       "    </tr>\n",
       "    <tr>\n",
       "      <th>9</th>\n",
       "      <td>휘발유</td>\n",
       "      <td>1307.71</td>\n",
       "    </tr>\n",
       "    <tr>\n",
       "      <th>10</th>\n",
       "      <td>국제 금</td>\n",
       "      <td>1714.7</td>\n",
       "    </tr>\n",
       "    <tr>\n",
       "      <th>11</th>\n",
       "      <td>국내 금</td>\n",
       "      <td>65844.86</td>\n",
       "    </tr>\n",
       "  </tbody>\n",
       "</table>\n",
       "</div>"
      ],
      "text/plain": [
       "              항목         값\n",
       "0         미국 USD  1,193.80\n",
       "1   일본 JPY(100엔)  1,108.40\n",
       "2       유럽연합 EUR  1,353.89\n",
       "3         중국 CNY    168.81\n",
       "4        일본 엔/달러  107.7100\n",
       "5          달러/유로    1.1353\n",
       "6       달러/영국파운드    1.2722\n",
       "7          달러인덱스   96.3200\n",
       "8            WTI     38.94\n",
       "9            휘발유   1307.71\n",
       "10          국제 금    1714.7\n",
       "11          국내 금  65844.86"
      ]
     },
     "execution_count": 24,
     "metadata": {},
     "output_type": "execute_result"
    }
   ],
   "source": [
    "eco_index = pd.DataFrame({'항목': labels, '값' : values})\n",
    "eco_index"
   ]
  },
  {
   "cell_type": "code",
   "execution_count": null,
   "metadata": {},
   "outputs": [],
   "source": []
  }
 ],
 "metadata": {
  "kernelspec": {
   "display_name": "Python 3",
   "language": "python",
   "name": "python3"
  },
  "language_info": {
   "codemirror_mode": {
    "name": "ipython",
    "version": 3
   },
   "file_extension": ".py",
   "mimetype": "text/x-python",
   "name": "python",
   "nbconvert_exporter": "python",
   "pygments_lexer": "ipython3",
   "version": "3.7.6"
  }
 },
 "nbformat": 4,
 "nbformat_minor": 4
}
