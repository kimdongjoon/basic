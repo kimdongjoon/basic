{
 "cells": [
  {
   "cell_type": "code",
   "execution_count": 4,
   "metadata": {},
   "outputs": [],
   "source": [
    "#맛집 20개를 웹 크롤링 하여 20개의 맛집 리스트를 데이터 프레임으로 출력하라.\n",
    "#사이트: https://www.mangoplate.com/search/%EB%B0%98%EC%84%9D%EB%8F%99\n",
    "\n",
    "from bs4 import BeautifulSoup\n",
    "from urllib.request import urlopen\n",
    "from urllib.request import HTTPError\n",
    "import urllib.parse\n",
    "\n",
    "# url_base = 'http://www.mangoplate.com'\n",
    "# url_sub = '/search/'\n",
    "# encode = urllib.parse.quote_plus('%EB%B0%98%EC%84%9D%EB%8F%99')\n",
    "# url = url_base + url_sub# + encode\n",
    "\n",
    "#url = 'https://www.diningcode.com/list.php?query=%EB%B0%98%EC%84%9D%EC%97%AD'\n",
    "url = 'http://www.menupan.com/restaurant/search/search_main_sub_area.asp?page=1&areacode=dj202&trec=67'\n",
    "# try:\n",
    "html = urlopen(url)\n",
    "soup = BeautifulSoup(html, 'html.parser')\n",
    "# except HTTPError as e:\n",
    "#     print(e)\n",
    "#     # null을 반환하거나, break 문을 실행하거나, 기타 다른 방법을 사용\n",
    "# else:\n",
    "#     print()\n",
    "#     # 프로그램을 계속 실행합니다. except 절에서 return이나 break를 사용했다면\n",
    "#     # 이 else 절은 필요 없습니다.\n"
   ]
  },
  {
   "cell_type": "code",
   "execution_count": 9,
   "metadata": {},
   "outputs": [
    {
     "data": {
      "text/plain": [
       "<div class=\"ifo\">\n",
       "<dl>\n",
       "<dt><a href=\"/restaurant/onepage.asp?acode=B300004\" target=\"_blank\">라라랄라어은점</a><p class=\"btn\"><a class=\"detBtn\" href=\"/restaurant/onepage.asp?acode=B300004\" target=\"_blank\">자세히보기</a></p></dt>\n",
       "<dd class=\"rate\">\n",
       "<p class=\"point\"><span class=\"star\" style=\"width:83.125%\"></span><!-- ☆☆☆☆☆ //--></p>\n",
       "<p class=\"score\"><span class=\"total\">4.2</span><span class=\"line\">|</span><span class=\"count\">16명 참여</span></p>\n",
       "</dd>\n",
       "<dd>분식<span class=\"barr\">|</span> 대전 유성구 어은동 108-3</dd>\n",
       "<dd>(042)862-3838</dd>\n",
       "<dd class=\"ic\"><img alt=\"프리쿠폰\" class=\"ico_type\" src=\"/image/restaurant/bestrest/ic_coupon.gif\"/><span class=\"typeadd\">도도김밥 한줄 제공</span></dd>\n",
       "<dd class=\"comnt\"><a href=\"/restaurant/onepage.asp?acode=B300004\" target=\"_blank\">라라랄라의 모든 음식에는 원가절감을 위해, \n",
       "\n",
       "혹은 미각을 교란시켜 맛있는 척 하기 위해 사용하는 \n",
       "\n",
       "조미료 및 어떠한 화학첨가물도 들어가지 않는다. \n",
       "\n",
       "오로지 자연에서...</a></dd>\n",
       "</dl>\n",
       "</div>"
      ]
     },
     "execution_count": 9,
     "metadata": {},
     "output_type": "execute_result"
    }
   ],
   "source": [
    "rest_list = soup.find_all(class_ = 'ifo')\n",
    "rest_list"
   ]
  },
  {
   "cell_type": "code",
   "execution_count": 17,
   "metadata": {},
   "outputs": [
    {
     "data": {
      "text/plain": [
       "'라라랄라어은점'"
      ]
     },
     "execution_count": 17,
     "metadata": {},
     "output_type": "execute_result"
    }
   ],
   "source": [
    "menu_list = rest_list[0].find('a').get_text()\n",
    "menu_list"
   ]
  },
  {
   "cell_type": "code",
   "execution_count": 22,
   "metadata": {},
   "outputs": [
    {
     "data": {
      "text/plain": [
       "'4.2'"
      ]
     },
     "execution_count": 22,
     "metadata": {},
     "output_type": "execute_result"
    }
   ],
   "source": [
    "score_list = rest_list[0].find(class_ = 'score').get_text()[:][:3]\n",
    "score_list"
   ]
  },
  {
   "cell_type": "code",
   "execution_count": 34,
   "metadata": {},
   "outputs": [
    {
     "data": {
      "text/plain": [
       "<dd>분식<span class=\"barr\">|</span> 대전 유성구 어은동 108-3</dd>"
      ]
     },
     "execution_count": 34,
     "metadata": {},
     "output_type": "execute_result"
    }
   ],
   "source": [
    "rest_list[0].find_all('dd')[1]"
   ]
  },
  {
   "cell_type": "code",
   "execution_count": 11,
   "metadata": {},
   "outputs": [],
   "source": [
    "#태그값이 없어서 주소는 차후 작업 진행"
   ]
  },
  {
   "cell_type": "code",
   "execution_count": 14,
   "metadata": {},
   "outputs": [],
   "source": [
    "from urllib.parse import urljoin\n",
    "\n",
    "main_menu = []\n",
    "cafe_name = []\n",
    "#url_add = []\n",
    "\n",
    "for i in range(len(rest_list)):\n",
    "    cafe_name.append(rest_list[i].get_text()[0:][3:-1])\n",
    "    main_menu.append(menu_list[i].get_text())"
   ]
  },
  {
   "cell_type": "code",
   "execution_count": 16,
   "metadata": {},
   "outputs": [
    {
     "data": {
      "text/html": [
       "<div>\n",
       "<style scoped>\n",
       "    .dataframe tbody tr th:only-of-type {\n",
       "        vertical-align: middle;\n",
       "    }\n",
       "\n",
       "    .dataframe tbody tr th {\n",
       "        vertical-align: top;\n",
       "    }\n",
       "\n",
       "    .dataframe thead th {\n",
       "        text-align: right;\n",
       "    }\n",
       "</style>\n",
       "<table border=\"1\" class=\"dataframe\">\n",
       "  <thead>\n",
       "    <tr style=\"text-align: right;\">\n",
       "      <th></th>\n",
       "      <th>cafe</th>\n",
       "      <th>main_menu</th>\n",
       "    </tr>\n",
       "  </thead>\n",
       "  <tbody>\n",
       "    <tr>\n",
       "      <th>0</th>\n",
       "      <td>후루룩손칼국</td>\n",
       "      <td>손칼국수, 두부두루치기</td>\n",
       "    </tr>\n",
       "    <tr>\n",
       "      <th>1</th>\n",
       "      <td>피제리아 다알</td>\n",
       "      <td>나폴리피자, 피자</td>\n",
       "    </tr>\n",
       "    <tr>\n",
       "      <th>2</th>\n",
       "      <td>몽</td>\n",
       "      <td>베이커리카페, 카페</td>\n",
       "    </tr>\n",
       "    <tr>\n",
       "      <th>3</th>\n",
       "      <td>겐로쿠우</td>\n",
       "      <td>지도리우동, 우동</td>\n",
       "    </tr>\n",
       "    <tr>\n",
       "      <th>4</th>\n",
       "      <td>반석곱창전문</td>\n",
       "      <td>곱창, 소곱창구이</td>\n",
       "    </tr>\n",
       "    <tr>\n",
       "      <th>5</th>\n",
       "      <td>오모리 생바지락 손칼국</td>\n",
       "      <td>오모리, 손칼국수</td>\n",
       "    </tr>\n",
       "    <tr>\n",
       "      <th>6</th>\n",
       "      <td>동두천진짜부대찌</td>\n",
       "      <td>해물요리, 부대찌개</td>\n",
       "    </tr>\n",
       "    <tr>\n",
       "      <th>7</th>\n",
       "      <td>명랑핫도그 반석</td>\n",
       "      <td>핫도그</td>\n",
       "    </tr>\n",
       "    <tr>\n",
       "      <th>8</th>\n",
       "      <td>김형제고기의철학 유성반석</td>\n",
       "      <td>돼지고기전문</td>\n",
       "    </tr>\n",
       "    <tr>\n",
       "      <th>9</th>\n",
       "      <td>풍전돈까</td>\n",
       "      <td>돈까스, 히레까스</td>\n",
       "    </tr>\n",
       "  </tbody>\n",
       "</table>\n",
       "</div>"
      ],
      "text/plain": [
       "            cafe     main_menu\n",
       "0         후루룩손칼국  손칼국수, 두부두루치기\n",
       "1        피제리아 다알     나폴리피자, 피자\n",
       "2              몽    베이커리카페, 카페\n",
       "3           겐로쿠우     지도리우동, 우동\n",
       "4         반석곱창전문     곱창, 소곱창구이\n",
       "5   오모리 생바지락 손칼국     오모리, 손칼국수\n",
       "6       동두천진짜부대찌    해물요리, 부대찌개\n",
       "7       명랑핫도그 반석           핫도그\n",
       "8  김형제고기의철학 유성반석        돼지고기전문\n",
       "9           풍전돈까     돈까스, 히레까스"
      ]
     },
     "execution_count": 16,
     "metadata": {},
     "output_type": "execute_result"
    }
   ],
   "source": [
    "# 데이터 프레임으로 만들기\n",
    "import pandas as pd\n",
    "df = pd.DataFrame ({'cafe':cafe_name, 'main_menu':main_menu})\n",
    "df"
   ]
  },
  {
   "cell_type": "code",
   "execution_count": null,
   "metadata": {
    "scrolled": true
   },
   "outputs": [],
   "source": []
  },
  {
   "cell_type": "code",
   "execution_count": null,
   "metadata": {},
   "outputs": [],
   "source": []
  },
  {
   "cell_type": "code",
   "execution_count": null,
   "metadata": {},
   "outputs": [],
   "source": []
  }
 ],
 "metadata": {
  "kernelspec": {
   "display_name": "Python 3",
   "language": "python",
   "name": "python3"
  },
  "language_info": {
   "codemirror_mode": {
    "name": "ipython",
    "version": 3
   },
   "file_extension": ".py",
   "mimetype": "text/x-python",
   "name": "python",
   "nbconvert_exporter": "python",
   "pygments_lexer": "ipython3",
   "version": "3.7.6"
  }
 },
 "nbformat": 4,
 "nbformat_minor": 4
}
