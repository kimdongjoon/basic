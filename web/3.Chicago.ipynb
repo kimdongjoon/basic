{
 "cells": [
  {
   "cell_type": "markdown",
   "metadata": {},
   "source": [
    "# 시카고 샌드위치 맛집 분석\n",
    "## 1. 시카고 샌드위치 맛집 사이트에 접근하기"
   ]
  },
  {
   "cell_type": "code",
   "execution_count": 1,
   "metadata": {},
   "outputs": [],
   "source": [
    "# https://goo.gl/wAtv1s\n"
   ]
  },
  {
   "cell_type": "code",
   "execution_count": 2,
   "metadata": {},
   "outputs": [],
   "source": [
    "from bs4 import BeautifulSoup\n",
    "from urllib.request import urlopen\n",
    "\n",
    "url_base = 'http://www.chicagomag.com'\n",
    "url_sub = '/Chicago-Magazine/November-2012/Best-Sandwiches-Chicago/'\n",
    "url = url_base + url_sub\n",
    "\n",
    "html = urlopen(url)\n",
    "soup = BeautifulSoup(html, 'html.parser')\n"
   ]
  },
  {
   "cell_type": "code",
   "execution_count": 67,
   "metadata": {},
   "outputs": [
    {
     "data": {
      "text/plain": [
       "<div class=\"sammy\" style=\"position: relative;\">\n",
       "<div class=\"sammyRank\">1</div>\n",
       "<div class=\"sammyListing\"><a href=\"/Chicago-Magazine/November-2012/Best-Sandwiches-in-Chicago-Old-Oak-Tap-BLT/\"><b>BLT</b><br>\n",
       "Old Oak Tap<br>\n",
       "<em>Read more</em> </br></br></a></div>\n",
       "</div>"
      ]
     },
     "execution_count": 67,
     "metadata": {},
     "output_type": "execute_result"
    }
   ],
   "source": [
    "rest_list = soup.find_all(class_ = 'sammy')\n",
    "rest_list[0]\n",
    "\n"
   ]
  },
  {
   "cell_type": "code",
   "execution_count": 57,
   "metadata": {},
   "outputs": [
    {
     "data": {
      "text/plain": [
       "[<div class=\"sammy\" style=\"position: relative;\">\n",
       " <div class=\"sammyRank\">1</div>\n",
       " <div class=\"sammyListing\"><a href=\"/Chicago-Magazine/November-2012/Best-Sandwiches-in-Chicago-Old-Oak-Tap-BLT/\"><b>BLT</b><br>\n",
       " Old Oak Tap<br>\n",
       " <em>Read more</em> </br></br></a></div>\n",
       " </div>,\n",
       " <div class=\"sammy\" style=\"position: relative;\">\n",
       " <div class=\"sammyRank\">2</div>\n",
       " <div class=\"sammyListing\"><a href=\"/Chicago-Magazine/November-2012/Best-Sandwiches-in-Chicago-Au-Cheval-Fried-Bologna/\"><b>Fried Bologna</b><br/>\n",
       " Au Cheval<br/>\n",
       " <em>Read more</em> </a></div>\n",
       " </div>,\n",
       " <div class=\"sammy\" style=\"position: relative;\">\n",
       " <div class=\"sammyRank\">3</div>\n",
       " <div class=\"sammyListing\"><a href=\"/Chicago-Magazine/November-2012/Best-Sandwiches-in-Chicago-Xoco-Woodland-Mushroom/\"><b>Woodland Mushroom</b><br/>\n",
       " Xoco<br/>\n",
       " <em>Read more</em> </a></div>\n",
       " </div>,\n",
       " <div class=\"sammy\" style=\"position: relative;\">\n",
       " <div class=\"sammyRank\">4</div>\n",
       " <div class=\"sammyListing\"><a href=\"/Chicago-Magazine/November-2012/Best-Sandwiches-in-Chicago-Als-Deli-Roast-Beef/\"><b>Roast Beef</b><br/>\n",
       " Al’s Deli<br/>\n",
       " <em>Read more</em> </a></div>\n",
       " </div>,\n",
       " <div class=\"sammy\" style=\"position: relative;\">\n",
       " <div class=\"sammyRank\">5</div>\n",
       " <div class=\"sammyListing\"><a href=\"/Chicago-Magazine/November-2012/Best-Sandwiches-in-Chicago-Publican-Quality-Meats-PB-L/\"><b>PB&amp;L</b><br/>\n",
       " Publican Quality Meats<br/>\n",
       " <em>Read more</em> </a></div>\n",
       " </div>,\n",
       " <div class=\"sammy\" style=\"position: relative;\">\n",
       " <div class=\"sammyRank\">6</div>\n",
       " <div class=\"sammyListing\"><a href=\"http://www.chicagomag.com/Chicago-Magazine/November-2012/Best-Sandwiches-in-Chicago-Hendrickx-Belgian-Bread-Crafter-Belgian-Chicken-Curry-Salad/\"><b>Belgian Chicken Curry Salad</b><br/>\n",
       " Hendrickx Belgian Bread Crafter<br/>\n",
       " <em>Read more</em> </a></div>\n",
       " </div>,\n",
       " <div class=\"sammy\" style=\"position: relative;\">\n",
       " <div class=\"sammyRank\">7</div>\n",
       " <div class=\"sammyListing\"><a href=\"/Chicago-Magazine/November-2012/Best-Sandwiches-in-Chicago-Acadia-Lobster-Roll/\"><b>Lobster Roll</b><br/>\n",
       " Acadia<br/>\n",
       " <em>Read more</em> </a></div>\n",
       " </div>,\n",
       " <div class=\"sammy\" style=\"position: relative;\">\n",
       " <div class=\"sammyRank\">8</div>\n",
       " <div class=\"sammyListing\"><a href=\"/Chicago-Magazine/November-2012/Best-Sandwiches-in-Chicago-Birchwood-Kitchen-Smoked-Salmon-Salad/\"><b>Smoked Salmon Salad</b><br/>\n",
       " Birchwood Kitchen<br/>\n",
       " <em>Read more</em> </a></div>\n",
       " </div>,\n",
       " <div class=\"sammy\" style=\"position: relative;\">\n",
       " <div class=\"sammyRank\">9</div>\n",
       " <div class=\"sammyListing\"><a href=\"/Chicago-Magazine/November-2012/Best-Sandwiches-in-Chicago-Cemitas-Puebla-Atomica-Cemitas/\"><b>Atomica Cemitas</b><br/>\n",
       " Cemitas Puebla<br/>\n",
       " <em>Read more</em> </a></div>\n",
       " </div>,\n",
       " <div class=\"sammy\" style=\"position: relative;\">\n",
       " <div class=\"sammyRank\">10</div>\n",
       " <div class=\"sammyListing\"><a href=\"/Chicago-Magazine/November-2012/Best-Sandwiches-in-Chicago-Nana-Grilled-Laughing-Bird-Shrimp-and-Fried-Oyster-Po-Boy/\"><b>Grilled Laughing Bird Shrimp and Fried Po’ Boy</b><br/>\n",
       " Nana<br/>\n",
       " <em>Read more</em> </a></div>\n",
       " </div>,\n",
       " <div class=\"sammy\" style=\"position: relative;\">\n",
       " <div class=\"sammyRank\">11</div>\n",
       " <div class=\"sammyListing\"><a href=\"http://www.chicagomag.com/Chicago-Magazine/November-2012/Best-Sandwiches-in-Chicago-Lula-Cafe-Ham-and-Raclette-Panino/\"><b>Ham and Raclette Panino</b><br/>\n",
       " Lula Cafe<br/>\n",
       " <em>Read more</em> </a></div>\n",
       " </div>,\n",
       " <div class=\"sammy\" style=\"position: relative;\">\n",
       " <div class=\"sammyRank\">12</div>\n",
       " <div class=\"sammyListing\"><a href=\"http://www.chicagomag.com/Chicago-Magazine/November-2012/Best-Sandwiches-in-Chicago-Ricobenes-Breaded-Steak/\"><b>Breaded Steak</b><br/>\n",
       " Ricobene’s<br/>\n",
       " <em>Read more</em> </a></div>\n",
       " </div>,\n",
       " <div class=\"sammy\" style=\"position: relative;\">\n",
       " <div class=\"sammyRank\">13</div>\n",
       " <div class=\"sammyListing\"><a href=\"http://www.chicagomag.com/Chicago-Magazine/November-2012/Best-Sandwiches-in-Chicago-Frog-n-Snail-The-Hawkeye/\"><b>The Hawkeye</b><br/>\n",
       " Frog n Snail<br/>\n",
       " <em>Read more</em> </a></div>\n",
       " </div>,\n",
       " <div class=\"sammy\" style=\"position: relative;\">\n",
       " <div class=\"sammyRank\">14</div>\n",
       " <div class=\"sammyListing\"><a href=\"http://www.chicagomag.com/Chicago-Magazine/November-2012/Best-Sandwiches-in-Chicago-Crosbys-Kitchen-Chicken-Dip/\"><b>Chicken Dip</b><br/>\n",
       " Crosby’s Kitchen<br/>\n",
       " <em>Read more</em> </a></div>\n",
       " </div>,\n",
       " <div class=\"sammy\" style=\"position: relative;\">\n",
       " <div class=\"sammyRank\">15</div>\n",
       " <div class=\"sammyListing\"><a href=\"http://www.chicagomag.com/Chicago-Magazine/November-2012/Best-Sandwiches-in-Chicago-Longman-and-Eagle-Wild-Boar-Sloppy-Joe/\"><b>Wild Boar Sloppy Joe</b><br/>\n",
       " Longman &amp; Eagle<br/>\n",
       " <em>Read more</em> </a></div>\n",
       " </div>,\n",
       " <div class=\"sammy\" style=\"position: relative;\">\n",
       " <div class=\"sammyRank\">16</div>\n",
       " <div class=\"sammyListing\"><a href=\"http://www.chicagomag.com/Chicago-Magazine/November-2012/Best-Sandwiches-in-Chicago-Bari-Meatball-Sub/\"><b>Meatball Sub</b><br/>\n",
       " Bari<br/>\n",
       " <em>Read more</em> </a></div>\n",
       " </div>,\n",
       " <div class=\"sammy\" style=\"position: relative;\">\n",
       " <div class=\"sammyRank\">17</div>\n",
       " <div class=\"sammyListing\"><a href=\"http://www.chicagomag.com/Chicago-Magazine/November-2012/Best-Sandwiches-in-Chicago-Mannys-Corned-Beef/\"><b>Corned Beef</b><br/>\n",
       " Manny’s<br/>\n",
       " <em>Read more</em> </a></div>\n",
       " </div>,\n",
       " <div class=\"sammy\" style=\"position: relative;\">\n",
       " <div class=\"sammyRank\">18</div>\n",
       " <div class=\"sammyListing\"><a href=\"http://www.chicagomag.com/Chicago-Magazine/November-2012/Best-Sandwiches-in-Chicago-Eggys-Turkey-Club/\"><b>Turkey Club</b><br/>\n",
       " Eggy’s<br/>\n",
       " <em>Read more</em> </a></div>\n",
       " </div>,\n",
       " <div class=\"sammy\" style=\"position: relative;\">\n",
       " <div class=\"sammyRank\">19</div>\n",
       " <div class=\"sammyListing\"><a href=\"http://www.chicagomag.com/Chicago-Magazine/November-2012/Best-Sandwiches-in-Chicago-Old-Jerusalem-Falafel/\"><b>Falafel</b><br/>\n",
       " Old Jerusalem<br/>\n",
       " <em>Read more</em> </a></div>\n",
       " </div>,\n",
       " <div class=\"sammy\" style=\"position: relative;\">\n",
       " <div class=\"sammyRank\">20</div>\n",
       " <div class=\"sammyListing\"><a href=\"http://www.chicagomag.com/Chicago-Magazine/November-2012/Best-Sandwiches-in-Chicago-Mindys-HotChocolate-Crab-Cake/\"><b>Crab Cake</b><br/>\n",
       " Mindy’s HotChocolate<br/>\n",
       " <em>Read more</em> </a></div>\n",
       " </div>,\n",
       " <div class=\"sammy\" style=\"position: relative;\">\n",
       " <div class=\"sammyRank\">21</div>\n",
       " <div class=\"sammyListing\"><a href=\"http://www.chicagomag.com/Chicago-Magazine/November-2012/Best-Sandwiches-in-Chicago-Olgas-Delicatessen-Chicken-Schnitzel/\"><b>Chicken Schnitzel</b><br/>\n",
       " Olga’s Delicatessen<br/>\n",
       " <em>Read more</em> </a></div>\n",
       " </div>,\n",
       " <div class=\"sammy\" style=\"position: relative;\">\n",
       " <div class=\"sammyRank\">22</div>\n",
       " <div class=\"sammyListing\"><a href=\"http://www.chicagomag.com/Chicago-Magazine/November-2012/Best-Sandwiches-in-Chicago-Dawali-Mediterranean-Kitchen-Shawarma/\"><b>Shawarma</b><br/>\n",
       " Dawali Mediterranean Kitchen<br/>\n",
       " <em>Read more</em> </a></div>\n",
       " </div>,\n",
       " <div class=\"sammy\" style=\"position: relative;\">\n",
       " <div class=\"sammyRank\">23</div>\n",
       " <div class=\"sammyListing\"><a href=\"http://www.chicagomag.com/Chicago-Magazine/November-2012/Best-Sandwiches-in-Chicago-Big-Jones-Toasted-Pimiento-Cheese/\"><b>Toasted Pimiento Cheese</b><br/>\n",
       " Big Jones<br/>\n",
       " <em>Read more</em> </a></div>\n",
       " </div>,\n",
       " <div class=\"sammy\" style=\"position: relative;\">\n",
       " <div class=\"sammyRank\">24</div>\n",
       " <div class=\"sammyListing\"><a href=\"http://www.chicagomag.com/Chicago-Magazine/November-2012/Best-Sandwiches-in-Chicago-La-Pane-Vegetarian-Panino/\"><b>Vegetarian Panino</b><br/>\n",
       " La Pane<br/>\n",
       " <em>Read more</em> </a></div>\n",
       " </div>,\n",
       " <div class=\"sammy\" style=\"position: relative;\">\n",
       " <div class=\"sammyRank\">25</div>\n",
       " <div class=\"sammyListing\"><a href=\"/Chicago-Magazine/November-2012/Best-Sandwiches-in-Chicago-Pastoral-Cali-Chevre/\"><b>Cali Chèvre</b><br/>\n",
       " Pastoral<br/>\n",
       " <em>Read more</em> </a></div>\n",
       " </div>,\n",
       " <div class=\"sammy\" style=\"position: relative;\">\n",
       " <div class=\"sammyRank\">26</div>\n",
       " <div class=\"sammyListing\"><a href=\"http://www.chicagomag.com/Chicago-Magazine/November-2012/Best-Sandwiches-in-Chicago-Maxs-Deli-Pastrami/\"><b>Pastrami</b><br/>\n",
       " Max’s Deli<br/>\n",
       " <em>Read more</em> </a></div>\n",
       " </div>,\n",
       " <div class=\"sammy\" style=\"position: relative;\">\n",
       " <div class=\"sammyRank\">27</div>\n",
       " <div class=\"sammyListing\"><a href=\"http://www.chicagomag.com/Chicago-Magazine/November-2012/Best-Sandwiches-in-Chicago-Luckys-Sandwich-Co-The-Fredo/\"><b>The Fredo</b><br/>\n",
       " Lucky’s Sandwich Co.<br/>\n",
       " <em>Read more</em> </a></div>\n",
       " </div>,\n",
       " <div class=\"sammy\" style=\"position: relative;\">\n",
       " <div class=\"sammyRank\">28</div>\n",
       " <div class=\"sammyListing\"><a href=\"http://www.chicagomag.com/Chicago-Magazine/November-2012/Best-Sandwiches-in-Chicago-City-Provisions-Smoked-Ham/\"><b>Smoked Ham</b><br/>\n",
       " City Provisions<br/>\n",
       " <em>Read more</em> </a></div>\n",
       " </div>,\n",
       " <div class=\"sammy\" style=\"position: relative;\">\n",
       " <div class=\"sammyRank\">29</div>\n",
       " <div class=\"sammyListing\"><a href=\"http://www.chicagomag.com/Chicago-Magazine/November-2012/Best-Sandwiches-in-Chicago-Papas-Cache-Sabroso-Jibarito/\"><b>Jibarito</b><br/>\n",
       " Papa’s Cache Sabroso<br/>\n",
       " <em>Read more</em> </a></div>\n",
       " </div>,\n",
       " <div class=\"sammy\" style=\"position: relative;\">\n",
       " <div class=\"sammyRank\">30</div>\n",
       " <div class=\"sammyListing\"><a href=\"http://www.chicagomag.com/Chicago-Magazine/November-2012/Best-Sandwiches-in-Chicago-Bavettes-Bar-and-Boeuf-Shaved-Prime-Rib/\"><b>Shaved Prime Rib</b><br/>\n",
       " Bavette’s Bar &amp; Boeuf<br/>\n",
       " <em>Read more</em> </a></div>\n",
       " </div>,\n",
       " <div class=\"sammy\" style=\"position: relative;\">\n",
       " <div class=\"sammyRank\">31</div>\n",
       " <div class=\"sammyListing\"><a href=\"http://www.chicagomag.com/Chicago-Magazine/November-2012/Best-Sandwiches-in-Chicago-Hannahs-Bretzel-Serrano-Ham-and-Manchego-Cheese/\"><b>Serrano Ham and Manchego Cheese</b><br/>\n",
       " Hannah’s Bretzel<br/>\n",
       " <em>Read more</em> </a></div>\n",
       " </div>,\n",
       " <div class=\"sammy\" style=\"position: relative;\">\n",
       " <div class=\"sammyRank\">32</div>\n",
       " <div class=\"sammyListing\"><a href=\"http://www.chicagomag.com/Chicago-Magazine/November-2012/Best-Sandwiches-in-Chicago-La-Fournette-Tuna-Salad/\"><b>Tuna Salad</b><br/>\n",
       " La Fournette<br/>\n",
       " <em>Read more</em> </a></div>\n",
       " </div>,\n",
       " <div class=\"sammy\" style=\"position: relative;\">\n",
       " <div class=\"sammyRank\">33</div>\n",
       " <div class=\"sammyListing\"><a href=\"http://www.chicagomag.com/Chicago-Magazine/November-2012/Best-Sandwiches-in-Chicago-Paramount-Room-Paramount-Reuben/\"><b>Paramount Reuben</b><br/>\n",
       " Paramount Room<br/>\n",
       " <em>Read more</em> </a></div>\n",
       " </div>,\n",
       " <div class=\"sammy\" style=\"position: relative;\">\n",
       " <div class=\"sammyRank\">34</div>\n",
       " <div class=\"sammyListing\"><a href=\"http://www.chicagomag.com/Chicago-Magazine/November-2012/Best-Sandwiches-in-Chicago-Melt-Sandwich-Shoppe-The-Istanbul/\"><b>The Istanbul</b><br/>\n",
       " Melt Sandwich Shoppe<br/>\n",
       " <em>Read more</em> </a></div>\n",
       " </div>,\n",
       " <div class=\"sammy\" style=\"position: relative;\">\n",
       " <div class=\"sammyRank\">35</div>\n",
       " <div class=\"sammyListing\"><a href=\"http://www.chicagomag.com/Chicago-Magazine/November-2012/Best-Sandwiches-in-Chicago-Floriole-Cafe-and-Bakery-BAD/\"><b>B.A.D.</b><br/>\n",
       " Floriole Cafe &amp; Bakery<br/>\n",
       " <em>Read more</em> </a></div>\n",
       " </div>,\n",
       " <div class=\"sammy\" style=\"position: relative;\">\n",
       " <div class=\"sammyRank\">36</div>\n",
       " <div class=\"sammyListing\"><a href=\"http://www.chicagomag.com/Chicago-Magazine/November-2012/Best-Sandwiches-in-Chicago-First-Slice-Pie-Cafe-Duck-Confit-and-Mozzarella/\"><b>Duck Confit and Mozzarella</b><br/>\n",
       " First Slice Pie Café<br/>\n",
       " <em>Read more</em> </a></div>\n",
       " </div>,\n",
       " <div class=\"sammy\" style=\"position: relative;\">\n",
       " <div class=\"sammyRank\">37</div>\n",
       " <div class=\"sammyListing\"><a href=\"http://www.chicagomag.com/Chicago-Magazine/November-2012/Best-Sandwiches-in-Chicago-Troquet-Croque-Monsieur/\"><b>Croque Monsieur</b><br/>\n",
       " Troquet<br/>\n",
       " <em>Read more</em> </a></div>\n",
       " </div>,\n",
       " <div class=\"sammy\" style=\"position: relative;\">\n",
       " <div class=\"sammyRank\">38</div>\n",
       " <div class=\"sammyListing\"><a href=\"http://www.chicagomag.com/Chicago-Magazine/November-2012/Best-Sandwiches-in-Chicago-Grahamwich-Green-Garbanzo/\"><b>Green Garbanzo</b><br/>\n",
       " Grahamwich<br/>\n",
       " <em>Read more</em> </a></div>\n",
       " </div>,\n",
       " <div class=\"sammy\" style=\"position: relative;\">\n",
       " <div class=\"sammyRank\">39</div>\n",
       " <div class=\"sammyListing\"><a href=\"http://www.chicagomag.com/Chicago-Magazine/November-2012/Best-Sandwiches-in-Chicago-Saigon-Sisters-The-Hen-House/\"><b>The Hen House</b><br/>\n",
       " Saigon Sisters<br/>\n",
       " <em>Read more</em> </a></div>\n",
       " </div>,\n",
       " <div class=\"sammy\" style=\"position: relative;\">\n",
       " <div class=\"sammyRank\">40</div>\n",
       " <div class=\"sammyListing\"><a href=\"http://www.chicagomag.com/Chicago-Magazine/November-2012/Best-Sandwiches-in-Chicago-Rosalias-Deli-Tuscan-Chicken/\"><b>Tuscan Chicken</b><br/>\n",
       " Rosalia’s Deli<br/>\n",
       " <em>Read more</em> </a></div>\n",
       " </div>,\n",
       " <div class=\"sammy\" style=\"position: relative;\">\n",
       " <div class=\"sammyRank\">41</div>\n",
       " <div class=\"sammyListing\"><a href=\"http://www.chicagomag.com/Chicago-Magazine/November-2012/Best-Sandwiches-in-Chicago-Z-and-H-MarketCafe-The-Marty/\"><b>The Marty </b><br/>\n",
       " Z&amp;H MarketCafe<br/>\n",
       " <em>Read more</em> </a></div>\n",
       " </div>,\n",
       " <div class=\"sammy\" style=\"position: relative;\">\n",
       " <div class=\"sammyRank\">42</div>\n",
       " <div class=\"sammyListing\"><a href=\"http://www.chicagomag.com/Chicago-Magazine/November-2012/Best-Sandwiches-in-Chicago-Market-House-on-the-Square-Whitefish/\"><b>Whitefish</b><br/>\n",
       " Market House on the Square<br/>\n",
       " <em>Read more</em> </a></div>\n",
       " </div>,\n",
       " <div class=\"sammy\" style=\"position: relative;\">\n",
       " <div class=\"sammyRank\">43</div>\n",
       " <div class=\"sammyListing\"><a href=\"http://www.chicagomag.com/Chicago-Magazine/November-2012/Best-Sandwiches-in-Chicago-Elaines-Coffee-Call-Oat-Bread-Pecan-Butter-and-Fruit-Jam/\"><b>Oat Bread, Pecan Butter, and Fruit Jam</b><br/>\n",
       " Elaine’s Coffee Call<br/>\n",
       " <em>Read more</em> </a></div>\n",
       " </div>,\n",
       " <div class=\"sammy\" style=\"position: relative;\">\n",
       " <div class=\"sammyRank\">44</div>\n",
       " <div class=\"sammyListing\"><a href=\"http://www.chicagomag.com/Chicago-Magazine/November-2012/Best-Sandwiches-in-Chicago-Marion-Street-Cheese-Market-Cauliflower-Melt/\"><b>Cauliflower Melt</b><br/>\n",
       " Marion Street Cheese Market<br/>\n",
       " <em>Read more</em> </a></div>\n",
       " </div>,\n",
       " <div class=\"sammy\" style=\"position: relative;\">\n",
       " <div class=\"sammyRank\">45</div>\n",
       " <div class=\"sammyListing\"><a href=\"http://www.chicagomag.com/Chicago-Magazine/November-2012/Best-Sandwiches-in-Chicago-Cafecito-Cubano/\"><b>Cubana</b><br/>\n",
       " Cafecito<br/>\n",
       " <em>Read more</em> </a></div>\n",
       " </div>,\n",
       " <div class=\"sammy\" style=\"position: relative;\">\n",
       " <div class=\"sammyRank\">46</div>\n",
       " <div class=\"sammyListing\"><a href=\"http://www.chicagomag.com/Chicago-Magazine/November-2012/Best-Sandwiches-in-Chicago-Chickpea-Kufta/\"><b>Kufta</b><br/>\n",
       " Chickpea<br/>\n",
       " <em>Read more</em> </a></div>\n",
       " </div>,\n",
       " <div class=\"sammy\" style=\"position: relative;\">\n",
       " <div class=\"sammyRank\">47</div>\n",
       " <div class=\"sammyListing\"><a href=\"http://www.chicagomag.com/Chicago-Magazine/November-2012/Best-Sandwiches-in-Chicago-The-Goddess-and-Grocer-Debbies-Egg-Salad/\"><b>Debbie’s Egg Salad</b><br/>\n",
       " The Goddess and Grocer<br/>\n",
       " <em>Read more</em> </a></div>\n",
       " </div>,\n",
       " <div class=\"sammy\" style=\"position: relative;\">\n",
       " <div class=\"sammyRank\">48</div>\n",
       " <div class=\"sammyListing\"><a href=\"http://www.chicagomag.com/Chicago-Magazine/November-2012/Best-Sandwiches-in-Chicago-Zenwich-Beef-Curry/\"><b>Beef Curry</b><br/>\n",
       " Zenwich<br/>\n",
       " <em>Read more</em> </a></div>\n",
       " </div>,\n",
       " <div class=\"sammy\" style=\"position: relative;\">\n",
       " <div class=\"sammyRank\">49</div>\n",
       " <div class=\"sammyListing\"><a href=\"http://www.chicagomag.com/Chicago-Magazine/November-2012/Best-Sandwiches-in-Chicago-Toni-Patisserie-Le-Vegetarien/\"><b>Le Végétarien</b><br/>\n",
       " Toni Patisserie<br/>\n",
       " <em>Read more</em> </a></div>\n",
       " </div>,\n",
       " <div class=\"sammy\" style=\"position: relative; border-bottom: 0\">\n",
       " <div class=\"sammyRank\">50</div>\n",
       " <div class=\"sammyListing\"><a href=\"http://www.chicagomag.com/Chicago-Magazine/November-2012/Best-Sandwiches-in-Chicago-Phoebes-Bakery-The-Gatsby/\"><b>The Gatsby</b><br/>\n",
       " Phoebe’s Bakery<br/>\n",
       " <em>Read more</em> </a></div>\n",
       " </div>]"
      ]
     },
     "execution_count": 57,
     "metadata": {},
     "output_type": "execute_result"
    }
   ],
   "source": [
    "len(rest_list)\n",
    "\n",
    "rest_list"
   ]
  },
  {
   "cell_type": "markdown",
   "metadata": {},
   "source": [
    "## 2. 접근한 웹 페이지에서 원하는 데이터 추출"
   ]
  },
  {
   "cell_type": "code",
   "execution_count": 62,
   "metadata": {},
   "outputs": [],
   "source": [
    "tmp_one = rest_list[0]"
   ]
  },
  {
   "cell_type": "code",
   "execution_count": 61,
   "metadata": {},
   "outputs": [
    {
     "data": {
      "text/plain": [
       "'2'"
      ]
     },
     "execution_count": 61,
     "metadata": {},
     "output_type": "execute_result"
    }
   ],
   "source": [
    "tmp_one.find(class_ = 'sammyRank').get_text()"
   ]
  },
  {
   "cell_type": "code",
   "execution_count": 59,
   "metadata": {},
   "outputs": [
    {
     "data": {
      "text/plain": [
       "'BLT\\r\\nOld Oak Tap\\nRead more '"
      ]
     },
     "execution_count": 59,
     "metadata": {},
     "output_type": "execute_result"
    }
   ],
   "source": [
    "tmp_one.find(class_ = 'sammyListing').get_text()"
   ]
  },
  {
   "cell_type": "code",
   "execution_count": 8,
   "metadata": {},
   "outputs": [
    {
     "data": {
      "text/plain": [
       "'/Chicago-Magazine/November-2012/Best-Sandwiches-in-Chicago-Old-Oak-Tap-BLT/'"
      ]
     },
     "execution_count": 8,
     "metadata": {},
     "output_type": "execute_result"
    }
   ],
   "source": [
    "tmp_one.find('a')['href']"
   ]
  },
  {
   "cell_type": "code",
   "execution_count": 9,
   "metadata": {},
   "outputs": [
    {
     "data": {
      "text/plain": [
       "['BLT\\r', 'Old Oak Tap', 'Read more ']"
      ]
     },
     "execution_count": 9,
     "metadata": {},
     "output_type": "execute_result"
    }
   ],
   "source": [
    "tmp_str = tmp_one.find(class_ = 'sammyListing').get_text()\n",
    "tmp_str.split('\\n')"
   ]
  },
  {
   "cell_type": "code",
   "execution_count": 10,
   "metadata": {},
   "outputs": [
    {
     "data": {
      "text/plain": [
       "'BLT'"
      ]
     },
     "execution_count": 10,
     "metadata": {},
     "output_type": "execute_result"
    }
   ],
   "source": [
    "tmp_res = tmp_str.split('\\n')\n",
    "menu = tmp_res[0].replace('\\r','')\n",
    "menu"
   ]
  },
  {
   "cell_type": "code",
   "execution_count": 11,
   "metadata": {},
   "outputs": [
    {
     "data": {
      "text/plain": [
       "'Old Oak Tap'"
      ]
     },
     "execution_count": 11,
     "metadata": {},
     "output_type": "execute_result"
    }
   ],
   "source": [
    "cafe = tmp_res[1]\n",
    "cafe"
   ]
  },
  {
   "cell_type": "code",
   "execution_count": 12,
   "metadata": {},
   "outputs": [],
   "source": [
    "# Regular Expression 정규표현식~~\n",
    "import re"
   ]
  },
  {
   "cell_type": "code",
   "execution_count": 13,
   "metadata": {},
   "outputs": [
    {
     "data": {
      "text/plain": [
       "['BLT', 'Old Oak Tap', 'Read more ']"
      ]
     },
     "execution_count": 13,
     "metadata": {},
     "output_type": "execute_result"
    }
   ],
   "source": [
    "re.split(('\\n|\\r\\n'), tmp_str)"
   ]
  },
  {
   "cell_type": "code",
   "execution_count": 14,
   "metadata": {},
   "outputs": [
    {
     "name": "stdout",
     "output_type": "stream",
     "text": [
      "BLT\n",
      "Old Oak Tap\n"
     ]
    }
   ],
   "source": [
    "print(re.split(('\\n|\\r\\n'), tmp_str)[0])\n",
    "print(re.split(('\\n|\\r\\n'), tmp_str)[1])"
   ]
  },
  {
   "cell_type": "code",
   "execution_count": 58,
   "metadata": {},
   "outputs": [
    {
     "data": {
      "text/plain": [
       "[<div class=\"sammy\" style=\"position: relative;\">\n",
       " <div class=\"sammyRank\">1</div>\n",
       " <div class=\"sammyListing\"><a href=\"/Chicago-Magazine/November-2012/Best-Sandwiches-in-Chicago-Old-Oak-Tap-BLT/\"><b>BLT</b><br>\n",
       " Old Oak Tap<br>\n",
       " <em>Read more</em> </br></br></a></div>\n",
       " </div>,\n",
       " <div class=\"sammy\" style=\"position: relative;\">\n",
       " <div class=\"sammyRank\">2</div>\n",
       " <div class=\"sammyListing\"><a href=\"/Chicago-Magazine/November-2012/Best-Sandwiches-in-Chicago-Au-Cheval-Fried-Bologna/\"><b>Fried Bologna</b><br/>\n",
       " Au Cheval<br/>\n",
       " <em>Read more</em> </a></div>\n",
       " </div>,\n",
       " <div class=\"sammy\" style=\"position: relative;\">\n",
       " <div class=\"sammyRank\">3</div>\n",
       " <div class=\"sammyListing\"><a href=\"/Chicago-Magazine/November-2012/Best-Sandwiches-in-Chicago-Xoco-Woodland-Mushroom/\"><b>Woodland Mushroom</b><br/>\n",
       " Xoco<br/>\n",
       " <em>Read more</em> </a></div>\n",
       " </div>,\n",
       " <div class=\"sammy\" style=\"position: relative;\">\n",
       " <div class=\"sammyRank\">4</div>\n",
       " <div class=\"sammyListing\"><a href=\"/Chicago-Magazine/November-2012/Best-Sandwiches-in-Chicago-Als-Deli-Roast-Beef/\"><b>Roast Beef</b><br/>\n",
       " Al’s Deli<br/>\n",
       " <em>Read more</em> </a></div>\n",
       " </div>,\n",
       " <div class=\"sammy\" style=\"position: relative;\">\n",
       " <div class=\"sammyRank\">5</div>\n",
       " <div class=\"sammyListing\"><a href=\"/Chicago-Magazine/November-2012/Best-Sandwiches-in-Chicago-Publican-Quality-Meats-PB-L/\"><b>PB&amp;L</b><br/>\n",
       " Publican Quality Meats<br/>\n",
       " <em>Read more</em> </a></div>\n",
       " </div>,\n",
       " <div class=\"sammy\" style=\"position: relative;\">\n",
       " <div class=\"sammyRank\">6</div>\n",
       " <div class=\"sammyListing\"><a href=\"http://www.chicagomag.com/Chicago-Magazine/November-2012/Best-Sandwiches-in-Chicago-Hendrickx-Belgian-Bread-Crafter-Belgian-Chicken-Curry-Salad/\"><b>Belgian Chicken Curry Salad</b><br/>\n",
       " Hendrickx Belgian Bread Crafter<br/>\n",
       " <em>Read more</em> </a></div>\n",
       " </div>,\n",
       " <div class=\"sammy\" style=\"position: relative;\">\n",
       " <div class=\"sammyRank\">7</div>\n",
       " <div class=\"sammyListing\"><a href=\"/Chicago-Magazine/November-2012/Best-Sandwiches-in-Chicago-Acadia-Lobster-Roll/\"><b>Lobster Roll</b><br/>\n",
       " Acadia<br/>\n",
       " <em>Read more</em> </a></div>\n",
       " </div>,\n",
       " <div class=\"sammy\" style=\"position: relative;\">\n",
       " <div class=\"sammyRank\">8</div>\n",
       " <div class=\"sammyListing\"><a href=\"/Chicago-Magazine/November-2012/Best-Sandwiches-in-Chicago-Birchwood-Kitchen-Smoked-Salmon-Salad/\"><b>Smoked Salmon Salad</b><br/>\n",
       " Birchwood Kitchen<br/>\n",
       " <em>Read more</em> </a></div>\n",
       " </div>,\n",
       " <div class=\"sammy\" style=\"position: relative;\">\n",
       " <div class=\"sammyRank\">9</div>\n",
       " <div class=\"sammyListing\"><a href=\"/Chicago-Magazine/November-2012/Best-Sandwiches-in-Chicago-Cemitas-Puebla-Atomica-Cemitas/\"><b>Atomica Cemitas</b><br/>\n",
       " Cemitas Puebla<br/>\n",
       " <em>Read more</em> </a></div>\n",
       " </div>,\n",
       " <div class=\"sammy\" style=\"position: relative;\">\n",
       " <div class=\"sammyRank\">10</div>\n",
       " <div class=\"sammyListing\"><a href=\"/Chicago-Magazine/November-2012/Best-Sandwiches-in-Chicago-Nana-Grilled-Laughing-Bird-Shrimp-and-Fried-Oyster-Po-Boy/\"><b>Grilled Laughing Bird Shrimp and Fried Po’ Boy</b><br/>\n",
       " Nana<br/>\n",
       " <em>Read more</em> </a></div>\n",
       " </div>,\n",
       " <div class=\"sammy\" style=\"position: relative;\">\n",
       " <div class=\"sammyRank\">11</div>\n",
       " <div class=\"sammyListing\"><a href=\"http://www.chicagomag.com/Chicago-Magazine/November-2012/Best-Sandwiches-in-Chicago-Lula-Cafe-Ham-and-Raclette-Panino/\"><b>Ham and Raclette Panino</b><br/>\n",
       " Lula Cafe<br/>\n",
       " <em>Read more</em> </a></div>\n",
       " </div>,\n",
       " <div class=\"sammy\" style=\"position: relative;\">\n",
       " <div class=\"sammyRank\">12</div>\n",
       " <div class=\"sammyListing\"><a href=\"http://www.chicagomag.com/Chicago-Magazine/November-2012/Best-Sandwiches-in-Chicago-Ricobenes-Breaded-Steak/\"><b>Breaded Steak</b><br/>\n",
       " Ricobene’s<br/>\n",
       " <em>Read more</em> </a></div>\n",
       " </div>,\n",
       " <div class=\"sammy\" style=\"position: relative;\">\n",
       " <div class=\"sammyRank\">13</div>\n",
       " <div class=\"sammyListing\"><a href=\"http://www.chicagomag.com/Chicago-Magazine/November-2012/Best-Sandwiches-in-Chicago-Frog-n-Snail-The-Hawkeye/\"><b>The Hawkeye</b><br/>\n",
       " Frog n Snail<br/>\n",
       " <em>Read more</em> </a></div>\n",
       " </div>,\n",
       " <div class=\"sammy\" style=\"position: relative;\">\n",
       " <div class=\"sammyRank\">14</div>\n",
       " <div class=\"sammyListing\"><a href=\"http://www.chicagomag.com/Chicago-Magazine/November-2012/Best-Sandwiches-in-Chicago-Crosbys-Kitchen-Chicken-Dip/\"><b>Chicken Dip</b><br/>\n",
       " Crosby’s Kitchen<br/>\n",
       " <em>Read more</em> </a></div>\n",
       " </div>,\n",
       " <div class=\"sammy\" style=\"position: relative;\">\n",
       " <div class=\"sammyRank\">15</div>\n",
       " <div class=\"sammyListing\"><a href=\"http://www.chicagomag.com/Chicago-Magazine/November-2012/Best-Sandwiches-in-Chicago-Longman-and-Eagle-Wild-Boar-Sloppy-Joe/\"><b>Wild Boar Sloppy Joe</b><br/>\n",
       " Longman &amp; Eagle<br/>\n",
       " <em>Read more</em> </a></div>\n",
       " </div>,\n",
       " <div class=\"sammy\" style=\"position: relative;\">\n",
       " <div class=\"sammyRank\">16</div>\n",
       " <div class=\"sammyListing\"><a href=\"http://www.chicagomag.com/Chicago-Magazine/November-2012/Best-Sandwiches-in-Chicago-Bari-Meatball-Sub/\"><b>Meatball Sub</b><br/>\n",
       " Bari<br/>\n",
       " <em>Read more</em> </a></div>\n",
       " </div>,\n",
       " <div class=\"sammy\" style=\"position: relative;\">\n",
       " <div class=\"sammyRank\">17</div>\n",
       " <div class=\"sammyListing\"><a href=\"http://www.chicagomag.com/Chicago-Magazine/November-2012/Best-Sandwiches-in-Chicago-Mannys-Corned-Beef/\"><b>Corned Beef</b><br/>\n",
       " Manny’s<br/>\n",
       " <em>Read more</em> </a></div>\n",
       " </div>,\n",
       " <div class=\"sammy\" style=\"position: relative;\">\n",
       " <div class=\"sammyRank\">18</div>\n",
       " <div class=\"sammyListing\"><a href=\"http://www.chicagomag.com/Chicago-Magazine/November-2012/Best-Sandwiches-in-Chicago-Eggys-Turkey-Club/\"><b>Turkey Club</b><br/>\n",
       " Eggy’s<br/>\n",
       " <em>Read more</em> </a></div>\n",
       " </div>,\n",
       " <div class=\"sammy\" style=\"position: relative;\">\n",
       " <div class=\"sammyRank\">19</div>\n",
       " <div class=\"sammyListing\"><a href=\"http://www.chicagomag.com/Chicago-Magazine/November-2012/Best-Sandwiches-in-Chicago-Old-Jerusalem-Falafel/\"><b>Falafel</b><br/>\n",
       " Old Jerusalem<br/>\n",
       " <em>Read more</em> </a></div>\n",
       " </div>,\n",
       " <div class=\"sammy\" style=\"position: relative;\">\n",
       " <div class=\"sammyRank\">20</div>\n",
       " <div class=\"sammyListing\"><a href=\"http://www.chicagomag.com/Chicago-Magazine/November-2012/Best-Sandwiches-in-Chicago-Mindys-HotChocolate-Crab-Cake/\"><b>Crab Cake</b><br/>\n",
       " Mindy’s HotChocolate<br/>\n",
       " <em>Read more</em> </a></div>\n",
       " </div>,\n",
       " <div class=\"sammy\" style=\"position: relative;\">\n",
       " <div class=\"sammyRank\">21</div>\n",
       " <div class=\"sammyListing\"><a href=\"http://www.chicagomag.com/Chicago-Magazine/November-2012/Best-Sandwiches-in-Chicago-Olgas-Delicatessen-Chicken-Schnitzel/\"><b>Chicken Schnitzel</b><br/>\n",
       " Olga’s Delicatessen<br/>\n",
       " <em>Read more</em> </a></div>\n",
       " </div>,\n",
       " <div class=\"sammy\" style=\"position: relative;\">\n",
       " <div class=\"sammyRank\">22</div>\n",
       " <div class=\"sammyListing\"><a href=\"http://www.chicagomag.com/Chicago-Magazine/November-2012/Best-Sandwiches-in-Chicago-Dawali-Mediterranean-Kitchen-Shawarma/\"><b>Shawarma</b><br/>\n",
       " Dawali Mediterranean Kitchen<br/>\n",
       " <em>Read more</em> </a></div>\n",
       " </div>,\n",
       " <div class=\"sammy\" style=\"position: relative;\">\n",
       " <div class=\"sammyRank\">23</div>\n",
       " <div class=\"sammyListing\"><a href=\"http://www.chicagomag.com/Chicago-Magazine/November-2012/Best-Sandwiches-in-Chicago-Big-Jones-Toasted-Pimiento-Cheese/\"><b>Toasted Pimiento Cheese</b><br/>\n",
       " Big Jones<br/>\n",
       " <em>Read more</em> </a></div>\n",
       " </div>,\n",
       " <div class=\"sammy\" style=\"position: relative;\">\n",
       " <div class=\"sammyRank\">24</div>\n",
       " <div class=\"sammyListing\"><a href=\"http://www.chicagomag.com/Chicago-Magazine/November-2012/Best-Sandwiches-in-Chicago-La-Pane-Vegetarian-Panino/\"><b>Vegetarian Panino</b><br/>\n",
       " La Pane<br/>\n",
       " <em>Read more</em> </a></div>\n",
       " </div>,\n",
       " <div class=\"sammy\" style=\"position: relative;\">\n",
       " <div class=\"sammyRank\">25</div>\n",
       " <div class=\"sammyListing\"><a href=\"/Chicago-Magazine/November-2012/Best-Sandwiches-in-Chicago-Pastoral-Cali-Chevre/\"><b>Cali Chèvre</b><br/>\n",
       " Pastoral<br/>\n",
       " <em>Read more</em> </a></div>\n",
       " </div>,\n",
       " <div class=\"sammy\" style=\"position: relative;\">\n",
       " <div class=\"sammyRank\">26</div>\n",
       " <div class=\"sammyListing\"><a href=\"http://www.chicagomag.com/Chicago-Magazine/November-2012/Best-Sandwiches-in-Chicago-Maxs-Deli-Pastrami/\"><b>Pastrami</b><br/>\n",
       " Max’s Deli<br/>\n",
       " <em>Read more</em> </a></div>\n",
       " </div>,\n",
       " <div class=\"sammy\" style=\"position: relative;\">\n",
       " <div class=\"sammyRank\">27</div>\n",
       " <div class=\"sammyListing\"><a href=\"http://www.chicagomag.com/Chicago-Magazine/November-2012/Best-Sandwiches-in-Chicago-Luckys-Sandwich-Co-The-Fredo/\"><b>The Fredo</b><br/>\n",
       " Lucky’s Sandwich Co.<br/>\n",
       " <em>Read more</em> </a></div>\n",
       " </div>,\n",
       " <div class=\"sammy\" style=\"position: relative;\">\n",
       " <div class=\"sammyRank\">28</div>\n",
       " <div class=\"sammyListing\"><a href=\"http://www.chicagomag.com/Chicago-Magazine/November-2012/Best-Sandwiches-in-Chicago-City-Provisions-Smoked-Ham/\"><b>Smoked Ham</b><br/>\n",
       " City Provisions<br/>\n",
       " <em>Read more</em> </a></div>\n",
       " </div>,\n",
       " <div class=\"sammy\" style=\"position: relative;\">\n",
       " <div class=\"sammyRank\">29</div>\n",
       " <div class=\"sammyListing\"><a href=\"http://www.chicagomag.com/Chicago-Magazine/November-2012/Best-Sandwiches-in-Chicago-Papas-Cache-Sabroso-Jibarito/\"><b>Jibarito</b><br/>\n",
       " Papa’s Cache Sabroso<br/>\n",
       " <em>Read more</em> </a></div>\n",
       " </div>,\n",
       " <div class=\"sammy\" style=\"position: relative;\">\n",
       " <div class=\"sammyRank\">30</div>\n",
       " <div class=\"sammyListing\"><a href=\"http://www.chicagomag.com/Chicago-Magazine/November-2012/Best-Sandwiches-in-Chicago-Bavettes-Bar-and-Boeuf-Shaved-Prime-Rib/\"><b>Shaved Prime Rib</b><br/>\n",
       " Bavette’s Bar &amp; Boeuf<br/>\n",
       " <em>Read more</em> </a></div>\n",
       " </div>,\n",
       " <div class=\"sammy\" style=\"position: relative;\">\n",
       " <div class=\"sammyRank\">31</div>\n",
       " <div class=\"sammyListing\"><a href=\"http://www.chicagomag.com/Chicago-Magazine/November-2012/Best-Sandwiches-in-Chicago-Hannahs-Bretzel-Serrano-Ham-and-Manchego-Cheese/\"><b>Serrano Ham and Manchego Cheese</b><br/>\n",
       " Hannah’s Bretzel<br/>\n",
       " <em>Read more</em> </a></div>\n",
       " </div>,\n",
       " <div class=\"sammy\" style=\"position: relative;\">\n",
       " <div class=\"sammyRank\">32</div>\n",
       " <div class=\"sammyListing\"><a href=\"http://www.chicagomag.com/Chicago-Magazine/November-2012/Best-Sandwiches-in-Chicago-La-Fournette-Tuna-Salad/\"><b>Tuna Salad</b><br/>\n",
       " La Fournette<br/>\n",
       " <em>Read more</em> </a></div>\n",
       " </div>,\n",
       " <div class=\"sammy\" style=\"position: relative;\">\n",
       " <div class=\"sammyRank\">33</div>\n",
       " <div class=\"sammyListing\"><a href=\"http://www.chicagomag.com/Chicago-Magazine/November-2012/Best-Sandwiches-in-Chicago-Paramount-Room-Paramount-Reuben/\"><b>Paramount Reuben</b><br/>\n",
       " Paramount Room<br/>\n",
       " <em>Read more</em> </a></div>\n",
       " </div>,\n",
       " <div class=\"sammy\" style=\"position: relative;\">\n",
       " <div class=\"sammyRank\">34</div>\n",
       " <div class=\"sammyListing\"><a href=\"http://www.chicagomag.com/Chicago-Magazine/November-2012/Best-Sandwiches-in-Chicago-Melt-Sandwich-Shoppe-The-Istanbul/\"><b>The Istanbul</b><br/>\n",
       " Melt Sandwich Shoppe<br/>\n",
       " <em>Read more</em> </a></div>\n",
       " </div>,\n",
       " <div class=\"sammy\" style=\"position: relative;\">\n",
       " <div class=\"sammyRank\">35</div>\n",
       " <div class=\"sammyListing\"><a href=\"http://www.chicagomag.com/Chicago-Magazine/November-2012/Best-Sandwiches-in-Chicago-Floriole-Cafe-and-Bakery-BAD/\"><b>B.A.D.</b><br/>\n",
       " Floriole Cafe &amp; Bakery<br/>\n",
       " <em>Read more</em> </a></div>\n",
       " </div>,\n",
       " <div class=\"sammy\" style=\"position: relative;\">\n",
       " <div class=\"sammyRank\">36</div>\n",
       " <div class=\"sammyListing\"><a href=\"http://www.chicagomag.com/Chicago-Magazine/November-2012/Best-Sandwiches-in-Chicago-First-Slice-Pie-Cafe-Duck-Confit-and-Mozzarella/\"><b>Duck Confit and Mozzarella</b><br/>\n",
       " First Slice Pie Café<br/>\n",
       " <em>Read more</em> </a></div>\n",
       " </div>,\n",
       " <div class=\"sammy\" style=\"position: relative;\">\n",
       " <div class=\"sammyRank\">37</div>\n",
       " <div class=\"sammyListing\"><a href=\"http://www.chicagomag.com/Chicago-Magazine/November-2012/Best-Sandwiches-in-Chicago-Troquet-Croque-Monsieur/\"><b>Croque Monsieur</b><br/>\n",
       " Troquet<br/>\n",
       " <em>Read more</em> </a></div>\n",
       " </div>,\n",
       " <div class=\"sammy\" style=\"position: relative;\">\n",
       " <div class=\"sammyRank\">38</div>\n",
       " <div class=\"sammyListing\"><a href=\"http://www.chicagomag.com/Chicago-Magazine/November-2012/Best-Sandwiches-in-Chicago-Grahamwich-Green-Garbanzo/\"><b>Green Garbanzo</b><br/>\n",
       " Grahamwich<br/>\n",
       " <em>Read more</em> </a></div>\n",
       " </div>,\n",
       " <div class=\"sammy\" style=\"position: relative;\">\n",
       " <div class=\"sammyRank\">39</div>\n",
       " <div class=\"sammyListing\"><a href=\"http://www.chicagomag.com/Chicago-Magazine/November-2012/Best-Sandwiches-in-Chicago-Saigon-Sisters-The-Hen-House/\"><b>The Hen House</b><br/>\n",
       " Saigon Sisters<br/>\n",
       " <em>Read more</em> </a></div>\n",
       " </div>,\n",
       " <div class=\"sammy\" style=\"position: relative;\">\n",
       " <div class=\"sammyRank\">40</div>\n",
       " <div class=\"sammyListing\"><a href=\"http://www.chicagomag.com/Chicago-Magazine/November-2012/Best-Sandwiches-in-Chicago-Rosalias-Deli-Tuscan-Chicken/\"><b>Tuscan Chicken</b><br/>\n",
       " Rosalia’s Deli<br/>\n",
       " <em>Read more</em> </a></div>\n",
       " </div>,\n",
       " <div class=\"sammy\" style=\"position: relative;\">\n",
       " <div class=\"sammyRank\">41</div>\n",
       " <div class=\"sammyListing\"><a href=\"http://www.chicagomag.com/Chicago-Magazine/November-2012/Best-Sandwiches-in-Chicago-Z-and-H-MarketCafe-The-Marty/\"><b>The Marty </b><br/>\n",
       " Z&amp;H MarketCafe<br/>\n",
       " <em>Read more</em> </a></div>\n",
       " </div>,\n",
       " <div class=\"sammy\" style=\"position: relative;\">\n",
       " <div class=\"sammyRank\">42</div>\n",
       " <div class=\"sammyListing\"><a href=\"http://www.chicagomag.com/Chicago-Magazine/November-2012/Best-Sandwiches-in-Chicago-Market-House-on-the-Square-Whitefish/\"><b>Whitefish</b><br/>\n",
       " Market House on the Square<br/>\n",
       " <em>Read more</em> </a></div>\n",
       " </div>,\n",
       " <div class=\"sammy\" style=\"position: relative;\">\n",
       " <div class=\"sammyRank\">43</div>\n",
       " <div class=\"sammyListing\"><a href=\"http://www.chicagomag.com/Chicago-Magazine/November-2012/Best-Sandwiches-in-Chicago-Elaines-Coffee-Call-Oat-Bread-Pecan-Butter-and-Fruit-Jam/\"><b>Oat Bread, Pecan Butter, and Fruit Jam</b><br/>\n",
       " Elaine’s Coffee Call<br/>\n",
       " <em>Read more</em> </a></div>\n",
       " </div>,\n",
       " <div class=\"sammy\" style=\"position: relative;\">\n",
       " <div class=\"sammyRank\">44</div>\n",
       " <div class=\"sammyListing\"><a href=\"http://www.chicagomag.com/Chicago-Magazine/November-2012/Best-Sandwiches-in-Chicago-Marion-Street-Cheese-Market-Cauliflower-Melt/\"><b>Cauliflower Melt</b><br/>\n",
       " Marion Street Cheese Market<br/>\n",
       " <em>Read more</em> </a></div>\n",
       " </div>,\n",
       " <div class=\"sammy\" style=\"position: relative;\">\n",
       " <div class=\"sammyRank\">45</div>\n",
       " <div class=\"sammyListing\"><a href=\"http://www.chicagomag.com/Chicago-Magazine/November-2012/Best-Sandwiches-in-Chicago-Cafecito-Cubano/\"><b>Cubana</b><br/>\n",
       " Cafecito<br/>\n",
       " <em>Read more</em> </a></div>\n",
       " </div>,\n",
       " <div class=\"sammy\" style=\"position: relative;\">\n",
       " <div class=\"sammyRank\">46</div>\n",
       " <div class=\"sammyListing\"><a href=\"http://www.chicagomag.com/Chicago-Magazine/November-2012/Best-Sandwiches-in-Chicago-Chickpea-Kufta/\"><b>Kufta</b><br/>\n",
       " Chickpea<br/>\n",
       " <em>Read more</em> </a></div>\n",
       " </div>,\n",
       " <div class=\"sammy\" style=\"position: relative;\">\n",
       " <div class=\"sammyRank\">47</div>\n",
       " <div class=\"sammyListing\"><a href=\"http://www.chicagomag.com/Chicago-Magazine/November-2012/Best-Sandwiches-in-Chicago-The-Goddess-and-Grocer-Debbies-Egg-Salad/\"><b>Debbie’s Egg Salad</b><br/>\n",
       " The Goddess and Grocer<br/>\n",
       " <em>Read more</em> </a></div>\n",
       " </div>,\n",
       " <div class=\"sammy\" style=\"position: relative;\">\n",
       " <div class=\"sammyRank\">48</div>\n",
       " <div class=\"sammyListing\"><a href=\"http://www.chicagomag.com/Chicago-Magazine/November-2012/Best-Sandwiches-in-Chicago-Zenwich-Beef-Curry/\"><b>Beef Curry</b><br/>\n",
       " Zenwich<br/>\n",
       " <em>Read more</em> </a></div>\n",
       " </div>,\n",
       " <div class=\"sammy\" style=\"position: relative;\">\n",
       " <div class=\"sammyRank\">49</div>\n",
       " <div class=\"sammyListing\"><a href=\"http://www.chicagomag.com/Chicago-Magazine/November-2012/Best-Sandwiches-in-Chicago-Toni-Patisserie-Le-Vegetarien/\"><b>Le Végétarien</b><br/>\n",
       " Toni Patisserie<br/>\n",
       " <em>Read more</em> </a></div>\n",
       " </div>,\n",
       " <div class=\"sammy\" style=\"position: relative; border-bottom: 0\">\n",
       " <div class=\"sammyRank\">50</div>\n",
       " <div class=\"sammyListing\"><a href=\"http://www.chicagomag.com/Chicago-Magazine/November-2012/Best-Sandwiches-in-Chicago-Phoebes-Bakery-The-Gatsby/\"><b>The Gatsby</b><br/>\n",
       " Phoebe’s Bakery<br/>\n",
       " <em>Read more</em> </a></div>\n",
       " </div>]"
      ]
     },
     "execution_count": 58,
     "metadata": {},
     "output_type": "execute_result"
    }
   ],
   "source": [
    "from urllib.parse import urljoin\n",
    "\n",
    "\n",
    "rest_list"
   ]
  },
  {
   "cell_type": "code",
   "execution_count": 16,
   "metadata": {},
   "outputs": [],
   "source": [
    "## 데이터 프레임 만들기 전에 항목 데이터 구하기\n",
    "rank= []\n",
    "main_menu = []\n",
    "cafe_name = []\n",
    "url_add = []\n",
    "\n",
    "for rest in rest_list:\n",
    "    rank.append(int(rest.find(class_ = 'sammyRank').get_text()))\n",
    "    tmp_str = rest.find(class_ = 'sammyListing').get_text()\n",
    "    main_menu.append(re.split(('\\n|\\r\\n'), tmp_str)[0])\n",
    "    cafe_name.append(re.split(('\\n|\\r\\n'), tmp_str)[1])\n",
    "    url_add.append(urljoin(url_base, rest.find('a')['href']))"
   ]
  },
  {
   "cell_type": "code",
   "execution_count": 17,
   "metadata": {
    "scrolled": true
   },
   "outputs": [
    {
     "data": {
      "text/plain": [
       "0     http://www.chicagomag.com/Chicago-Magazine/Nov...\n",
       "1     http://www.chicagomag.com/Chicago-Magazine/Nov...\n",
       "2     http://www.chicagomag.com/Chicago-Magazine/Nov...\n",
       "3     http://www.chicagomag.com/Chicago-Magazine/Nov...\n",
       "4     http://www.chicagomag.com/Chicago-Magazine/Nov...\n",
       "5     http://www.chicagomag.com/Chicago-Magazine/Nov...\n",
       "6     http://www.chicagomag.com/Chicago-Magazine/Nov...\n",
       "7     http://www.chicagomag.com/Chicago-Magazine/Nov...\n",
       "8     http://www.chicagomag.com/Chicago-Magazine/Nov...\n",
       "9     http://www.chicagomag.com/Chicago-Magazine/Nov...\n",
       "10    http://www.chicagomag.com/Chicago-Magazine/Nov...\n",
       "11    http://www.chicagomag.com/Chicago-Magazine/Nov...\n",
       "12    http://www.chicagomag.com/Chicago-Magazine/Nov...\n",
       "13    http://www.chicagomag.com/Chicago-Magazine/Nov...\n",
       "14    http://www.chicagomag.com/Chicago-Magazine/Nov...\n",
       "15    http://www.chicagomag.com/Chicago-Magazine/Nov...\n",
       "16    http://www.chicagomag.com/Chicago-Magazine/Nov...\n",
       "17    http://www.chicagomag.com/Chicago-Magazine/Nov...\n",
       "18    http://www.chicagomag.com/Chicago-Magazine/Nov...\n",
       "19    http://www.chicagomag.com/Chicago-Magazine/Nov...\n",
       "20    http://www.chicagomag.com/Chicago-Magazine/Nov...\n",
       "21    http://www.chicagomag.com/Chicago-Magazine/Nov...\n",
       "22    http://www.chicagomag.com/Chicago-Magazine/Nov...\n",
       "23    http://www.chicagomag.com/Chicago-Magazine/Nov...\n",
       "24    http://www.chicagomag.com/Chicago-Magazine/Nov...\n",
       "25    http://www.chicagomag.com/Chicago-Magazine/Nov...\n",
       "26    http://www.chicagomag.com/Chicago-Magazine/Nov...\n",
       "27    http://www.chicagomag.com/Chicago-Magazine/Nov...\n",
       "28    http://www.chicagomag.com/Chicago-Magazine/Nov...\n",
       "29    http://www.chicagomag.com/Chicago-Magazine/Nov...\n",
       "30    http://www.chicagomag.com/Chicago-Magazine/Nov...\n",
       "31    http://www.chicagomag.com/Chicago-Magazine/Nov...\n",
       "32    http://www.chicagomag.com/Chicago-Magazine/Nov...\n",
       "33    http://www.chicagomag.com/Chicago-Magazine/Nov...\n",
       "34    http://www.chicagomag.com/Chicago-Magazine/Nov...\n",
       "35    http://www.chicagomag.com/Chicago-Magazine/Nov...\n",
       "36    http://www.chicagomag.com/Chicago-Magazine/Nov...\n",
       "37    http://www.chicagomag.com/Chicago-Magazine/Nov...\n",
       "38    http://www.chicagomag.com/Chicago-Magazine/Nov...\n",
       "39    http://www.chicagomag.com/Chicago-Magazine/Nov...\n",
       "40    http://www.chicagomag.com/Chicago-Magazine/Nov...\n",
       "41    http://www.chicagomag.com/Chicago-Magazine/Nov...\n",
       "42    http://www.chicagomag.com/Chicago-Magazine/Nov...\n",
       "43    http://www.chicagomag.com/Chicago-Magazine/Nov...\n",
       "44    http://www.chicagomag.com/Chicago-Magazine/Nov...\n",
       "45    http://www.chicagomag.com/Chicago-Magazine/Nov...\n",
       "46    http://www.chicagomag.com/Chicago-Magazine/Nov...\n",
       "47    http://www.chicagomag.com/Chicago-Magazine/Nov...\n",
       "48    http://www.chicagomag.com/Chicago-Magazine/Nov...\n",
       "49    http://www.chicagomag.com/Chicago-Magazine/Nov...\n",
       "Name: URL, dtype: object"
      ]
     },
     "execution_count": 17,
     "metadata": {},
     "output_type": "execute_result"
    }
   ],
   "source": [
    "# 데이터 프레임으로 만들기\n",
    "import pandas as pd\n",
    "df = pd.DataFrame ({'rank':rank, 'cafe':cafe_name, 'menu':main_menu,  'URL': url_add})\n",
    "df['URL']"
   ]
  },
  {
   "cell_type": "code",
   "execution_count": 18,
   "metadata": {},
   "outputs": [],
   "source": [
    "df.to_csv('chicago1.csv', sep = ',', encoding = 'UTF-8')"
   ]
  },
  {
   "cell_type": "markdown",
   "metadata": {},
   "source": [
    "## 3. 다수의 웹 페이지에서 자동으로 접근하여 원하는 정보 가져오기"
   ]
  },
  {
   "cell_type": "code",
   "execution_count": 19,
   "metadata": {},
   "outputs": [
    {
     "data": {
      "text/plain": [
       "'http://www.chicagomag.com/Chicago-Magazine/November-2012/Best-Sandwiches-in-Chicago-Old-Oak-Tap-BLT/'"
      ]
     },
     "execution_count": 19,
     "metadata": {},
     "output_type": "execute_result"
    }
   ],
   "source": [
    "df['URL'][0]"
   ]
  },
  {
   "cell_type": "code",
   "execution_count": 20,
   "metadata": {},
   "outputs": [
    {
     "data": {
      "text/plain": [
       "[<p class=\"addy\">\n",
       " <em>$10. 2109 W. Chicago Ave., 773-772-0406, <a href=\"http://www.theoldoaktap.com/\">theoldoaktap.com</a></em></p>]"
      ]
     },
     "execution_count": 20,
     "metadata": {},
     "output_type": "execute_result"
    }
   ],
   "source": [
    "html = urlopen(df['URL'][0])\n",
    "soup_tmp = BeautifulSoup(html, 'html.parser')\n",
    "soup_tmp.find_all(class_ = 'addy')"
   ]
  },
  {
   "cell_type": "code",
   "execution_count": 21,
   "metadata": {},
   "outputs": [
    {
     "data": {
      "text/plain": [
       "'\\n$10. 2109 W. Chicago Ave., 773-772-0406, theoldoaktap.com'"
      ]
     },
     "execution_count": 21,
     "metadata": {},
     "output_type": "execute_result"
    }
   ],
   "source": [
    "tmp_str = soup_tmp.find(class_ = 'addy').get_text()\n",
    "tmp_str"
   ]
  },
  {
   "cell_type": "code",
   "execution_count": 22,
   "metadata": {},
   "outputs": [
    {
     "data": {
      "text/plain": [
       "['$10.', '2109', 'W.', 'Chicago', 'Ave.,', '773-772-0406,', 'theoldoaktap.com']"
      ]
     },
     "execution_count": 22,
     "metadata": {},
     "output_type": "execute_result"
    }
   ],
   "source": [
    "tmp_str.split()"
   ]
  },
  {
   "cell_type": "code",
   "execution_count": 23,
   "metadata": {},
   "outputs": [
    {
     "data": {
      "text/plain": [
       "'$10'"
      ]
     },
     "execution_count": 23,
     "metadata": {},
     "output_type": "execute_result"
    }
   ],
   "source": [
    "tmp_price = tmp_str.split()[0][0:-1]\n",
    "tmp_price"
   ]
  },
  {
   "cell_type": "code",
   "execution_count": 24,
   "metadata": {},
   "outputs": [
    {
     "data": {
      "text/plain": [
       "['2109', 'W.', 'Chicago', 'Ave.,']"
      ]
     },
     "execution_count": 24,
     "metadata": {},
     "output_type": "execute_result"
    }
   ],
   "source": [
    "tmp_str.split()[1:-2]"
   ]
  },
  {
   "cell_type": "code",
   "execution_count": 25,
   "metadata": {},
   "outputs": [
    {
     "data": {
      "text/plain": [
       "'2109 W. Chicago Ave.,'"
      ]
     },
     "execution_count": 25,
     "metadata": {},
     "output_type": "execute_result"
    }
   ],
   "source": [
    "# 무조건 외울 것. ' '.join(리스트값)\n",
    "' '.join(tmp_str.split()[1:-2])"
   ]
  },
  {
   "cell_type": "code",
   "execution_count": 26,
   "metadata": {},
   "outputs": [
    {
     "data": {
      "text/plain": [
       "'2109 W. Chicago Ave.'"
      ]
     },
     "execution_count": 26,
     "metadata": {},
     "output_type": "execute_result"
    }
   ],
   "source": [
    "tmp_addr = ' '.join(tmp_str.split()[1:-2])[:-1]\n",
    "tmp_addr"
   ]
  },
  {
   "cell_type": "markdown",
   "metadata": {},
   "source": [
    "### 상태 진행바 적용"
   ]
  },
  {
   "cell_type": "code",
   "execution_count": 27,
   "metadata": {},
   "outputs": [],
   "source": [
    "from tqdm import tqdm_notebook\n",
    "import time"
   ]
  },
  {
   "cell_type": "code",
   "execution_count": 28,
   "metadata": {},
   "outputs": [
    {
     "name": "stderr",
     "output_type": "stream",
     "text": [
      "C:\\ProgramData\\Anaconda3\\lib\\site-packages\\ipykernel_launcher.py:3: TqdmDeprecationWarning: This function will be removed in tqdm==5.0.0\n",
      "Please use `tqdm.notebook.tqdm` instead of `tqdm.tqdm_notebook`\n",
      "  This is separate from the ipykernel package so we can avoid doing imports until\n"
     ]
    },
    {
     "data": {
      "application/vnd.jupyter.widget-view+json": {
       "model_id": "b1aa387f7ea249c7ae2a45bbc6644cf4",
       "version_major": 2,
       "version_minor": 0
      },
      "text/plain": [
       "HBox(children=(FloatProgress(value=0.0, max=50.0), HTML(value='')))"
      ]
     },
     "metadata": {},
     "output_type": "display_data"
    },
    {
     "name": "stdout",
     "output_type": "stream",
     "text": [
      "\n"
     ]
    }
   ],
   "source": [
    "price = []\n",
    "addr = []\n",
    "for n in tqdm_notebook(df.index):\n",
    "    html = urlopen(df['URL'][n])\n",
    "    soup_tmp = BeautifulSoup(html, 'html.parser')\n",
    "    \n",
    "    tmp_str = soup_tmp.find(class_ = 'addy').get_text()\n",
    "    \n",
    "    price.append(tmp_str.split()[0][:-1])\n",
    "    addr.append(' '.join(tmp_str.split()[1:-2])[:-1])"
   ]
  },
  {
   "cell_type": "code",
   "execution_count": 30,
   "metadata": {},
   "outputs": [
    {
     "data": {
      "text/plain": [
       "['$10', '$9', '$9.50', '$9.40', '$10', '$7.25', '$16', '$10', '$9', '$17']"
      ]
     },
     "execution_count": 30,
     "metadata": {},
     "output_type": "execute_result"
    }
   ],
   "source": [
    "price[:10]"
   ]
  },
  {
   "cell_type": "code",
   "execution_count": 31,
   "metadata": {},
   "outputs": [
    {
     "data": {
      "text/plain": [
       "['2109 W. Chicago Ave.',\n",
       " '800 W. Randolph St.',\n",
       " '445 N. Clark St.',\n",
       " '914 Noyes St., Evanston',\n",
       " '825 W. Fulton Mkt.']"
      ]
     },
     "execution_count": 31,
     "metadata": {},
     "output_type": "execute_result"
    }
   ],
   "source": [
    "addr[:5]"
   ]
  },
  {
   "cell_type": "markdown",
   "metadata": {},
   "source": [
    "## 예제\n",
    "### dataFrame에서 \n",
    "#### URL 삭제\n",
    "#### Price추가\n",
    "#### addr추가\n",
    "#### chicago2.csv 저장\n"
   ]
  },
  {
   "cell_type": "code",
   "execution_count": 33,
   "metadata": {},
   "outputs": [],
   "source": [
    "del df['URL']"
   ]
  },
  {
   "cell_type": "code",
   "execution_count": 35,
   "metadata": {},
   "outputs": [
    {
     "data": {
      "text/plain": [
       "50"
      ]
     },
     "execution_count": 35,
     "metadata": {},
     "output_type": "execute_result"
    }
   ],
   "source": [
    "len(price)"
   ]
  },
  {
   "cell_type": "code",
   "execution_count": 41,
   "metadata": {},
   "outputs": [],
   "source": [
    "df['Price'] = price\n",
    "df['addr'] = addr"
   ]
  },
  {
   "cell_type": "code",
   "execution_count": 45,
   "metadata": {},
   "outputs": [],
   "source": [
    "df.set_index('rank',inplace = True)"
   ]
  },
  {
   "cell_type": "code",
   "execution_count": 46,
   "metadata": {},
   "outputs": [
    {
     "data": {
      "text/html": [
       "<div>\n",
       "<style scoped>\n",
       "    .dataframe tbody tr th:only-of-type {\n",
       "        vertical-align: middle;\n",
       "    }\n",
       "\n",
       "    .dataframe tbody tr th {\n",
       "        vertical-align: top;\n",
       "    }\n",
       "\n",
       "    .dataframe thead th {\n",
       "        text-align: right;\n",
       "    }\n",
       "</style>\n",
       "<table border=\"1\" class=\"dataframe\">\n",
       "  <thead>\n",
       "    <tr style=\"text-align: right;\">\n",
       "      <th></th>\n",
       "      <th>cafe</th>\n",
       "      <th>menu</th>\n",
       "      <th>Price</th>\n",
       "      <th>addr</th>\n",
       "    </tr>\n",
       "    <tr>\n",
       "      <th>rank</th>\n",
       "      <th></th>\n",
       "      <th></th>\n",
       "      <th></th>\n",
       "      <th></th>\n",
       "    </tr>\n",
       "  </thead>\n",
       "  <tbody>\n",
       "    <tr>\n",
       "      <th>1</th>\n",
       "      <td>Old Oak Tap</td>\n",
       "      <td>BLT</td>\n",
       "      <td>$10</td>\n",
       "      <td>2109 W. Chicago Ave.</td>\n",
       "    </tr>\n",
       "    <tr>\n",
       "      <th>2</th>\n",
       "      <td>Au Cheval</td>\n",
       "      <td>Fried Bologna</td>\n",
       "      <td>$9</td>\n",
       "      <td>800 W. Randolph St.</td>\n",
       "    </tr>\n",
       "    <tr>\n",
       "      <th>3</th>\n",
       "      <td>Xoco</td>\n",
       "      <td>Woodland Mushroom</td>\n",
       "      <td>$9.50</td>\n",
       "      <td>445 N. Clark St.</td>\n",
       "    </tr>\n",
       "    <tr>\n",
       "      <th>4</th>\n",
       "      <td>Al’s Deli</td>\n",
       "      <td>Roast Beef</td>\n",
       "      <td>$9.40</td>\n",
       "      <td>914 Noyes St., Evanston</td>\n",
       "    </tr>\n",
       "    <tr>\n",
       "      <th>5</th>\n",
       "      <td>Publican Quality Meats</td>\n",
       "      <td>PB&amp;L</td>\n",
       "      <td>$10</td>\n",
       "      <td>825 W. Fulton Mkt.</td>\n",
       "    </tr>\n",
       "  </tbody>\n",
       "</table>\n",
       "</div>"
      ],
      "text/plain": [
       "                        cafe               menu  Price  \\\n",
       "rank                                                     \n",
       "1                Old Oak Tap                BLT    $10   \n",
       "2                  Au Cheval      Fried Bologna     $9   \n",
       "3                       Xoco  Woodland Mushroom  $9.50   \n",
       "4                  Al’s Deli         Roast Beef  $9.40   \n",
       "5     Publican Quality Meats               PB&L    $10   \n",
       "\n",
       "                         addr  \n",
       "rank                           \n",
       "1        2109 W. Chicago Ave.  \n",
       "2         800 W. Randolph St.  \n",
       "3            445 N. Clark St.  \n",
       "4     914 Noyes St., Evanston  \n",
       "5          825 W. Fulton Mkt.  "
      ]
     },
     "execution_count": 46,
     "metadata": {},
     "output_type": "execute_result"
    }
   ],
   "source": [
    "df.head()"
   ]
  },
  {
   "cell_type": "code",
   "execution_count": 47,
   "metadata": {},
   "outputs": [],
   "source": [
    "df.to_csv('chicago2.csv', sep = ',', encoding = 'UTF-8')"
   ]
  },
  {
   "cell_type": "code",
   "execution_count": 44,
   "metadata": {},
   "outputs": [
    {
     "data": {
      "text/html": [
       "<div>\n",
       "<style scoped>\n",
       "    .dataframe tbody tr th:only-of-type {\n",
       "        vertical-align: middle;\n",
       "    }\n",
       "\n",
       "    .dataframe tbody tr th {\n",
       "        vertical-align: top;\n",
       "    }\n",
       "\n",
       "    .dataframe thead th {\n",
       "        text-align: right;\n",
       "    }\n",
       "</style>\n",
       "<table border=\"1\" class=\"dataframe\">\n",
       "  <thead>\n",
       "    <tr style=\"text-align: right;\">\n",
       "      <th></th>\n",
       "      <th>rank</th>\n",
       "      <th>cafe</th>\n",
       "      <th>menu</th>\n",
       "      <th>Price</th>\n",
       "      <th>addr</th>\n",
       "    </tr>\n",
       "  </thead>\n",
       "  <tbody>\n",
       "    <tr>\n",
       "      <th>0</th>\n",
       "      <td>1</td>\n",
       "      <td>Old Oak Tap</td>\n",
       "      <td>BLT</td>\n",
       "      <td>$10</td>\n",
       "      <td>2109 W. Chicago Ave.</td>\n",
       "    </tr>\n",
       "    <tr>\n",
       "      <th>1</th>\n",
       "      <td>2</td>\n",
       "      <td>Au Cheval</td>\n",
       "      <td>Fried Bologna</td>\n",
       "      <td>$9</td>\n",
       "      <td>800 W. Randolph St.</td>\n",
       "    </tr>\n",
       "    <tr>\n",
       "      <th>2</th>\n",
       "      <td>3</td>\n",
       "      <td>Xoco</td>\n",
       "      <td>Woodland Mushroom</td>\n",
       "      <td>$9.50</td>\n",
       "      <td>445 N. Clark St.</td>\n",
       "    </tr>\n",
       "    <tr>\n",
       "      <th>3</th>\n",
       "      <td>4</td>\n",
       "      <td>Al’s Deli</td>\n",
       "      <td>Roast Beef</td>\n",
       "      <td>$9.40</td>\n",
       "      <td>914 Noyes St., Evanston</td>\n",
       "    </tr>\n",
       "    <tr>\n",
       "      <th>4</th>\n",
       "      <td>5</td>\n",
       "      <td>Publican Quality Meats</td>\n",
       "      <td>PB&amp;L</td>\n",
       "      <td>$10</td>\n",
       "      <td>825 W. Fulton Mkt.</td>\n",
       "    </tr>\n",
       "    <tr>\n",
       "      <th>5</th>\n",
       "      <td>6</td>\n",
       "      <td>Hendrickx Belgian Bread Crafter</td>\n",
       "      <td>Belgian Chicken Curry Salad</td>\n",
       "      <td>$7.25</td>\n",
       "      <td>100 E. Walto</td>\n",
       "    </tr>\n",
       "    <tr>\n",
       "      <th>6</th>\n",
       "      <td>7</td>\n",
       "      <td>Acadia</td>\n",
       "      <td>Lobster Roll</td>\n",
       "      <td>$16</td>\n",
       "      <td>1639 S. Wabash Ave.</td>\n",
       "    </tr>\n",
       "    <tr>\n",
       "      <th>7</th>\n",
       "      <td>8</td>\n",
       "      <td>Birchwood Kitchen</td>\n",
       "      <td>Smoked Salmon Salad</td>\n",
       "      <td>$10</td>\n",
       "      <td>2211 W. North Ave.</td>\n",
       "    </tr>\n",
       "    <tr>\n",
       "      <th>8</th>\n",
       "      <td>9</td>\n",
       "      <td>Cemitas Puebla</td>\n",
       "      <td>Atomica Cemitas</td>\n",
       "      <td>$9</td>\n",
       "      <td>3619 W. North Ave.</td>\n",
       "    </tr>\n",
       "    <tr>\n",
       "      <th>9</th>\n",
       "      <td>10</td>\n",
       "      <td>Nana</td>\n",
       "      <td>Grilled Laughing Bird Shrimp and Fried Po’ Boy</td>\n",
       "      <td>$17</td>\n",
       "      <td>3267 S. Halsted St.</td>\n",
       "    </tr>\n",
       "    <tr>\n",
       "      <th>10</th>\n",
       "      <td>11</td>\n",
       "      <td>Lula Cafe</td>\n",
       "      <td>Ham and Raclette Panino</td>\n",
       "      <td>$11</td>\n",
       "      <td>2537 N. Kedzie Blvd.</td>\n",
       "    </tr>\n",
       "    <tr>\n",
       "      <th>11</th>\n",
       "      <td>12</td>\n",
       "      <td>Ricobene’s</td>\n",
       "      <td>Breaded Steak</td>\n",
       "      <td>$5.49</td>\n",
       "      <td>Multipl</td>\n",
       "    </tr>\n",
       "    <tr>\n",
       "      <th>12</th>\n",
       "      <td>13</td>\n",
       "      <td>Frog n Snail</td>\n",
       "      <td>The Hawkeye</td>\n",
       "      <td>$14</td>\n",
       "      <td>3124 N. Broadway</td>\n",
       "    </tr>\n",
       "    <tr>\n",
       "      <th>13</th>\n",
       "      <td>14</td>\n",
       "      <td>Crosby’s Kitchen</td>\n",
       "      <td>Chicken Dip</td>\n",
       "      <td>$10</td>\n",
       "      <td>3455 N. Southport Ave.</td>\n",
       "    </tr>\n",
       "    <tr>\n",
       "      <th>14</th>\n",
       "      <td>15</td>\n",
       "      <td>Longman &amp; Eagle</td>\n",
       "      <td>Wild Boar Sloppy Joe</td>\n",
       "      <td>$13</td>\n",
       "      <td>2657 N. Kedzie Ave.</td>\n",
       "    </tr>\n",
       "    <tr>\n",
       "      <th>15</th>\n",
       "      <td>16</td>\n",
       "      <td>Bari</td>\n",
       "      <td>Meatball Sub</td>\n",
       "      <td>$4.50</td>\n",
       "      <td>1120 W. Grand Ave.</td>\n",
       "    </tr>\n",
       "    <tr>\n",
       "      <th>16</th>\n",
       "      <td>17</td>\n",
       "      <td>Manny’s</td>\n",
       "      <td>Corned Beef</td>\n",
       "      <td>$11.95</td>\n",
       "      <td>1141 S. Jefferson St.</td>\n",
       "    </tr>\n",
       "    <tr>\n",
       "      <th>17</th>\n",
       "      <td>18</td>\n",
       "      <td>Eggy’s</td>\n",
       "      <td>Turkey Club</td>\n",
       "      <td>$11.50</td>\n",
       "      <td>333 E. Benton Pl.</td>\n",
       "    </tr>\n",
       "    <tr>\n",
       "      <th>18</th>\n",
       "      <td>19</td>\n",
       "      <td>Old Jerusalem</td>\n",
       "      <td>Falafel</td>\n",
       "      <td>$6.25</td>\n",
       "      <td>1411 N. Wells St.</td>\n",
       "    </tr>\n",
       "    <tr>\n",
       "      <th>19</th>\n",
       "      <td>20</td>\n",
       "      <td>Mindy’s HotChocolate</td>\n",
       "      <td>Crab Cake</td>\n",
       "      <td>$15</td>\n",
       "      <td>1747 N. Damen Ave.</td>\n",
       "    </tr>\n",
       "    <tr>\n",
       "      <th>20</th>\n",
       "      <td>21</td>\n",
       "      <td>Olga’s Delicatessen</td>\n",
       "      <td>Chicken Schnitzel</td>\n",
       "      <td>$5</td>\n",
       "      <td>3209 W. Irving Par</td>\n",
       "    </tr>\n",
       "    <tr>\n",
       "      <th>21</th>\n",
       "      <td>22</td>\n",
       "      <td>Dawali Mediterranean Kitchen</td>\n",
       "      <td>Shawarma</td>\n",
       "      <td>$6</td>\n",
       "      <td>Multipl</td>\n",
       "    </tr>\n",
       "    <tr>\n",
       "      <th>22</th>\n",
       "      <td>23</td>\n",
       "      <td>Big Jones</td>\n",
       "      <td>Toasted Pimiento Cheese</td>\n",
       "      <td>$8</td>\n",
       "      <td>5347 N. Clark St.</td>\n",
       "    </tr>\n",
       "    <tr>\n",
       "      <th>23</th>\n",
       "      <td>24</td>\n",
       "      <td>La Pane</td>\n",
       "      <td>Vegetarian Panino</td>\n",
       "      <td>$5.99</td>\n",
       "      <td>2954 W. Irving Park Rd.</td>\n",
       "    </tr>\n",
       "    <tr>\n",
       "      <th>24</th>\n",
       "      <td>25</td>\n",
       "      <td>Pastoral</td>\n",
       "      <td>Cali Chèvre</td>\n",
       "      <td>$7.52</td>\n",
       "      <td>Multipl</td>\n",
       "    </tr>\n",
       "    <tr>\n",
       "      <th>25</th>\n",
       "      <td>26</td>\n",
       "      <td>Max’s Deli</td>\n",
       "      <td>Pastrami</td>\n",
       "      <td>$11.95</td>\n",
       "      <td>191 Skokie Valley Rd., Highland Park</td>\n",
       "    </tr>\n",
       "    <tr>\n",
       "      <th>26</th>\n",
       "      <td>27</td>\n",
       "      <td>Lucky’s Sandwich Co.</td>\n",
       "      <td>The Fredo</td>\n",
       "      <td>$7.50</td>\n",
       "      <td>Multipl</td>\n",
       "    </tr>\n",
       "    <tr>\n",
       "      <th>27</th>\n",
       "      <td>28</td>\n",
       "      <td>City Provisions</td>\n",
       "      <td>Smoked Ham</td>\n",
       "      <td>$12.95</td>\n",
       "      <td>1818 W. Wilson Ave.</td>\n",
       "    </tr>\n",
       "    <tr>\n",
       "      <th>28</th>\n",
       "      <td>29</td>\n",
       "      <td>Papa’s Cache Sabroso</td>\n",
       "      <td>Jibarito</td>\n",
       "      <td>$7</td>\n",
       "      <td>2517 W. Division St.</td>\n",
       "    </tr>\n",
       "    <tr>\n",
       "      <th>29</th>\n",
       "      <td>30</td>\n",
       "      <td>Bavette’s Bar &amp; Boeuf</td>\n",
       "      <td>Shaved Prime Rib</td>\n",
       "      <td>$21</td>\n",
       "      <td>218 W. Kinzi</td>\n",
       "    </tr>\n",
       "    <tr>\n",
       "      <th>30</th>\n",
       "      <td>31</td>\n",
       "      <td>Hannah’s Bretzel</td>\n",
       "      <td>Serrano Ham and Manchego Cheese</td>\n",
       "      <td>$9.79</td>\n",
       "      <td>Multipl</td>\n",
       "    </tr>\n",
       "    <tr>\n",
       "      <th>31</th>\n",
       "      <td>32</td>\n",
       "      <td>La Fournette</td>\n",
       "      <td>Tuna Salad</td>\n",
       "      <td>$9.75</td>\n",
       "      <td>1547 N. Wells St.</td>\n",
       "    </tr>\n",
       "    <tr>\n",
       "      <th>32</th>\n",
       "      <td>33</td>\n",
       "      <td>Paramount Room</td>\n",
       "      <td>Paramount Reuben</td>\n",
       "      <td>$13</td>\n",
       "      <td>415 N. Milwaukee Ave.</td>\n",
       "    </tr>\n",
       "    <tr>\n",
       "      <th>33</th>\n",
       "      <td>34</td>\n",
       "      <td>Melt Sandwich Shoppe</td>\n",
       "      <td>The Istanbul</td>\n",
       "      <td>$7.95</td>\n",
       "      <td>1840 N. Damen Ave.</td>\n",
       "    </tr>\n",
       "    <tr>\n",
       "      <th>34</th>\n",
       "      <td>35</td>\n",
       "      <td>Floriole Cafe &amp; Bakery</td>\n",
       "      <td>B.A.D.</td>\n",
       "      <td>$9</td>\n",
       "      <td>1220 W. Webster Ave.</td>\n",
       "    </tr>\n",
       "    <tr>\n",
       "      <th>35</th>\n",
       "      <td>36</td>\n",
       "      <td>First Slice Pie Café</td>\n",
       "      <td>Duck Confit and Mozzarella</td>\n",
       "      <td>$9</td>\n",
       "      <td>5357 N. Ashland Ave.</td>\n",
       "    </tr>\n",
       "    <tr>\n",
       "      <th>36</th>\n",
       "      <td>37</td>\n",
       "      <td>Troquet</td>\n",
       "      <td>Croque Monsieur</td>\n",
       "      <td>$8</td>\n",
       "      <td>1834 W. Montrose Ave.</td>\n",
       "    </tr>\n",
       "    <tr>\n",
       "      <th>37</th>\n",
       "      <td>38</td>\n",
       "      <td>Grahamwich</td>\n",
       "      <td>Green Garbanzo</td>\n",
       "      <td>$8</td>\n",
       "      <td>615 N. State St.</td>\n",
       "    </tr>\n",
       "    <tr>\n",
       "      <th>38</th>\n",
       "      <td>39</td>\n",
       "      <td>Saigon Sisters</td>\n",
       "      <td>The Hen House</td>\n",
       "      <td>$7</td>\n",
       "      <td>Multipl</td>\n",
       "    </tr>\n",
       "    <tr>\n",
       "      <th>39</th>\n",
       "      <td>40</td>\n",
       "      <td>Rosalia’s Deli</td>\n",
       "      <td>Tuscan Chicken</td>\n",
       "      <td>$6</td>\n",
       "      <td>241 N. York Rd., Elmhurst</td>\n",
       "    </tr>\n",
       "    <tr>\n",
       "      <th>40</th>\n",
       "      <td>41</td>\n",
       "      <td>Z&amp;H MarketCafe</td>\n",
       "      <td>The Marty</td>\n",
       "      <td>$7.25</td>\n",
       "      <td>1323 E. 57th St.</td>\n",
       "    </tr>\n",
       "    <tr>\n",
       "      <th>41</th>\n",
       "      <td>42</td>\n",
       "      <td>Market House on the Square</td>\n",
       "      <td>Whitefish</td>\n",
       "      <td>$11</td>\n",
       "      <td>655 Forest Ave., Lake Forest</td>\n",
       "    </tr>\n",
       "    <tr>\n",
       "      <th>42</th>\n",
       "      <td>43</td>\n",
       "      <td>Elaine’s Coffee Call</td>\n",
       "      <td>Oat Bread, Pecan Butter, and Fruit Jam</td>\n",
       "      <td>$6</td>\n",
       "      <td>Hotel Lincoln, 1816 N. Clark St.</td>\n",
       "    </tr>\n",
       "    <tr>\n",
       "      <th>43</th>\n",
       "      <td>44</td>\n",
       "      <td>Marion Street Cheese Market</td>\n",
       "      <td>Cauliflower Melt</td>\n",
       "      <td>$9</td>\n",
       "      <td>100 S. Marion St., Oak Park</td>\n",
       "    </tr>\n",
       "    <tr>\n",
       "      <th>44</th>\n",
       "      <td>45</td>\n",
       "      <td>Cafecito</td>\n",
       "      <td>Cubana</td>\n",
       "      <td>$5.49</td>\n",
       "      <td>26 E. Congress Pkwy.</td>\n",
       "    </tr>\n",
       "    <tr>\n",
       "      <th>45</th>\n",
       "      <td>46</td>\n",
       "      <td>Chickpea</td>\n",
       "      <td>Kufta</td>\n",
       "      <td>$8</td>\n",
       "      <td>2018 W. Chicago Ave.</td>\n",
       "    </tr>\n",
       "    <tr>\n",
       "      <th>46</th>\n",
       "      <td>47</td>\n",
       "      <td>The Goddess and Grocer</td>\n",
       "      <td>Debbie’s Egg Salad</td>\n",
       "      <td>$6.50</td>\n",
       "      <td>25 E. Delaware Pl.</td>\n",
       "    </tr>\n",
       "    <tr>\n",
       "      <th>47</th>\n",
       "      <td>48</td>\n",
       "      <td>Zenwich</td>\n",
       "      <td>Beef Curry</td>\n",
       "      <td>$7.50</td>\n",
       "      <td>416 N. York St., Elmhurst</td>\n",
       "    </tr>\n",
       "    <tr>\n",
       "      <th>48</th>\n",
       "      <td>49</td>\n",
       "      <td>Toni Patisserie</td>\n",
       "      <td>Le Végétarien</td>\n",
       "      <td>$8.75</td>\n",
       "      <td>65 E. Washington St.</td>\n",
       "    </tr>\n",
       "    <tr>\n",
       "      <th>49</th>\n",
       "      <td>50</td>\n",
       "      <td>Phoebe’s Bakery</td>\n",
       "      <td>The Gatsby</td>\n",
       "      <td>$6.85</td>\n",
       "      <td>3351 N. Broadway</td>\n",
       "    </tr>\n",
       "  </tbody>\n",
       "</table>\n",
       "</div>"
      ],
      "text/plain": [
       "    rank                             cafe  \\\n",
       "0      1                      Old Oak Tap   \n",
       "1      2                        Au Cheval   \n",
       "2      3                             Xoco   \n",
       "3      4                        Al’s Deli   \n",
       "4      5           Publican Quality Meats   \n",
       "5      6  Hendrickx Belgian Bread Crafter   \n",
       "6      7                           Acadia   \n",
       "7      8                Birchwood Kitchen   \n",
       "8      9                   Cemitas Puebla   \n",
       "9     10                             Nana   \n",
       "10    11                        Lula Cafe   \n",
       "11    12                       Ricobene’s   \n",
       "12    13                     Frog n Snail   \n",
       "13    14                 Crosby’s Kitchen   \n",
       "14    15                  Longman & Eagle   \n",
       "15    16                             Bari   \n",
       "16    17                          Manny’s   \n",
       "17    18                           Eggy’s   \n",
       "18    19                    Old Jerusalem   \n",
       "19    20             Mindy’s HotChocolate   \n",
       "20    21              Olga’s Delicatessen   \n",
       "21    22     Dawali Mediterranean Kitchen   \n",
       "22    23                        Big Jones   \n",
       "23    24                          La Pane   \n",
       "24    25                         Pastoral   \n",
       "25    26                       Max’s Deli   \n",
       "26    27             Lucky’s Sandwich Co.   \n",
       "27    28                  City Provisions   \n",
       "28    29             Papa’s Cache Sabroso   \n",
       "29    30            Bavette’s Bar & Boeuf   \n",
       "30    31                 Hannah’s Bretzel   \n",
       "31    32                     La Fournette   \n",
       "32    33                   Paramount Room   \n",
       "33    34             Melt Sandwich Shoppe   \n",
       "34    35           Floriole Cafe & Bakery   \n",
       "35    36             First Slice Pie Café   \n",
       "36    37                          Troquet   \n",
       "37    38                       Grahamwich   \n",
       "38    39                   Saigon Sisters   \n",
       "39    40                   Rosalia’s Deli   \n",
       "40    41                   Z&H MarketCafe   \n",
       "41    42       Market House on the Square   \n",
       "42    43             Elaine’s Coffee Call   \n",
       "43    44      Marion Street Cheese Market   \n",
       "44    45                         Cafecito   \n",
       "45    46                         Chickpea   \n",
       "46    47           The Goddess and Grocer   \n",
       "47    48                          Zenwich   \n",
       "48    49                  Toni Patisserie   \n",
       "49    50                  Phoebe’s Bakery   \n",
       "\n",
       "                                              menu   Price  \\\n",
       "0                                              BLT     $10   \n",
       "1                                    Fried Bologna      $9   \n",
       "2                                Woodland Mushroom   $9.50   \n",
       "3                                       Roast Beef   $9.40   \n",
       "4                                             PB&L     $10   \n",
       "5                      Belgian Chicken Curry Salad   $7.25   \n",
       "6                                     Lobster Roll     $16   \n",
       "7                              Smoked Salmon Salad     $10   \n",
       "8                                  Atomica Cemitas      $9   \n",
       "9   Grilled Laughing Bird Shrimp and Fried Po’ Boy     $17   \n",
       "10                         Ham and Raclette Panino     $11   \n",
       "11                                   Breaded Steak   $5.49   \n",
       "12                                     The Hawkeye     $14   \n",
       "13                                     Chicken Dip     $10   \n",
       "14                            Wild Boar Sloppy Joe     $13   \n",
       "15                                    Meatball Sub   $4.50   \n",
       "16                                     Corned Beef  $11.95   \n",
       "17                                     Turkey Club  $11.50   \n",
       "18                                         Falafel   $6.25   \n",
       "19                                       Crab Cake     $15   \n",
       "20                               Chicken Schnitzel      $5   \n",
       "21                                        Shawarma      $6   \n",
       "22                         Toasted Pimiento Cheese      $8   \n",
       "23                               Vegetarian Panino   $5.99   \n",
       "24                                     Cali Chèvre   $7.52   \n",
       "25                                        Pastrami  $11.95   \n",
       "26                                       The Fredo   $7.50   \n",
       "27                                      Smoked Ham  $12.95   \n",
       "28                                        Jibarito      $7   \n",
       "29                                Shaved Prime Rib     $21   \n",
       "30                 Serrano Ham and Manchego Cheese   $9.79   \n",
       "31                                      Tuna Salad   $9.75   \n",
       "32                                Paramount Reuben     $13   \n",
       "33                                    The Istanbul   $7.95   \n",
       "34                                          B.A.D.      $9   \n",
       "35                      Duck Confit and Mozzarella      $9   \n",
       "36                                 Croque Monsieur      $8   \n",
       "37                                  Green Garbanzo      $8   \n",
       "38                                   The Hen House      $7   \n",
       "39                                  Tuscan Chicken      $6   \n",
       "40                                      The Marty    $7.25   \n",
       "41                                       Whitefish     $11   \n",
       "42          Oat Bread, Pecan Butter, and Fruit Jam      $6   \n",
       "43                                Cauliflower Melt      $9   \n",
       "44                                          Cubana   $5.49   \n",
       "45                                           Kufta      $8   \n",
       "46                              Debbie’s Egg Salad   $6.50   \n",
       "47                                      Beef Curry   $7.50   \n",
       "48                                   Le Végétarien   $8.75   \n",
       "49                                      The Gatsby   $6.85   \n",
       "\n",
       "                                    addr  \n",
       "0                   2109 W. Chicago Ave.  \n",
       "1                    800 W. Randolph St.  \n",
       "2                       445 N. Clark St.  \n",
       "3                914 Noyes St., Evanston  \n",
       "4                     825 W. Fulton Mkt.  \n",
       "5                           100 E. Walto  \n",
       "6                    1639 S. Wabash Ave.  \n",
       "7                     2211 W. North Ave.  \n",
       "8                     3619 W. North Ave.  \n",
       "9                    3267 S. Halsted St.  \n",
       "10                  2537 N. Kedzie Blvd.  \n",
       "11                               Multipl  \n",
       "12                      3124 N. Broadway  \n",
       "13                3455 N. Southport Ave.  \n",
       "14                   2657 N. Kedzie Ave.  \n",
       "15                    1120 W. Grand Ave.  \n",
       "16                 1141 S. Jefferson St.  \n",
       "17                     333 E. Benton Pl.  \n",
       "18                     1411 N. Wells St.  \n",
       "19                    1747 N. Damen Ave.  \n",
       "20                    3209 W. Irving Par  \n",
       "21                               Multipl  \n",
       "22                     5347 N. Clark St.  \n",
       "23               2954 W. Irving Park Rd.  \n",
       "24                               Multipl  \n",
       "25  191 Skokie Valley Rd., Highland Park  \n",
       "26                               Multipl  \n",
       "27                   1818 W. Wilson Ave.  \n",
       "28                  2517 W. Division St.  \n",
       "29                          218 W. Kinzi  \n",
       "30                               Multipl  \n",
       "31                     1547 N. Wells St.  \n",
       "32                 415 N. Milwaukee Ave.  \n",
       "33                    1840 N. Damen Ave.  \n",
       "34                  1220 W. Webster Ave.  \n",
       "35                  5357 N. Ashland Ave.  \n",
       "36                 1834 W. Montrose Ave.  \n",
       "37                      615 N. State St.  \n",
       "38                               Multipl  \n",
       "39             241 N. York Rd., Elmhurst  \n",
       "40                      1323 E. 57th St.  \n",
       "41          655 Forest Ave., Lake Forest  \n",
       "42      Hotel Lincoln, 1816 N. Clark St.  \n",
       "43           100 S. Marion St., Oak Park  \n",
       "44                  26 E. Congress Pkwy.  \n",
       "45                  2018 W. Chicago Ave.  \n",
       "46                    25 E. Delaware Pl.  \n",
       "47             416 N. York St., Elmhurst  \n",
       "48                  65 E. Washington St.  \n",
       "49                      3351 N. Broadway  "
      ]
     },
     "execution_count": 44,
     "metadata": {},
     "output_type": "execute_result"
    }
   ],
   "source": []
  },
  {
   "cell_type": "code",
   "execution_count": 48,
   "metadata": {},
   "outputs": [],
   "source": [
    "## 3. 맛집 위치를 지도에 표기하기(키가 음슴.)"
   ]
  },
  {
   "cell_type": "code",
   "execution_count": 49,
   "metadata": {},
   "outputs": [
    {
     "ename": "ModuleNotFoundError",
     "evalue": "No module named 'googlemaps'",
     "output_type": "error",
     "traceback": [
      "\u001b[1;31m---------------------------------------------------------------------------\u001b[0m",
      "\u001b[1;31mModuleNotFoundError\u001b[0m                       Traceback (most recent call last)",
      "\u001b[1;32m<ipython-input-49-85d39730ab34>\u001b[0m in \u001b[0;36m<module>\u001b[1;34m\u001b[0m\n\u001b[0;32m      1\u001b[0m \u001b[1;32mimport\u001b[0m \u001b[0mnumpy\u001b[0m \u001b[1;32mas\u001b[0m \u001b[0mnp\u001b[0m\u001b[1;33m\u001b[0m\u001b[1;33m\u001b[0m\u001b[0m\n\u001b[0;32m      2\u001b[0m \u001b[1;32mimport\u001b[0m \u001b[0mfolium\u001b[0m\u001b[1;33m\u001b[0m\u001b[1;33m\u001b[0m\u001b[0m\n\u001b[1;32m----> 3\u001b[1;33m \u001b[1;32mimport\u001b[0m \u001b[0mgooglemaps\u001b[0m\u001b[1;33m\u001b[0m\u001b[1;33m\u001b[0m\u001b[0m\n\u001b[0m",
      "\u001b[1;31mModuleNotFoundError\u001b[0m: No module named 'googlemaps'"
     ]
    }
   ],
   "source": [
    "import numpy as np\n",
    "import folium\n",
    "import googlemaps"
   ]
  },
  {
   "cell_type": "code",
   "execution_count": 50,
   "metadata": {},
   "outputs": [
    {
     "ename": "FileNotFoundError",
     "evalue": "[Errno 2] No such file or directory: 'googlemapskey.txt'",
     "output_type": "error",
     "traceback": [
      "\u001b[1;31m---------------------------------------------------------------------------\u001b[0m",
      "\u001b[1;31mFileNotFoundError\u001b[0m                         Traceback (most recent call last)",
      "\u001b[1;32m<ipython-input-50-9df4f52d1394>\u001b[0m in \u001b[0;36m<module>\u001b[1;34m\u001b[0m\n\u001b[1;32m----> 1\u001b[1;33m \u001b[0mkey_fd\u001b[0m \u001b[1;33m=\u001b[0m \u001b[0mopen\u001b[0m\u001b[1;33m(\u001b[0m\u001b[1;34m'googlemapskey.txt'\u001b[0m\u001b[1;33m,\u001b[0m \u001b[0mmode\u001b[0m \u001b[1;33m=\u001b[0m \u001b[1;34m'r'\u001b[0m\u001b[1;33m)\u001b[0m\u001b[1;33m\u001b[0m\u001b[1;33m\u001b[0m\u001b[0m\n\u001b[0m\u001b[0;32m      2\u001b[0m \u001b[0mgmaps_key\u001b[0m \u001b[1;33m=\u001b[0m \u001b[0mkey_fd\u001b[0m\u001b[1;33m.\u001b[0m\u001b[0mread\u001b[0m\u001b[1;33m(\u001b[0m\u001b[1;36m100\u001b[0m\u001b[1;33m)\u001b[0m\u001b[1;33m\u001b[0m\u001b[1;33m\u001b[0m\u001b[0m\n\u001b[0;32m      3\u001b[0m \u001b[0mkey_fd\u001b[0m\u001b[1;33m.\u001b[0m\u001b[0mclose\u001b[0m\u001b[1;33m(\u001b[0m\u001b[1;33m)\u001b[0m\u001b[1;33m\u001b[0m\u001b[1;33m\u001b[0m\u001b[0m\n",
      "\u001b[1;31mFileNotFoundError\u001b[0m: [Errno 2] No such file or directory: 'googlemapskey.txt'"
     ]
    }
   ],
   "source": [
    "key_fd = open('googlemapskey.txt', mode = 'r')\n",
    "gmaps_key = key_fd.read(100)\n",
    "key_fd.close()"
   ]
  },
  {
   "cell_type": "code",
   "execution_count": 51,
   "metadata": {},
   "outputs": [
    {
     "ename": "NameError",
     "evalue": "name 'gmaps_key' is not defined",
     "output_type": "error",
     "traceback": [
      "\u001b[1;31m---------------------------------------------------------------------------\u001b[0m",
      "\u001b[1;31mNameError\u001b[0m                                 Traceback (most recent call last)",
      "\u001b[1;32m<ipython-input-51-7564b5e9128c>\u001b[0m in \u001b[0;36m<module>\u001b[1;34m\u001b[0m\n\u001b[1;32m----> 1\u001b[1;33m \u001b[0mgmaps_key\u001b[0m\u001b[1;33m[\u001b[0m\u001b[1;33m-\u001b[0m\u001b[1;36m10\u001b[0m\u001b[1;33m:\u001b[0m\u001b[1;33m]\u001b[0m\u001b[1;33m\u001b[0m\u001b[1;33m\u001b[0m\u001b[0m\n\u001b[0m",
      "\u001b[1;31mNameError\u001b[0m: name 'gmaps_key' is not defined"
     ]
    }
   ],
   "source": [
    "gmaps_key[-10:]"
   ]
  },
  {
   "cell_type": "code",
   "execution_count": 52,
   "metadata": {},
   "outputs": [
    {
     "ename": "NameError",
     "evalue": "name 'googlemaps' is not defined",
     "output_type": "error",
     "traceback": [
      "\u001b[1;31m---------------------------------------------------------------------------\u001b[0m",
      "\u001b[1;31mNameError\u001b[0m                                 Traceback (most recent call last)",
      "\u001b[1;32m<ipython-input-52-a2831c5e21ea>\u001b[0m in \u001b[0;36m<module>\u001b[1;34m\u001b[0m\n\u001b[1;32m----> 1\u001b[1;33m \u001b[0mgmaps\u001b[0m \u001b[1;33m=\u001b[0m \u001b[0mgooglemaps\u001b[0m\u001b[1;33m.\u001b[0m\u001b[0mClient\u001b[0m\u001b[1;33m(\u001b[0m\u001b[0mkey\u001b[0m\u001b[1;33m=\u001b[0m\u001b[0mgmaps_key\u001b[0m\u001b[1;33m)\u001b[0m\u001b[1;33m\u001b[0m\u001b[1;33m\u001b[0m\u001b[0m\n\u001b[0m",
      "\u001b[1;31mNameError\u001b[0m: name 'googlemaps' is not defined"
     ]
    }
   ],
   "source": [
    "gmaps = googlemaps.Client(key=gmaps_key)"
   ]
  },
  {
   "cell_type": "code",
   "execution_count": 54,
   "metadata": {
    "scrolled": true
   },
   "outputs": [
    {
     "name": "stderr",
     "output_type": "stream",
     "text": [
      "C:\\ProgramData\\Anaconda3\\lib\\site-packages\\ipykernel_launcher.py:4: TqdmDeprecationWarning: This function will be removed in tqdm==5.0.0\n",
      "Please use `tqdm.notebook.tqdm` instead of `tqdm.tqdm_notebook`\n",
      "  after removing the cwd from sys.path.\n"
     ]
    },
    {
     "data": {
      "application/vnd.jupyter.widget-view+json": {
       "model_id": "99b5d44720db4a7ca7eb05bf658eecdc",
       "version_major": 2,
       "version_minor": 0
      },
      "text/plain": [
       "HBox(children=(FloatProgress(value=0.0, max=50.0), HTML(value='')))"
      ]
     },
     "metadata": {},
     "output_type": "display_data"
    },
    {
     "ename": "NameError",
     "evalue": "name 'gmaps' is not defined",
     "output_type": "error",
     "traceback": [
      "\u001b[1;31m---------------------------------------------------------------------------\u001b[0m",
      "\u001b[1;31mNameError\u001b[0m                                 Traceback (most recent call last)",
      "\u001b[1;32m<ipython-input-54-c93b37325016>\u001b[0m in \u001b[0;36m<module>\u001b[1;34m\u001b[0m\n\u001b[0;32m      5\u001b[0m     \u001b[1;32mif\u001b[0m \u001b[0mdf\u001b[0m\u001b[1;33m[\u001b[0m\u001b[1;34m'addr'\u001b[0m\u001b[1;33m]\u001b[0m\u001b[1;33m[\u001b[0m\u001b[0mn\u001b[0m\u001b[1;33m]\u001b[0m \u001b[1;33m!=\u001b[0m \u001b[1;34m'Multiple'\u001b[0m\u001b[1;33m:\u001b[0m\u001b[1;33m\u001b[0m\u001b[1;33m\u001b[0m\u001b[0m\n\u001b[0;32m      6\u001b[0m         \u001b[0mtarget_name\u001b[0m \u001b[1;33m=\u001b[0m \u001b[0mdf\u001b[0m\u001b[1;33m[\u001b[0m\u001b[1;34m'addr'\u001b[0m\u001b[1;33m]\u001b[0m\u001b[1;33m[\u001b[0m\u001b[0mn\u001b[0m\u001b[1;33m]\u001b[0m\u001b[1;33m+\u001b[0m\u001b[1;34m', '\u001b[0m\u001b[1;33m+\u001b[0m\u001b[1;34m'Chicago'\u001b[0m\u001b[1;33m\u001b[0m\u001b[1;33m\u001b[0m\u001b[0m\n\u001b[1;32m----> 7\u001b[1;33m         \u001b[0mgmaps_output\u001b[0m \u001b[1;33m=\u001b[0m \u001b[0mgmaps\u001b[0m\u001b[1;33m.\u001b[0m\u001b[0mgeocode\u001b[0m\u001b[1;33m(\u001b[0m\u001b[0mtarget_name\u001b[0m\u001b[1;33m)\u001b[0m\u001b[1;33m\u001b[0m\u001b[1;33m\u001b[0m\u001b[0m\n\u001b[0m\u001b[0;32m      8\u001b[0m         \u001b[0mlocation_output\u001b[0m \u001b[1;33m=\u001b[0m \u001b[0mgmaps_output\u001b[0m\u001b[1;33m[\u001b[0m\u001b[1;36m0\u001b[0m\u001b[1;33m]\u001b[0m\u001b[1;33m.\u001b[0m\u001b[0mget\u001b[0m\u001b[1;33m(\u001b[0m\u001b[1;34m'geometry'\u001b[0m\u001b[1;33m)\u001b[0m\u001b[1;33m\u001b[0m\u001b[1;33m\u001b[0m\u001b[0m\n\u001b[0;32m      9\u001b[0m         \u001b[0mlat\u001b[0m\u001b[1;33m.\u001b[0m\u001b[0mappend\u001b[0m\u001b[1;33m(\u001b[0m\u001b[0mlocation_output\u001b[0m\u001b[1;33m(\u001b[0m\u001b[1;33m[\u001b[0m\u001b[1;34m'location'\u001b[0m\u001b[1;33m]\u001b[0m\u001b[1;33m[\u001b[0m\u001b[1;34m'lat'\u001b[0m\u001b[1;33m]\u001b[0m\u001b[1;33m)\u001b[0m\u001b[1;33m)\u001b[0m\u001b[1;33m\u001b[0m\u001b[1;33m\u001b[0m\u001b[0m\n",
      "\u001b[1;31mNameError\u001b[0m: name 'gmaps' is not defined"
     ]
    }
   ],
   "source": [
    "lat = []\n",
    "lng = []\n",
    "\n",
    "for n in tqdm_notebook(df.index):\n",
    "    if df['addr'][n] != 'Multiple':\n",
    "        target_name = df['addr'][n]+', '+'Chicago'\n",
    "        gmaps_output = gmaps.geocode(target_name)\n",
    "        location_output = gmaps_output[0].get('geometry')\n",
    "        lat.append(location_output(['location']['lat']))\n",
    "        lat.append(location_output(['location']['lng']))\n",
    "    else:\n",
    "        lat.append(np.nan)\n",
    "        lng.append(np.nan)\n",
    "                    "
   ]
  },
  {
   "cell_type": "code",
   "execution_count": null,
   "metadata": {},
   "outputs": [],
   "source": []
  }
 ],
 "metadata": {
  "kernelspec": {
   "display_name": "Python 3",
   "language": "python",
   "name": "python3"
  },
  "language_info": {
   "codemirror_mode": {
    "name": "ipython",
    "version": 3
   },
   "file_extension": ".py",
   "mimetype": "text/x-python",
   "name": "python",
   "nbconvert_exporter": "python",
   "pygments_lexer": "ipython3",
   "version": "3.7.6"
  }
 },
 "nbformat": 4,
 "nbformat_minor": 4
}
