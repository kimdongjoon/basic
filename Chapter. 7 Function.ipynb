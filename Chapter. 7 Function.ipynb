{
 "cells": [
  {
   "cell_type": "markdown",
   "metadata": {},
   "source": [
    "Chapter 07. 함수\n"
   ]
  },
  {
   "cell_type": "code",
   "execution_count": 1,
   "metadata": {},
   "outputs": [
    {
     "name": "stdout",
     "output_type": "stream",
     "text": [
      "안녕하세요\n"
     ]
    }
   ],
   "source": [
    "#Ex 7-1\n",
    "def hello():\n",
    "    print('안녕하세요')\n",
    "    \n",
    "hello()"
   ]
  },
  {
   "cell_type": "code",
   "execution_count": 2,
   "metadata": {},
   "outputs": [
    {
     "name": "stdout",
     "output_type": "stream",
     "text": [
      "7은(는) 홀수이다. \n",
      "16은(는) 짝수이다. \n"
     ]
    }
   ],
   "source": [
    "#Ex 7-2\n",
    "def even_odd(num):\n",
    "    if num % 2  == 0:\n",
    "        print('%d은(는) 짝수이다. '% num)\n",
    "    else :\n",
    "        print('%d은(는) 홀수이다. '% num)\n",
    "        \n",
    "even_odd(7)\n",
    "even_odd(16)\n",
    "\n",
    "    "
   ]
  },
  {
   "cell_type": "code",
   "execution_count": 6,
   "metadata": {},
   "outputs": [
    {
     "name": "stdout",
     "output_type": "stream",
     "text": [
      "김지영님은 빨강을 좋아하지 않습니다. \n",
      "홍채영님은 노랑을 조금 좋아합니다. \n",
      "진소진님은 파랑을 매우 좋아합니다. \n"
     ]
    }
   ],
   "source": [
    "#Ex 7-3\n",
    "\n",
    "def favorte_color(name, color, amount): #함수정의\n",
    "    if(amount == 1 ):\n",
    "        print('%s님은 %s을 좋아하지 않습니다. ' % (name, color))\n",
    "    elif(amount == 2) :\n",
    "        print('%s님은 %s을 조금 좋아합니다. ' % (name, color))\n",
    "    else :\n",
    "        print('%s님은 %s을 매우 좋아합니다. ' % (name, color))\n",
    "        \n",
    "favorate_color('김지영', '빨강', 1)\n",
    "favorate_color('홍채영', '노랑', 2)\n",
    "favorate_color('진소진', '파랑', 3)\n",
    "        \n",
    "        "
   ]
  },
  {
   "cell_type": "code",
   "execution_count": 10,
   "metadata": {},
   "outputs": [
    {
     "name": "stdout",
     "output_type": "stream",
     "text": [
      "3과목의 평균 : 90.00\n",
      "4과목의 평균 : 81.75\n",
      "5과목의 평균 : 79.40\n"
     ]
    }
   ],
   "source": [
    "#ex7-4 임의의 매개변수에서 사용되는 *\n",
    "def average(*scores):\n",
    "    sum = 0\n",
    "    for i in range(len(scores)):\n",
    "        sum += scores[i]\n",
    "        \n",
    "    avg = sum / len(scores)\n",
    "    print('%d과목의 평균 : %.2f' % (len(scores), avg))\n",
    "    \n",
    "average(80,90,100)\n",
    "average(75,80,94,78)\n",
    "average(80,73,76,86,82)\n"
   ]
  },
  {
   "cell_type": "code",
   "execution_count": 12,
   "metadata": {},
   "outputs": [
    {
     "name": "stdout",
     "output_type": "stream",
     "text": [
      "메인 : x = 10 ,id =  140735869330096\n",
      "func() : x =  100 id =  140735869332976\n",
      "메인 :x =  10 ,id=  140735869330096\n"
     ]
    }
   ],
   "source": [
    "#ex7-5 값에 의한 호출의 예\n",
    "#서브루틴 : func() 함수\n",
    "def func(x):\n",
    "    x = 100\n",
    "    print('func() : x = ', x, 'id = ', id(x))\n",
    "    \n",
    "    \n",
    "#메인 루틴\n",
    "x = 10 \n",
    "print('메인 : x =', x,',id = ',id(x))\n",
    "func(x)\n",
    "print('메인 :x = ', x,',id= ', id(x))"
   ]
  },
  {
   "cell_type": "code",
   "execution_count": 13,
   "metadata": {},
   "outputs": [
    {
     "name": "stdout",
     "output_type": "stream",
     "text": [
      "메인 : x = [1, 2, 3] ,id =  1773100352712\n",
      "func() : x =  [100, 2, 3] id =  1773100352712\n",
      "메인 :x =  [100, 2, 3] ,id=  1773100352712\n"
     ]
    }
   ],
   "source": [
    "#ex7-6 페퍼런스에 의한 호출의 예\n",
    "#서브루틴 : func() 함수\n",
    "def func(x):\n",
    "    x[0] = 100\n",
    "    print('func() : x = ', x, 'id = ', id(x))\n",
    "    \n",
    "    \n",
    "#메인 루틴\n",
    "x = [1,2,3] \n",
    "print('메인 : x =', x,',id = ',id(x))\n",
    "func(x)\n",
    "print('메인 :x = ', x,',id= ', id(x))"
   ]
  },
  {
   "cell_type": "code",
   "execution_count": 22,
   "metadata": {},
   "outputs": [
    {
     "name": "stdout",
     "output_type": "stream",
     "text": [
      "(면적)원의 반지름을 입력하세요5\n",
      "반지름 : 5, 원의 면적 : 78.50\n",
      "(면적)원의 반지름을 입력하세요5\n",
      "반지름 : 5, 원의 둘레 : 31.40\n"
     ]
    }
   ],
   "source": [
    "#7-7. 함수 값의 반환의 예\n",
    "def circle_area(r):\n",
    "    area = r * r * 3.14\n",
    "    \n",
    "    return area\n",
    "\n",
    "def new_circle_area(r):\n",
    "    area = 2 * r * 3.14\n",
    "    \n",
    "    return area\n",
    "\n",
    "radius = int(input('(면적)원의 반지름을 입력하세요'))\n",
    "result = circle_area(radius)\n",
    "print('반지름 : %d, 원의 면적 : %.2f' % (radius, result))\n",
    "      \n",
    "    \n",
    "radius = int(input('(면적)원의 반지름을 입력하세요'))\n",
    "result = new_circle_area(radius)\n",
    "print('반지름 : %d, 원의 둘레 : %.2f' % (radius, result))\n",
    "\n",
    "      \n"
   ]
  },
  {
   "cell_type": "code",
   "execution_count": 25,
   "metadata": {},
   "outputs": [
    {
     "name": "stdout",
     "output_type": "stream",
     "text": [
      "(면적)원의 반지름을 입력하세요5\n",
      "반지름 : 5, 원의 면적 : 78.50 원의 면적 : 31.40\n"
     ]
    }
   ],
   "source": [
    "#7-7. 함수 값의 반환의 예\n",
    "def circle_area(r):\n",
    "    area = r * r * 3.14\n",
    "    circum = 2 * r * 3.14\n",
    "    \n",
    "    return area, circum\n",
    "\n",
    "radius = int(input('(면적)원의 반지름을 입력하세요'))\n",
    "result, result1 = circle_area(radius)\n",
    "print('반지름 : %d, 원의 면적 : %.2f 원의 면적 : %.2f'% (radius, result, result1))\n"
   ]
  },
  {
   "cell_type": "code",
   "execution_count": 28,
   "metadata": {},
   "outputs": [
    {
     "name": "stdout",
     "output_type": "stream",
     "text": [
      "10 ~ 100의 정수 합계 : 5005\n",
      "100 ~ 1000의 정수 합계 : 495550\n",
      "1000 ~ 10000의 정수 합계 : 49505500\n"
     ]
    }
   ],
   "source": [
    "# 함수로 정수 합계 구하기\n",
    "def sum(start, end):\n",
    "    total = 0\n",
    "    for i in range(start, end+1):\n",
    "        total += i\n",
    "    print('%d ~ %d의 정수 합계 : %d' % (start, end, total))\n",
    "    \n",
    "sum(10, 100)\n",
    "sum(100, 1000)\n",
    "sum(1000, 10000)\n",
    "    "
   ]
  },
  {
   "cell_type": "code",
   "execution_count": 33,
   "metadata": {},
   "outputs": [
    {
     "name": "stdout",
     "output_type": "stream",
     "text": [
      "시작수를 입력하세요: 10\n",
      "끝 수를 입력하세요: 100\n",
      "합계를 구할 배수를 입력하세요: 5\n",
      "10 ~ 100의 정수 중 5의 배수의 합 : 1045\n"
     ]
    }
   ],
   "source": [
    "#Q7-2 함수로 배수 합계 구하기 \n",
    "def sum_multi(n1, n2, num):\n",
    "    sum = 0\n",
    "    \n",
    "    for i in range(n1, n2+1):\n",
    "        if i % num == 0 :\n",
    "            sum += i\n",
    "            \n",
    "    return sum\n",
    "\n",
    "start = int(input('시작수를 입력하세요: '))\n",
    "end = int(input('끝 수를 입력하세요: '))\n",
    "multi = int(input('합계를 구할 배수를 입력하세요: '))\n",
    "\n",
    "\n",
    "result = sum_multi(start, end, multi)\n",
    "\n",
    "print('%d ~ %d의 정수 중 %d의 배수의 합 : %d' % (start, end, multi, result))\n",
    "    "
   ]
  },
  {
   "cell_type": "code",
   "execution_count": 47,
   "metadata": {},
   "outputs": [
    {
     "name": "stdout",
     "output_type": "stream",
     "text": [
      "첫 번째 수를 입력하세요: 1\n",
      "두 번째 수를 입력하세요: 10\n",
      "1과(와) 10의 최대공약수 : 1\n"
     ]
    }
   ],
   "source": [
    "#Q7-3 함수로 최대 공약수 구하기\n",
    "'''\n",
    "    실행결과\n",
    "    첫 번째 수를 입력하세요 : 33\n",
    "    두 번째 수를 입력하세요 : 44\n",
    "    33과(와) 44의 최대 공약수 : 11\n",
    "    \n",
    "'''\n",
    "def computeMaxGong(x, y):\n",
    "    \n",
    "    \n",
    "    if x > y :\n",
    "        small = y\n",
    "    else:\n",
    "        small = x\n",
    "        \n",
    "    for i in range(1, small+1):\n",
    "        if ((x % i == 0) and (y % i ==0)):\n",
    "            result = i\n",
    "    return result\n",
    "\n",
    "num1  = int(input(\"첫 번째 수를 입력하세요: \"))\n",
    "num2  = int(input(\"두 번째 수를 입력하세요: \"))\n",
    "\n",
    "max_gong = computeMaxGong(num1, num2)\n",
    "\n",
    "print('%d과(와) %d의 최대공약수 : %d' %(num1, num2, max_gong))"
   ]
  },
  {
   "cell_type": "code",
   "execution_count": 2,
   "metadata": {},
   "outputs": [
    {
     "name": "stdout",
     "output_type": "stream",
     "text": [
      "첫 번째 수를 입력하세요: 1\n",
      "두 번째 수를 입력하세요: 10000\n",
      "1 ~ 10000의 퍼펙트 넘버는 : 6\n",
      "28\n",
      "496\n",
      "8128\n"
     ]
    }
   ],
   "source": [
    "#예제 완전수 찾기\n",
    "#1 ~ 10000\n",
    "#자기 자신을 제외한 약수의 합\n",
    "\n",
    "def pft(x, y):\n",
    "    result = []\n",
    "    \n",
    "    if x > y :\n",
    "        small = y\n",
    "        big   = y\n",
    "    else:\n",
    "        small = x\n",
    "        big   = y\n",
    "        \n",
    "    for i in range(1, big+1):\n",
    "        sum = 0\n",
    "        for k in range(1, i+1):\n",
    "            if (i % k == 0):\n",
    "                \n",
    "                sum += k\n",
    "                #print('%d %d %d' %(i, k, sum))\n",
    "                \n",
    "                #if (sum-i-k) == 0:\n",
    "                if i == k and i == sum/2:\n",
    "                    result.append(i)\n",
    "            \n",
    "    return result\n",
    "\n",
    "num1  = int(input(\"첫 번째 수를 입력하세요: \"))\n",
    "num2  = int(input(\"두 번째 수를 입력하세요: \"))\n",
    "\n",
    "\n",
    "pft_number = pft(num1, num2)\n",
    "print('%d ~ %d의 퍼펙트 넘버는 : ' %(num1, num2), end = '')\n",
    "for i in pft_number:\n",
    "    print('%d' % i)\n"
   ]
  },
  {
   "cell_type": "markdown",
   "metadata": {},
   "source": [
    "File 입출력"
   ]
  },
  {
   "cell_type": "code",
   "execution_count": 7,
   "metadata": {},
   "outputs": [
    {
     "name": "stdout",
     "output_type": "stream",
     "text": [
      "파일 쓰기 완료\n"
     ]
    }
   ],
   "source": [
    "#ex 7-14\n",
    "file = open('sample.txt', 'w', encoding = 'utf8')\n",
    "file.write('안녕하세요. 반갑습니다.')\n",
    "file.write('추가 내용입니다.')\n",
    "file.close()\n",
    "\n",
    "print('파일 쓰기 완료')\n"
   ]
  },
  {
   "cell_type": "code",
   "execution_count": 9,
   "metadata": {},
   "outputs": [
    {
     "name": "stdout",
     "output_type": "stream",
     "text": [
      "김소영 82 80 93 97 93 88\n",
      "정예린 86 100 93 86 90 77\n",
      "이세영 91 88 99 79 92 68\n",
      "정수영 86 100 93 89 92 93\n",
      "박지수 80 100 95 89 90 84\n",
      "\n"
     ]
    }
   ],
   "source": [
    "# ex 7-15 리스트를 파일로 저장\n",
    "\n",
    "scores = ['김소영 82 80 93 97 93 88',\n",
    "          '정예린 86 100 93 86 90 77',\n",
    "          '이세영 91 88 99 79 92 68',\n",
    "          '정수영 86 100 93 89 92 93',\n",
    "          '박지수 80 100 95 89 90 84']\n",
    "\n",
    "\n",
    "data = ''\n",
    "for item in scores :\n",
    "    data += item + '\\n'\n",
    "    \n",
    "    \n",
    "#화면 출력하기\n",
    "print(data)\n",
    "    \n",
    "#파일(scores.txt)에 저장하기\n",
    "    \n",
    "file = open('scores.txt','w',encoding='utf8')\n",
    "file.write(data)\n",
    "file.close()\n",
    "\n",
    "\n",
    "\n"
   ]
  },
  {
   "cell_type": "code",
   "execution_count": null,
   "metadata": {},
   "outputs": [],
   "source": []
  }
 ],
 "metadata": {
  "kernelspec": {
   "display_name": "Python 3",
   "language": "python",
   "name": "python3"
  },
  "language_info": {
   "codemirror_mode": {
    "name": "ipython",
    "version": 3
   },
   "file_extension": ".py",
   "mimetype": "text/x-python",
   "name": "python",
   "nbconvert_exporter": "python",
   "pygments_lexer": "ipython3",
   "version": "3.7.6"
  }
 },
 "nbformat": 4,
 "nbformat_minor": 4
}
