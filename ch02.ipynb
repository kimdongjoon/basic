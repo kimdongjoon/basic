{
 "cells": [
  {
   "cell_type": "markdown",
   "metadata": {},
   "source": [
    "Chapter 02. 파이선의 기본 문법"
   ]
  },
  {
   "cell_type": "code",
   "execution_count": 3,
   "metadata": {},
   "outputs": [
    {
     "name": "stdout",
     "output_type": "stream",
     "text": [
      "50\n"
     ]
    }
   ],
   "source": [
    "a = 20 \n",
    "b = 30\n",
    "c = a+b\n",
    "print (c)"
   ]
  },
  {
   "cell_type": "code",
   "execution_count": 6,
   "metadata": {},
   "outputs": [
    {
     "name": "stdout",
     "output_type": "stream",
     "text": [
      "20 Mac 30 70 1997 20.3\n"
     ]
    }
   ],
   "source": [
    "#ex 2-2\n",
    "x = 20\n",
    "Computer = \"Mac\"\n",
    "Age = 30\n",
    "my_score = 70\n",
    "_name = \"홍길동\"\n",
    "myBirthYear = 1997\n",
    "data2 = 20.3\n",
    "\n",
    "print(x, Computer, Age, my_score, myBirthYear, data2)\n"
   ]
  },
  {
   "cell_type": "code",
   "execution_count": 7,
   "metadata": {},
   "outputs": [
    {
     "name": "stdout",
     "output_type": "stream",
     "text": [
      "20 Mac 30 70 1997 20.3\n"
     ]
    }
   ],
   "source": [
    "#ex 2-2 mod\n",
    "x = 20\n",
    "computer = \"Mac\"\n",
    "age = 30\n",
    "my_score = 70\n",
    "_name = \"홍길동\"\n",
    "my_birth_year = 1997\n",
    "data2 = 20.3\n",
    "\n",
    "print(x, computer, age, my_score, my_birth_year, data2)\n"
   ]
  },
  {
   "cell_type": "code",
   "execution_count": 10,
   "metadata": {},
   "outputs": [
    {
     "name": "stdout",
     "output_type": "stream",
     "text": [
      "30\n",
      "<class 'int'>\n"
     ]
    }
   ],
   "source": [
    "#ex 2-4\n",
    "x = 30 \n",
    "print(x)\n",
    "print(type(x))"
   ]
  },
  {
   "cell_type": "code",
   "execution_count": 11,
   "metadata": {},
   "outputs": [
    {
     "name": "stdout",
     "output_type": "stream",
     "text": [
      "30.0\n",
      "<class 'float'>\n"
     ]
    }
   ],
   "source": [
    "#ex 2-5\n",
    "x = 30.0 \n",
    "print(x)\n",
    "print(type(x))"
   ]
  },
  {
   "cell_type": "code",
   "execution_count": 12,
   "metadata": {},
   "outputs": [
    {
     "name": "stdout",
     "output_type": "stream",
     "text": [
      "x\n",
      "i am ok.\n",
      "안녕하세요\n",
      "<class 'str'>\n"
     ]
    }
   ],
   "source": [
    "#ex 2-6\n",
    "a = 'x'\n",
    "b = 'i am ok.'\n",
    "c = '안녕하세요'\n",
    "\n",
    "print(a)\n",
    "print(b)\n",
    "print(c)\n",
    "\n",
    "print(type(c))"
   ]
  },
  {
   "cell_type": "code",
   "execution_count": 3,
   "metadata": {},
   "outputs": [
    {
     "name": "stdout",
     "output_type": "stream",
     "text": [
      "30\n",
      "<class 'int'>\n",
      "30\n",
      "<class 'str'>\n"
     ]
    }
   ],
   "source": [
    "#ex 2-7\n",
    "a = 30        # 0001 1110\n",
    "print (a)\n",
    "print(type(a))\n",
    "\n",
    "b = '30'      # ASCII code (0x33, 0x30), Human interaction\n",
    "print (b)\n",
    "print(type(b))\n"
   ]
  },
  {
   "cell_type": "code",
   "execution_count": 22,
   "metadata": {},
   "outputs": [
    {
     "name": "stdout",
     "output_type": "stream",
     "text": [
      "i am happy!\n",
      "i\n",
      "i a\n",
      "happy!\n",
      "\n",
      "!\n",
      "py!\n",
      "pp\n"
     ]
    }
   ],
   "source": [
    "#ex 2-8\n",
    "x = 'i am happy!'\n",
    "\n",
    "print(x)\n",
    "print(x[0])\n",
    "print(x[0:3])\n",
    "print(x[5:])\n",
    "print(\"\")\n",
    "print(x[-1])\n",
    "print(x[-3:])\n",
    "print(x[-4:-2])\n"
   ]
  },
  {
   "cell_type": "code",
   "execution_count": 28,
   "metadata": {},
   "outputs": [
    {
     "name": "stdout",
     "output_type": "stream",
     "text": [
      "나는\n",
      "행복합니다\n",
      "행복합니다\n"
     ]
    }
   ],
   "source": [
    "y = '나는 행복합니다.'\n",
    "\n",
    "print(y[:2])\n",
    "print(y[3:-1])\n",
    "\n",
    "start = 3\n",
    "print(y[start:-1])"
   ]
  },
  {
   "cell_type": "code",
   "execution_count": 31,
   "metadata": {},
   "outputs": [
    {
     "name": "stdout",
     "output_type": "stream",
     "text": [
      "True\n",
      "False\n",
      "False\n"
     ]
    }
   ],
   "source": [
    "# ex 2-9\n",
    "a = True\n",
    "b = False\n",
    "print(a)\n",
    "print(b)\n",
    "\n",
    "c = 10 > 20\n",
    "print(c)\n"
   ]
  },
  {
   "cell_type": "code",
   "execution_count": 33,
   "metadata": {},
   "outputs": [
    {
     "name": "stdout",
     "output_type": "stream",
     "text": [
      "<class 'bool'>\n"
     ]
    }
   ],
   "source": [
    "\n",
    "print (type(a))"
   ]
  },
  {
   "cell_type": "code",
   "execution_count": 35,
   "metadata": {},
   "outputs": [
    {
     "name": "stdout",
     "output_type": "stream",
     "text": [
      "14\n"
     ]
    }
   ],
   "source": [
    "#ex 2-16\n",
    "a = '쥐 구멍에 볕 들 날 있다'\n",
    "\n",
    "b = len(a)\n",
    "\n",
    "print(b)\n"
   ]
  },
  {
   "cell_type": "code",
   "execution_count": 37,
   "metadata": {},
   "outputs": [
    {
     "name": "stdout",
     "output_type": "stream",
     "text": [
      "김동준님 안녕하세요!\n"
     ]
    }
   ],
   "source": [
    "#ex 2-17\n",
    "name = '김동준'\n",
    "greet = name + \"님 안녕하세요!\"\n",
    "print(greet)"
   ]
  },
  {
   "cell_type": "code",
   "execution_count": 40,
   "metadata": {},
   "outputs": [
    {
     "name": "stdout",
     "output_type": "stream",
     "text": [
      "2020-05-29\n"
     ]
    }
   ],
   "source": [
    "#ex 2-22. 정수형 숫자 0으로 채우기 : %2d\n",
    "year = 2020\n",
    "month = 5\n",
    "day = 29\n",
    "\n",
    "a = '%d-%02d-%02d' % (year, month, day)\n",
    "print (a)"
   ]
  },
  {
   "cell_type": "code",
   "execution_count": 47,
   "metadata": {},
   "outputs": [
    {
     "name": "stdout",
     "output_type": "stream",
     "text": [
      "키는 180.00입니다. \n"
     ]
    }
   ],
   "source": [
    "#ex 2-23. 문자열 포맷팅 : %d.2f\n",
    "height  = 180.0\n",
    "a  = '키는 %.2f입니다. ' % height\n",
    "print(a)"
   ]
  },
  {
   "cell_type": "code",
   "execution_count": 48,
   "metadata": {},
   "outputs": [
    {
     "name": "stdout",
     "output_type": "stream",
     "text": [
      "키는 180.0000입니다. \n"
     ]
    }
   ],
   "source": [
    "#ex 2-23. extend 1\n",
    "height  = 180.0\n",
    "a  = '키는 %.4f입니다. ' % height\n",
    "print(a)"
   ]
  },
  {
   "cell_type": "code",
   "execution_count": 49,
   "metadata": {},
   "outputs": [
    {
     "name": "stdout",
     "output_type": "stream",
     "text": [
      "이름 : 김동준\n",
      "나이 : 18\n",
      "시력 : 1.2\n"
     ]
    }
   ],
   "source": [
    "#ex 2-24. str.format()문자열 포맷팅\n",
    "name = '김동준'\n",
    "age = 18\n",
    "eyesight = 1.2\n",
    "\n",
    "a = '이름 : {}'.format(name)\n",
    "b = '나이 : {}'.format(age)\n",
    "c = '시력 : {}'.format(eyesight)\n",
    "\n",
    "print(a)\n",
    "print(b)\n",
    "print(c)"
   ]
  },
  {
   "cell_type": "code",
   "execution_count": 53,
   "metadata": {},
   "outputs": [
    {
     "name": "stdout",
     "output_type": "stream",
     "text": [
      "김동준\n",
      "18\n",
      "1.2\n"
     ]
    }
   ],
   "source": [
    "#ex 2-24. extend 1\n",
    "name = '김동준'\n",
    "age = 18\n",
    "eyesight = 1.2\n",
    "\n",
    "a = '%s' % name \n",
    "b = '%s' % age\n",
    "c = '%s' % eyesight\n",
    "\n",
    "print(a)\n",
    "print(b)\n",
    "print(c)\n"
   ]
  },
  {
   "cell_type": "code",
   "execution_count": 67,
   "metadata": {},
   "outputs": [
    {
     "data": {
      "text/plain": [
       "'!i am happy!'"
      ]
     },
     "execution_count": 67,
     "metadata": {},
     "output_type": "execute_result"
    }
   ],
   "source": [
    "#ex 2-24.\n",
    "x = '!i am happy!'\n",
    "x.format(x)\n",
    "x.count('!')\n",
    "x.find('i')\n",
    "x.upper()\n",
    "x.lower()\n"
   ]
  },
  {
   "cell_type": "code",
   "execution_count": 68,
   "metadata": {},
   "outputs": [
    {
     "data": {
      "text/plain": [
       "2"
      ]
     },
     "execution_count": 68,
     "metadata": {},
     "output_type": "execute_result"
    }
   ],
   "source": [
    "#ex 2-24.\n",
    "x = '!i am happy!'\n",
    "x.count('!')\n"
   ]
  },
  {
   "cell_type": "code",
   "execution_count": 70,
   "metadata": {},
   "outputs": [
    {
     "data": {
      "text/plain": [
       "1"
      ]
     },
     "execution_count": 70,
     "metadata": {},
     "output_type": "execute_result"
    }
   ],
   "source": [
    "x = '!i am happy!'\n",
    "x.find('i')"
   ]
  },
  {
   "cell_type": "code",
   "execution_count": 72,
   "metadata": {},
   "outputs": [
    {
     "data": {
      "text/plain": [
       "3"
      ]
     },
     "execution_count": 72,
     "metadata": {},
     "output_type": "execute_result"
    }
   ],
   "source": [
    "x = '!i am happy!'\n",
    "x.find('am')"
   ]
  },
  {
   "cell_type": "code",
   "execution_count": 73,
   "metadata": {},
   "outputs": [
    {
     "data": {
      "text/plain": [
       "'!I AM HAPPY!'"
      ]
     },
     "execution_count": 73,
     "metadata": {},
     "output_type": "execute_result"
    }
   ],
   "source": [
    "x = '!i am happy!'\n",
    "x.upper()"
   ]
  },
  {
   "cell_type": "code",
   "execution_count": 74,
   "metadata": {},
   "outputs": [
    {
     "data": {
      "text/plain": [
       "'!i am happy!'"
      ]
     },
     "execution_count": 74,
     "metadata": {},
     "output_type": "execute_result"
    }
   ],
   "source": [
    "x = '!i am happy!'\n",
    "x.lower()\n"
   ]
  },
  {
   "cell_type": "code",
   "execution_count": 78,
   "metadata": {},
   "outputs": [
    {
     "data": {
      "text/plain": [
       "'!i was happy!'"
      ]
     },
     "execution_count": 78,
     "metadata": {},
     "output_type": "execute_result"
    }
   ],
   "source": [
    "x = '!i am happy!'\n",
    "x.replace('i am', 'i was')"
   ]
  },
  {
   "cell_type": "code",
   "execution_count": 79,
   "metadata": {},
   "outputs": [
    {
     "data": {
      "text/plain": [
       "['!i', 'am', 'happy!']"
      ]
     },
     "execution_count": 79,
     "metadata": {},
     "output_type": "execute_result"
    }
   ],
   "source": [
    "x = '!i am happy!'\n",
    "x.split()"
   ]
  },
  {
   "cell_type": "code",
   "execution_count": 87,
   "metadata": {},
   "outputs": [
    {
     "data": {
      "text/plain": [
       "False"
      ]
     },
     "execution_count": 87,
     "metadata": {},
     "output_type": "execute_result"
    }
   ],
   "source": [
    "x = '!i am happy!'\n",
    "x.isspace()\n"
   ]
  },
  {
   "cell_type": "code",
   "execution_count": 88,
   "metadata": {},
   "outputs": [
    {
     "data": {
      "text/plain": [
       "True"
      ]
     },
     "execution_count": 88,
     "metadata": {},
     "output_type": "execute_result"
    }
   ],
   "source": [
    "x = '            '\n",
    "x.isspace()"
   ]
  },
  {
   "cell_type": "code",
   "execution_count": 93,
   "metadata": {},
   "outputs": [
    {
     "name": "stdout",
     "output_type": "stream",
     "text": [
      "두 과목 점수 : 80, 87\n",
      "합계 : 167, 평균 : 83\n"
     ]
    }
   ],
   "source": [
    "#ex 2-27. 문자열 포맷팅(%)을 이용한 출력\n",
    "score1 = 80\n",
    "score2 = 87\n",
    "\n",
    "sum = score1 +score2\n",
    "avg = sum / 2\n",
    "\n",
    "print('두 과목 점수 : %d, %d'% (score1,score2))\n",
    "print('합계 : %d, 평균 : %d' % (sum, avg))"
   ]
  },
  {
   "cell_type": "code",
   "execution_count": 95,
   "metadata": {},
   "outputs": [
    {
     "name": "stdout",
     "output_type": "stream",
     "text": [
      "이름 :김소원\n",
      "아이디 : kim, 마일리지 : 18000\n"
     ]
    }
   ],
   "source": [
    "#ex 2-28. format()을 이용한 출력\n",
    "name = '김소원'\n",
    "id = 'kim'\n",
    "point = 18000\n",
    "\n",
    "print('이름 :{}'.format(name))\n",
    "print('아이디 : {}, 마일리지 : {}'.format(id,point))\n"
   ]
  },
  {
   "cell_type": "code",
   "execution_count": 96,
   "metadata": {},
   "outputs": [
    {
     "name": "stdout",
     "output_type": "stream",
     "text": [
      "오늘은\n",
      "2020 5 29\n",
      "입니다.\n"
     ]
    }
   ],
   "source": [
    "#sep, end\n",
    "print('오늘은')\n",
    "year = 2020\n",
    "month = 5\n",
    "day = 29\n",
    "print(year, month, day)\n",
    "print('입니다.')\n"
   ]
  },
  {
   "cell_type": "code",
   "execution_count": 100,
   "metadata": {},
   "outputs": [
    {
     "name": "stdout",
     "output_type": "stream",
     "text": [
      "오늘은 2020/5/29 입니다.\n"
     ]
    }
   ],
   "source": [
    "#오늘은 2020/5/29 입니다.\n",
    "print('오늘은' , end = ' ')\n",
    "year = 2020\n",
    "month = 5\n",
    "day = 29\n",
    "print(year, month, day ,sep = '/' , end = ' ')\n",
    "print('입니다.')"
   ]
  },
  {
   "cell_type": "code",
   "execution_count": 106,
   "metadata": {},
   "outputs": [
    {
     "name": "stdout",
     "output_type": "stream",
     "text": [
      "이름을 입력하세요 :ㅇㅇ\n",
      "ㅇㅇ님 반갑습니다.\n"
     ]
    }
   ],
   "source": [
    "#예제 2-31. input()을 이용한 키보드 입력\n",
    "name = input('이름을 입력하세요 :')\n",
    "print('%s님 반갑습니다.' %name)"
   ]
  },
  {
   "cell_type": "code",
   "execution_count": 109,
   "metadata": {},
   "outputs": [
    {
     "name": "stdout",
     "output_type": "stream",
     "text": [
      "첫 번째 수를 입력하세요 : 10\n",
      "두 번째 수를 입력하세요 : 20\n",
      "1020\n",
      "<class 'str'> <class 'str'> <class 'str'>\n"
     ]
    }
   ],
   "source": [
    "#예제 2-32. 입력받은 두 수의 합 구하기 : 잘못된 결과\n",
    "a = input('첫 번째 수를 입력하세요 : ')\n",
    "b = input('두 번째 수를 입력하세요 : ')\n",
    "\n",
    "c = a + b\n",
    "\n",
    "print(c)\n",
    "print(type(a), type(b), type(c))"
   ]
  },
  {
   "cell_type": "code",
   "execution_count": 115,
   "metadata": {},
   "outputs": [
    {
     "name": "stdout",
     "output_type": "stream",
     "text": [
      "첫 번째 수를 입력하세요 : 10\n",
      "두 번째 수를 입력하세요 : 20\n",
      "30\n",
      "<class 'str'> <class 'str'> <class 'int'>\n"
     ]
    }
   ],
   "source": [
    "#예제 2-32.  extend 1 : 수정\n",
    "a = input('첫 번째 수를 입력하세요 : ')\n",
    "b = input('두 번째 수를 입력하세요 : ')\n",
    "\n",
    "c = int(a) + int(b)\n",
    "\n",
    "print(c)\n",
    "print(type(a), type(b), type(c))"
   ]
  },
  {
   "cell_type": "code",
   "execution_count": 117,
   "metadata": {},
   "outputs": [
    {
     "name": "stdout",
     "output_type": "stream",
     "text": [
      "첫 번째 수를 입력하세요 : 10\n",
      "두 번째 수를 입력하세요 : 20\n",
      "30\n",
      "<class 'int'> <class 'int'> <class 'int'>\n"
     ]
    }
   ],
   "source": [
    "#예제 2-32.  extend 2 : 수정\n",
    "a = int(input('첫 번째 수를 입력하세요 : '))\n",
    "b = int(input('두 번째 수를 입력하세요 : '))\n",
    "\n",
    "c = a + b\n",
    "\n",
    "print(c)\n",
    "print(type(a), type(b), type(c))"
   ]
  },
  {
   "cell_type": "code",
   "execution_count": 119,
   "metadata": {},
   "outputs": [
    {
     "name": "stdout",
     "output_type": "stream",
     "text": [
      "30\n"
     ]
    }
   ],
   "source": [
    "#주석 예제\n",
    "\n",
    "\"\"\"\n",
    "여러 줄 주석\n",
    "\n",
    "프로그램명 : 두 수 더하기\n",
    "작성자     : 홍길동\n",
    "작성일     : 2020.5.29\n",
    "\"\"\"\n",
    "\n",
    "a = 10  # 변수 a에 10 저장\n",
    "b = 20  # 변수 b에 20 저장\n",
    "\n",
    "c = a + b\n",
    "\n",
    "#한줄 주석\n",
    "#결과를 출력한다.\n",
    "print(c)\n"
   ]
  },
  {
   "cell_type": "code",
   "execution_count": null,
   "metadata": {},
   "outputs": [],
   "source": [
    "\n",
    "        "
   ]
  },
  {
   "cell_type": "code",
   "execution_count": null,
   "metadata": {},
   "outputs": [],
   "source": []
  },
  {
   "cell_type": "code",
   "execution_count": null,
   "metadata": {},
   "outputs": [],
   "source": [
    "\n"
   ]
  }
 ],
 "metadata": {
  "kernelspec": {
   "display_name": "Python 3",
   "language": "python",
   "name": "python3"
  },
  "language_info": {
   "codemirror_mode": {
    "name": "ipython",
    "version": 3
   },
   "file_extension": ".py",
   "mimetype": "text/x-python",
   "name": "python",
   "nbconvert_exporter": "python",
   "pygments_lexer": "ipython3",
   "version": "3.7.6"
  }
 },
 "nbformat": 4,
 "nbformat_minor": 4
}
