{
 "cells": [
  {
   "cell_type": "markdown",
   "metadata": {},
   "source": [
    "튜플과 딕셔너리"
   ]
  },
  {
   "cell_type": "code",
   "execution_count": 5,
   "metadata": {},
   "outputs": [
    {
     "name": "stdout",
     "output_type": "stream",
     "text": [
      "('coffee', 'milk', 'tea', 'cider')\n",
      "coffee\n",
      "tea\n",
      "('coffee', 'milk', 'tea')\n"
     ]
    }
   ],
   "source": [
    "#ex6-1. 튜플 생성과 요소 추출\n",
    "menu =('coffee', 'milk','tea','cider')\n",
    "\n",
    "print(menu)\n",
    "print(menu[0])\n",
    "print(menu[2])\n",
    "print(menu[0:3])\n",
    "\n",
    "#튜플은 삽입 안됨. Read only\n",
    "#menu[1] = 'cola'\n",
    "\n"
   ]
  },
  {
   "cell_type": "code",
   "execution_count": 6,
   "metadata": {},
   "outputs": [
    {
     "name": "stdout",
     "output_type": "stream",
     "text": [
      "('apple', 'banana', 'cherry', 'orange', 'melon', 'strawberry')\n",
      "6\n",
      "apple\n",
      "banana\n",
      "cherry\n"
     ]
    }
   ],
   "source": [
    "#ex6-2. 튜플 병합과 길이 구하기\n",
    "tuple1 = ('apple','banana','cherry')\n",
    "tuple2 = ('orange','melon','strawberry')\n",
    "\n",
    "tuple3 = tuple1 + tuple2\n",
    "print(tuple3)\n",
    "\n",
    "print(len(tuple3))\n",
    "\n",
    "for x in tuple1:\n",
    "    print(x)\n",
    "    \n",
    "del tuple1\n",
    "\n"
   ]
  },
  {
   "cell_type": "code",
   "execution_count": 20,
   "metadata": {},
   "outputs": [
    {
     "name": "stdout",
     "output_type": "stream",
     "text": [
      "구구단표\n",
      "------------------------------\n",
      "2 x 1 = 2\n",
      "2 x 2 = 4\n",
      "2 x 3 = 6\n",
      "2 x 4 = 8\n",
      "2 x 5 = 10\n",
      "2 x 6 = 12\n",
      "2 x 7 = 14\n",
      "2 x 8 = 16\n",
      "2 x 9 = 18\n",
      "------------------------------\n",
      "3 x 1 = 3\n",
      "3 x 2 = 6\n",
      "3 x 3 = 9\n",
      "3 x 4 = 12\n",
      "3 x 5 = 15\n",
      "3 x 6 = 18\n",
      "3 x 7 = 21\n",
      "3 x 8 = 24\n",
      "3 x 9 = 27\n",
      "------------------------------\n",
      "4 x 1 = 4\n",
      "4 x 2 = 8\n",
      "4 x 3 = 12\n",
      "4 x 4 = 16\n",
      "4 x 5 = 20\n",
      "4 x 6 = 24\n",
      "4 x 7 = 28\n",
      "4 x 8 = 32\n",
      "4 x 9 = 36\n",
      "------------------------------\n",
      "5 x 1 = 5\n",
      "5 x 2 = 10\n",
      "5 x 3 = 15\n",
      "5 x 4 = 20\n",
      "5 x 5 = 25\n",
      "5 x 6 = 30\n",
      "5 x 7 = 35\n",
      "5 x 8 = 40\n",
      "5 x 9 = 45\n",
      "------------------------------\n",
      "6 x 1 = 6\n",
      "6 x 2 = 12\n",
      "6 x 3 = 18\n",
      "6 x 4 = 24\n",
      "6 x 5 = 30\n",
      "6 x 6 = 36\n",
      "6 x 7 = 42\n",
      "6 x 8 = 48\n",
      "6 x 9 = 54\n",
      "------------------------------\n",
      "7 x 1 = 7\n",
      "7 x 2 = 14\n",
      "7 x 3 = 21\n",
      "7 x 4 = 28\n",
      "7 x 5 = 35\n",
      "7 x 6 = 42\n",
      "7 x 7 = 49\n",
      "7 x 8 = 56\n",
      "7 x 9 = 63\n",
      "------------------------------\n",
      "8 x 1 = 8\n",
      "8 x 2 = 16\n",
      "8 x 3 = 24\n",
      "8 x 4 = 32\n",
      "8 x 5 = 40\n",
      "8 x 6 = 48\n",
      "8 x 7 = 56\n",
      "8 x 8 = 64\n",
      "8 x 9 = 72\n",
      "------------------------------\n",
      "9 x 1 = 9\n",
      "9 x 2 = 18\n",
      "9 x 3 = 27\n",
      "9 x 4 = 36\n",
      "9 x 5 = 45\n",
      "9 x 6 = 54\n",
      "9 x 7 = 63\n",
      "9 x 8 = 72\n",
      "9 x 9 = 81\n",
      "------------------------------\n"
     ]
    }
   ],
   "source": [
    "#Q6-1 튜플로 구구단표 만들기\n",
    "dans = (2,3,4,5,6,7,8,9)\n",
    "\n",
    "print('구구단표')\n",
    "print('-' * 30) \n",
    "\n",
    "for dan in dans :\n",
    "    for i in range(1,10):\n",
    "        print('%d x %d = %d' % (dan, i, dan * i))\n",
    "    print('-' * 30)\n",
    " "
   ]
  },
  {
   "cell_type": "code",
   "execution_count": 26,
   "metadata": {},
   "outputs": [
    {
     "name": "stdout",
     "output_type": "stream",
     "text": [
      "관리자 아이디를 입력하세요 : admin\n",
      "관리자 비밀번호를 입력하세요 :12345\n",
      "관리자입니다.\n"
     ]
    }
   ],
   "source": [
    "#Q6-2 튜플로 관리자 정보 처리하기\n",
    "'''\n",
    "다음은 튜플을 이용하여 관리자 정보를 처리하는 프로그램이다. \n",
    "밑줄친 부분을 채우시오. \n",
    "\n",
    "    실행결과 1 \n",
    "    관리자 아이디를 입력하세요 : rubato\n",
    "    관리자 비밀번호를 입력하세요 : 1111\n",
    "    아이디 또는 비밀번호가 잘못 입력되었습니다. \n",
    "    \n",
    "    실행결과 2 \n",
    "    관리자 아이디를 입력하세요 : admin\n",
    "    관리자 비밀번호를 입력하세요 : 12345\n",
    "    관리자입니다. \n",
    "'''\n",
    "\n",
    "admin_info = ('admin','12345','rubato@naver.com')\n",
    "\n",
    "id = input(\"관리자 아이디를 입력하세요 : \")\n",
    "password = input(\"관리자 비밀번호를 입력하세요 :\")\n",
    "\n",
    "if id == 'admin' and password == '12345' :\n",
    "    print('관리자입니다.')\n",
    "else :\n",
    "    print('아이디 또는 비밀번호가 잘못 입력되었습니다. ')\n",
    "\n"
   ]
  },
  {
   "cell_type": "code",
   "execution_count": 33,
   "metadata": {},
   "outputs": [
    {
     "name": "stdout",
     "output_type": "stream",
     "text": [
      "(1, 4, 9, 16, 25)\n",
      "(1, 9, 25, 49, 81)\n"
     ]
    }
   ],
   "source": [
    "# 표현식( 1, 4, 9 16 25)\n",
    "squares = tuple(i * i for i in range(1,6,1))\n",
    "print(squares)\n",
    "\n",
    "# 표현식( 1, 4, 9 16 25)\n",
    "squares = tuple(i * i for i in range(1,10,1) if i % 2 == 1)\n",
    "print(squares)"
   ]
  },
  {
   "cell_type": "code",
   "execution_count": 34,
   "metadata": {},
   "outputs": [
    {
     "name": "stdout",
     "output_type": "stream",
     "text": [
      "(1, 3, 5, 7, 9)\n",
      "(1, 4, 9, 16, 25)\n"
     ]
    }
   ],
   "source": [
    "#Tuple 만들기\n",
    "adds = tuple(range(1,10,2))\n",
    "print(adds)\n",
    "\n",
    "squares = tuple(i * i for i in range(1,6,1))\n",
    "print(squares)"
   ]
  },
  {
   "cell_type": "markdown",
   "metadata": {},
   "source": [
    "Sequence 객체"
   ]
  },
  {
   "cell_type": "code",
   "execution_count": 38,
   "metadata": {},
   "outputs": [
    {
     "name": "stdout",
     "output_type": "stream",
     "text": [
      "True\n",
      "False\n",
      "True\n",
      "False\n"
     ]
    }
   ],
   "source": [
    "#특정 값이 있는지 확인하기\n",
    "a=[0,10,20,30,40,50,60,70,80,90]\n",
    "\n",
    "print(30 in a)\n",
    "print(100 in a)\n",
    "\n",
    "print(100 not in a)\n",
    "print(30 not in a)"
   ]
  },
  {
   "cell_type": "code",
   "execution_count": 39,
   "metadata": {},
   "outputs": [
    {
     "data": {
      "text/plain": [
       "True"
      ]
     },
     "execution_count": 39,
     "metadata": {},
     "output_type": "execute_result"
    }
   ],
   "source": [
    "i in range(10)"
   ]
  },
  {
   "cell_type": "code",
   "execution_count": 41,
   "metadata": {},
   "outputs": [
    {
     "data": {
      "text/plain": [
       "True"
      ]
     },
     "execution_count": 41,
     "metadata": {},
     "output_type": "execute_result"
    }
   ],
   "source": [
    "'p' in 'py'"
   ]
  },
  {
   "cell_type": "code",
   "execution_count": 43,
   "metadata": {},
   "outputs": [
    {
     "name": "stdout",
     "output_type": "stream",
     "text": [
      "[9, 8, 7, 6, 0, 10, 20, 30]\n"
     ]
    }
   ],
   "source": [
    "#시퀀스 객체 연결하기\n",
    "#시퀀스 객체는 + 연산자를 사용하여 객체를 새 객체를 만들 수 있다. \n",
    "\n",
    "a = [0,10,20,30]\n",
    "b = [9,8,7,6]\n",
    "print(a + b)"
   ]
  },
  {
   "cell_type": "code",
   "execution_count": 45,
   "metadata": {},
   "outputs": [
    {
     "name": "stdout",
     "output_type": "stream",
     "text": [
      "(1, 2, 3, 4, 5, 6)\n",
      "hello world!\n"
     ]
    }
   ],
   "source": [
    "print((1,2,3)+(4,5,6))\n",
    "print('hello' + ' ' + 'world!')"
   ]
  },
  {
   "cell_type": "code",
   "execution_count": 48,
   "metadata": {},
   "outputs": [
    {
     "data": {
      "text/plain": [
       "(1, 2, 3, 4, 5, 6, 7, 8, 9, 10, 11, 12, 13, 14, 15, 16, 17, 18, 19)"
      ]
     },
     "execution_count": 48,
     "metadata": {},
     "output_type": "execute_result"
    }
   ],
   "source": [
    "#range(1,10) + range(10,20)\n",
    "tuple(range (1,10)) + tuple(range(10,20))"
   ]
  },
  {
   "cell_type": "code",
   "execution_count": 52,
   "metadata": {},
   "outputs": [],
   "source": [
    "#문자열과 숫자 연결\n",
    "#'Python' + 3       문자 + 숫자  false\n",
    "#'Python' + '3'     문자 + 문자  true"
   ]
  },
  {
   "cell_type": "code",
   "execution_count": 70,
   "metadata": {},
   "outputs": [
    {
     "name": "stdout",
     "output_type": "stream",
     "text": [
      "[1, 2, 3, 1, 2, 3, 1, 2, 3]\n",
      "[1, 2, 3, 1, 2, 3, 1, 2, 3]\n",
      "PythonPythonPython\n",
      "(1, 2, 3, 4, 1, 2, 3, 4, 1, 2, 3, 4)\n"
     ]
    },
    {
     "data": {
      "text/plain": [
       "3"
      ]
     },
     "execution_count": 70,
     "metadata": {},
     "output_type": "execute_result"
    }
   ],
   "source": [
    "#시퀀스 객체 반복하기\n",
    "print([1,2,3] * 3)\n",
    "print(3 * [1,2,3])\n",
    "\n",
    "print('Python' * 3)\n",
    "a = (tuple(range(1,5)) * 3)\n",
    "\n",
    "print(a)\n",
    "a.count(1)"
   ]
  },
  {
   "cell_type": "code",
   "execution_count": 71,
   "metadata": {},
   "outputs": [
    {
     "name": "stdout",
     "output_type": "stream",
     "text": [
      "(11, 55, 99)\n"
     ]
    }
   ],
   "source": [
    "a = (11,22,33,44,55,66,77,88,99)\n",
    "print(a[0:9:4])"
   ]
  },
  {
   "cell_type": "code",
   "execution_count": 72,
   "metadata": {},
   "outputs": [],
   "source": [
    "#--------------------------------------------------------------\n",
    "#딕셔너리\n",
    "#--------------------------------------------------------------"
   ]
  },
  {
   "cell_type": "code",
   "execution_count": 76,
   "metadata": {},
   "outputs": [
    {
     "name": "stdout",
     "output_type": "stream",
     "text": [
      "{'name': '안지영', 'age': 30, 'email': 'jiyoung@korea.com'}\n",
      "안지영\n",
      "30\n",
      "길이 : 3\n"
     ]
    }
   ],
   "source": [
    "#ex6-3. 딕셔너리의 기본 구조\n",
    "members = {'name':'안지영', 'age':30, 'email':'jiyoung@korea.com'}\n",
    "\n",
    "print(members)\n",
    "print(members['name'])\n",
    "print(members['age'])\n",
    "\n",
    "print('길이 : %d' % len(members))"
   ]
  },
  {
   "cell_type": "code",
   "execution_count": 84,
   "metadata": {},
   "outputs": [
    {
     "name": "stdout",
     "output_type": "stream",
     "text": [
      "{'kor': 95, 'eng': 85, 'math': 90, 'science': 80}\n",
      "70\n",
      "{'kor': 70, 'eng': 85, 'math': 90, 'science': 80, 'music': 100}\n",
      "{'kor': 70, 'eng': 85, 'math': 90, 'music': 100}\n",
      "이름 : 안진영 \n",
      "국어 : 70 \n",
      "영어 : 85 \n",
      "수학 : 90 \n"
     ]
    }
   ],
   "source": [
    "#ex6-4. 딕셔너리 요소 다루기\n",
    "name = '안진영'\n",
    "scores = {'kor':95, 'eng':85, 'math':90, 'science':80}\n",
    "print(scores)\n",
    "\n",
    "scores['kor'] = 70\n",
    "print(scores['kor'])\n",
    "\n",
    "scores['music'] = 100\n",
    "print(scores)\n",
    "\n",
    "del scores ['science']\n",
    "print(scores)\n",
    "\n",
    "\n",
    "\n",
    "print('이름 : %s ' % name)\n",
    "print('국어 : %d ' % scores['kor'])\n",
    "print('영어 : %d ' % scores['eng'])\n",
    "print('수학 : %d ' % scores['math'])"
   ]
  },
  {
   "cell_type": "code",
   "execution_count": 90,
   "metadata": {},
   "outputs": [
    {
     "name": "stdout",
     "output_type": "stream",
     "text": [
      "{'갤럭시 노트8': 2017, '갤럭시 S9': 2018, '갤럭시 노트10': 2019, '갤럭시 S20': 2020}\n",
      "갤럭시 노트8 = > 2017\n",
      "갤럭시 S9 = > 2018\n",
      "갤럭시 노트10 = > 2019\n",
      "갤럭시 S20 = > 2020\n",
      "4\n"
     ]
    }
   ],
   "source": [
    "#6-5. for문에서 딕셔너리 사용하기\n",
    "phones = {'갤럭시 노트8': 2017, '갤럭시 S9': 2018, '갤럭시 노트10': 2019, '갤럭시 S20': 2020 }\n",
    "print(phoens)\n",
    "\n",
    "for key in phones:\n",
    "    print('%s = > %s' % (key,phones[key]))\n",
    "    \n",
    "print(len(phones))\n"
   ]
  },
  {
   "cell_type": "code",
   "execution_count": 92,
   "metadata": {},
   "outputs": [
    {
     "name": "stdout",
     "output_type": "stream",
     "text": [
      "김예진 : 90\n",
      "박영진 : 95\n",
      "김소희 : 84\n",
      "합계 : 269, 평균 : 89.67\n"
     ]
    }
   ],
   "source": [
    "#Q6-3 딕셔너리로 성적 합계/평균 구하기\n",
    "'''\n",
    "다음은 딕셔너리를 이용하여 3명 학생들의 성적의 합계와 평균을 구하는\n",
    "프로그램이다. 밑줄친 부분을 채우시오. \n",
    "\n",
    "    실행결과\n",
    "    김예진 : 90\n",
    "    박영진 : 95\n",
    "    김소희 : 84\n",
    "    합계 : 269, 평균 : 89.67\n",
    "'''\n",
    "scores = {'김예진':90, '박영진':95,'김소희':84}\n",
    "\n",
    "sum = 0\n",
    "for key in scores:\n",
    "    sum += scores[key]\n",
    "    \n",
    "    print('%s : %d' % (key, scores[key]))\n",
    "\n",
    "avg = sum/len(scores)\n",
    "\n",
    "print('합계 : %d, 평균 : %.2f' % (sum, avg))\n"
   ]
  },
  {
   "cell_type": "code",
   "execution_count": 96,
   "metadata": {},
   "outputs": [
    {
     "name": "stdout",
     "output_type": "stream",
     "text": [
      "아이디를 입력하세요 :admin\n",
      "비밀번호를 입력하세요 :11111\n",
      "모든 정보에 접근 가능합니다.!\n"
     ]
    }
   ],
   "source": [
    "#Q6-4 딕셔너리로 정보 접근 제어하기\n",
    "'''\n",
    "다음은 웹의 고나리자 정보를 딕셔너리에 저장한 다음 입력된 아이디와\n",
    "비밀번호를 체크하여 정보 접근 가능 여부를 판정하는 프로그램이다. \n",
    "밑줄 친 부분을 채우시오. \n",
    "\n",
    "    실행결과  1\n",
    "    아이디를 입력하세요 :ocella\n",
    "    비밀번호를 입력하세요 : 13093\n",
    "    정보에 접근 권한이 없습니다. \n",
    "    \n",
    "    실행결과  2\n",
    "    아이디를 입력하세요 : admin\n",
    "    비밀번호를 입력하세요 : 11111\n",
    "    모든 정보에 접근 가능합니다.  \n",
    "'''\n",
    "ad = {'id':'admin','password':'11111'}\n",
    "\n",
    "in_id = input('아이디를 입력하세요 :')\n",
    "in_password = input('비밀번호를 입력하세요 :')\n",
    "\n",
    "if (in_id == 'admin' and in_password == '11111'):\n",
    "    print('모든 정보에 접근 가능합니다.!')\n",
    "else :\n",
    "    print('정보에 접근 권한이 없습니다.!')\n",
    "\n"
   ]
  },
  {
   "cell_type": "code",
   "execution_count": 1,
   "metadata": {},
   "outputs": [
    {
     "name": "stdout",
     "output_type": "stream",
     "text": [
      "사과에 해당되는 영어 단어를 입력해주세요 : apple\n",
      "정답입니다. \n",
      "컴퓨터에 해당되는 영어 단어를 입력해주세요 : commputer\n",
      "틀렸습니다. \n",
      "학교에 해당되는 영어 단어를 입력해주세요 : school\n",
      "정답입니다. \n",
      "책상에 해당되는 영어 단어를 입력해주세요 : tesk\n",
      "틀렸습니다. \n",
      "의자에 해당되는 영어 단어를 입력해주세요 : chaaar\n",
      "틀렸습니다. \n"
     ]
    }
   ],
   "source": [
    "#Q6-5 딕셔너리로영어 단어 퀴즈 만들기\n",
    "'''\n",
    "다음은 딕셔너리를 이용하여 영어 단어 퀴즈를 만드는 프로그램이다. \n",
    "밑줄 친 부분을 채우시오.\n",
    "\n",
    "    실행결과 \n",
    "    사과에 해당되는 영어 단어를 입력해주세요 : apple\n",
    "    정답입니다!\n",
    "    컴퓨터에 해당되는 영어 단어를 입력해주세요 : commputer\n",
    "    틀렸습니다!\n",
    "    학교에 해당되는 영어 단어를 입력해주세요 : school\n",
    "    정답입니다!\n",
    "    책상에 해당되는 영어 단어를 입력해주세요 : tesk\n",
    "    틀렸습니다!\n",
    "    의자에 해당되는 영어 단어를 입력해주세요 : chaaar\n",
    "    틀렸습니다!\n",
    "'''\n",
    "\n",
    "words = {'사과':'apple', '컴퓨터':'computer','학교':'school','책상':'desk','의자':'chair'}\n",
    "\n",
    "for key in words:\n",
    "    in_word = input('%s에 해당되는 영어 단어를 입력해주세요 : '% key)\n",
    "    \n",
    "    if( in_word == words[key]):\n",
    "        print('정답입니다. ')\n",
    "    else :\n",
    "        print('틀렸습니다. ')\n",
    "        "
   ]
  },
  {
   "cell_type": "code",
   "execution_count": null,
   "metadata": {},
   "outputs": [],
   "source": []
  }
 ],
 "metadata": {
  "kernelspec": {
   "display_name": "Python 3",
   "language": "python",
   "name": "python3"
  },
  "language_info": {
   "codemirror_mode": {
    "name": "ipython",
    "version": 3
   },
   "file_extension": ".py",
   "mimetype": "text/x-python",
   "name": "python",
   "nbconvert_exporter": "python",
   "pygments_lexer": "ipython3",
   "version": "3.7.6"
  }
 },
 "nbformat": 4,
 "nbformat_minor": 4
}
