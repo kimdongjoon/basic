{
 "cells": [
  {
   "cell_type": "code",
   "execution_count": 4,
   "metadata": {},
   "outputs": [
    {
     "name": "stdout",
     "output_type": "stream",
     "text": [
      "연도를 입력하세요 : 2000\n",
      "윤년입니다.\n"
     ]
    }
   ],
   "source": [
    "# 연도를 입력으로 받아 윤년인지 아닌지를 출력하는 프로그램을 작성하시오.\n",
    "# 윤년은 연도가 4의 배수이면서, 100의 배수가 아닐 때 또는 \n",
    "# 400의 배수일 때이다.\n",
    "# 예를들어, 2012년은 4의 배수라서 윤년이지만, \n",
    "# 1900년은 4의 배수이지만, 100의 배수이기 때문에 윤년이 아니다. \n",
    "# 하지만, 2000년은 400의 배수이기 때문에 윤년이다.)\n",
    "\n",
    "def checkYear(year):\n",
    "    if ((year % 4 == 0 and year != 100) or year % 400):\n",
    "        print('윤년입니다.')\n",
    "        return\n",
    "    else :\n",
    "        print('윤년이 아닙니다.')\n",
    "        return\n",
    "        \n",
    "year_in = input('연도를 입력하세요 : ')\n",
    "checkYear(int(year_in))\n"
   ]
  },
  {
   "cell_type": "code",
   "execution_count": 5,
   "metadata": {},
   "outputs": [
    {
     "name": "stdout",
     "output_type": "stream",
     "text": [
      "시를 입력하세요 : 20\n",
      "분을 입력하세요 : 40\n",
      "변경된 시간은 19시 55분 입니다.\n"
     ]
    }
   ],
   "source": [
    "# 상근이는 매일 아침 알람을 듣고 일어난다. \n",
    "# 알람을 듣고 바로 일어나면 다행이겠지만, \n",
    "# 항상 조금만 더 자려는 마음 때문에 매일 학교를 지각하고 있다. \n",
    "# 상근이는 모든 방법을 동원해보았지만, \n",
    "# 조금만 더 자려는 마음은 그 어떤 것도 없앨 수가 없었다.\n",
    "# 이런 상근이를 불쌍하게 보던, 창영이는 자신이 사용하는 방법을 추천해 주었다.\n",
    "# 바로 \"45분 일찍 알람 맞추기\"이다.\u000b",
    "이 방법은 단순하다. \n",
    "# 원래 맞춰져 있는 알람을 45분 앞서는 시간으로 바꾸는 것이다. \n",
    "# 어차피 알람 소리를 들으면, 알람을 끄고 조금 더 잘 것이기 때문이다. \n",
    "# 이 방법을 사용하면, 매일 아침 더 잤다는 기분을 느낄 수 있고, \n",
    "# 학교도 지각하지 않게 된다.\n",
    "# 현재 상근이가 맞춰논 알람 시각을 입력으로 받아(시와 분) \n",
    "# 창영이의 방법을 사용한다면, 이를 언제로 고쳐야 하는지 구하는 프로그램을 작성하시오.\n",
    "\n",
    "import math as m\n",
    "\n",
    "def changeTime(h, m):\n",
    "    #check time \n",
    "\n",
    "    changeM = 45\n",
    "    if not((h > 0 and h < 24) and (m > 0 and m < 60)):\n",
    "        return '다시 입력하세요'\n",
    "    else :\n",
    "        \n",
    "        #45분 앞으로 시계 이동. \n",
    "        if (m - changeM) >= 0:\n",
    "            \n",
    "            print('변경된 시간은 %d시 %d분 입니다.' % (h, m - changeM))\n",
    "        else :\n",
    "            print('변경된 시간은 %d시 %d분 입니다.' % (h-1, 60 + m - changeM))\n",
    "        \n",
    "hour_in = int(input('시를 입력하세요 : '))\n",
    "min_in = int(input('분을 입력하세요 : '))\n",
    "\n",
    "changeTime(hour_in, min_in)"
   ]
  },
  {
   "cell_type": "code",
   "execution_count": 1,
   "metadata": {},
   "outputs": [
    {
     "name": "stdout",
     "output_type": "stream",
     "text": [
      "숫자를 입력하세요20\n",
      "숫자를 입력하세요30\n",
      "숫자를 입력하세요50\n",
      "[30]\n"
     ]
    }
   ],
   "source": [
    "# 세 정수 a, b, c를 입력으로 받아 \n",
    "# 두 번째로 큰 정수를 출력하는 프로그램을 작성하시오.\n",
    "\n",
    "def midFind(list1):\n",
    "    min1 = min(list1)\n",
    "    max1 = max(list1)\n",
    "    \n",
    "    del list1[list1.index(min1)]\n",
    "    del list1[list1.index(max1)]\n",
    "    \n",
    "    print(list1)\n",
    "\n",
    "    \n",
    "#Main    \n",
    "roop = 3\n",
    "isList = []          \n",
    "    \n",
    "for i in range(0,roop,1):\n",
    "       \n",
    "    isList.append(int(input('숫자를 입력하세요')))\n",
    "\n",
    "midFind(isList)\n"
   ]
  },
  {
   "cell_type": "code",
   "execution_count": 12,
   "metadata": {},
   "outputs": [
    {
     "name": "stdout",
     "output_type": "stream",
     "text": [
      "실행\n",
      "200 375 425\n",
      "종료\n"
     ]
    }
   ],
   "source": [
    "#세 자연수 a, b, c 가 피타고라스 정리 a2 + b2 = c2 를 만족하면 피타고라스 수라고 부른다. \n",
    "#(여기서 a < b < c 이고 a + b > c)\u000b",
    "\u000b",
    "예를 들면, 3 ^2 + 4 ^2 = 9 + 16 = 25 = 5 ^2 이므로 \n",
    "#3, 4, 5는 피타고라스 수입니다.\u000b",
    "\u000b",
    "   a + b + c = 1000 인 피타고라스 수를 구하시오. (답은 한가지 뿐이다.)\n",
    "\n",
    "maxLen = 500\n",
    "\n",
    "print('실행')\n",
    "for i in range (1, maxLen,1):\n",
    "    for j in range(1, maxLen,1):\n",
    "        for k in range(1, maxLen,1):\n",
    "            if ((i*i) + (j*j) == (k*k)) and  (i < j < k) and ((i + j) > k) and ((i + j + k) == 1000) :\n",
    "                print('%d %d %d' %(i,j,k))\n",
    "        \n",
    "\n",
    "print('종료')\n",
    "\n",
    "\n"
   ]
  },
  {
   "cell_type": "code",
   "execution_count": 13,
   "metadata": {},
   "outputs": [],
   "source": [
    "#반복문\n"
   ]
  },
  {
   "cell_type": "code",
   "execution_count": null,
   "metadata": {},
   "outputs": [],
   "source": [
    "#두 정수 A와 B를 입력받은 다음, A+B를 출력하는 프로그램을 작성하시오.\n",
    "# 입력: 첫째 줄에 테스트 케이스의 개수 T를 입력받는다.\n",
    "# 각 테스트 케이스는 한 줄로 이루어져 있으며, 각 줄에 A와 B가 주어진다.\n",
    "# (0 < A, B < 10)\n",
    "# 출력: 각 테스트 케이스마다 \"Case #x: A + B = C\" 형식으로 출력한다.\n",
    "# x는 테스트 케이스 번호이고 1부터 시작하며, C는 A+B이다.\n",
    "\n",
    "a = int(input('0 보다 큰 정수 A 를 입력하세요  :') )\n",
    "b = int(input('10보다 작은 정수 B 를 입력하세요  :'))\n",
    "t = int(input('테스트케이스를 입력하세요  :'))\n",
    "          \n",
    "for i in range(0,t):\n",
    "    print('Case #%d: %d + %d = %d' %(i+1,a,b,a+b))\n",
    "          \n",
    "          "
   ]
  },
  {
   "cell_type": "code",
   "execution_count": 25,
   "metadata": {},
   "outputs": [
    {
     "name": "stdout",
     "output_type": "stream",
     "text": [
      "5 이상 9 이하의 별의 크기를 입력5\n",
      "  *\n",
      " ***\n",
      "*****\n",
      " ***\n",
      "  *\n"
     ]
    }
   ],
   "source": [
    "#별그리기 \n",
    "#5이상 9이하의 홀수를 입력받아 다이아몬드 형태의 별을 출력하는 프로그램을\n",
    "#작성하시오.\n",
    "\n",
    "\n",
    "def makeStar(n):\n",
    "    for i in range(1 , halfN+1):\n",
    "        print(' ' * (halfN-i) , '*' * (2*i-1))\n",
    "    \n",
    "    print ('*' * n)\n",
    "\n",
    "    for i in range(halfN , 0, -1):\n",
    "        print(' ' * (halfN-i) , '*' * (2*i-1))\n",
    "\n",
    "\n",
    "\n",
    "\n",
    "\n",
    "n = int(input(\"5 이상 9 이하의 별의 크기를 입력\"))\n",
    "\n",
    "halfN = int((n-1)/2)\n",
    "\n",
    "makeStar(n)\n"
   ]
  },
  {
   "cell_type": "code",
   "execution_count": 1,
   "metadata": {},
   "outputs": [
    {
     "name": "stdout",
     "output_type": "stream",
     "text": [
      "29700\n"
     ]
    }
   ],
   "source": [
    "#디지털 시계에 하루동안 (00:00~23:59) 3이 표시되는 시간을 초로 환산하면 총 몇초일까요\n",
    "# 디지털 시계는 하루동안 다음과 같이 시:분(00:00~23:59)으로 표시됨.\n",
    "\n",
    "#3이 표시되는 hour 03시, 13시, 23시\n",
    "#분도 구해야 함. \n",
    "\n",
    "second = 60\n",
    "sum = 0\n",
    "#hour = input('찾을 숫자 입력')\n",
    "for i in range(0,24):\n",
    "    #print()\n",
    "    #print('%d' % i)\n",
    "    #print()\n",
    "    for j in range(0, 60):\n",
    "        #print('%d' % j )\n",
    "        hTmp = str(i)\n",
    "        mTmp = str(j)\n",
    "        \n",
    "        if ('3' in hTmp or '3' in mTmp) :#and not('3' in hTmp and '3' in mTmp):\n",
    "            sum += 1\n",
    "\n",
    "\n",
    "print (sum * second)"
   ]
  },
  {
   "cell_type": "code",
   "execution_count": 14,
   "metadata": {},
   "outputs": [],
   "source": [
    "#1~1000에서 각 숫자의 개수를 구하시오. \n",
    "#예로 10~15까지의 각 숫자의 개수를 구해보자. \n",
    "\n",
    "#numCnt = int(input('숫자의 갯수 구하기 : '))\n",
    "\n",
    "#        print ('%d' %j , end = ' ')\n",
    "\n",
    "# for i in range (1000):\n",
    "#     if i % 10 == 0\n",
    "\n",
    "\n",
    "\n",
    "\n"
   ]
  },
  {
   "cell_type": "code",
   "execution_count": null,
   "metadata": {},
   "outputs": [],
   "source": []
  },
  {
   "cell_type": "code",
   "execution_count": null,
   "metadata": {},
   "outputs": [],
   "source": []
  }
 ],
 "metadata": {
  "kernelspec": {
   "display_name": "Python 3",
   "language": "python",
   "name": "python3"
  },
  "language_info": {
   "codemirror_mode": {
    "name": "ipython",
    "version": 3
   },
   "file_extension": ".py",
   "mimetype": "text/x-python",
   "name": "python",
   "nbconvert_exporter": "python",
   "pygments_lexer": "ipython3",
   "version": "3.7.6"
  }
 },
 "nbformat": 4,
 "nbformat_minor": 4
}
