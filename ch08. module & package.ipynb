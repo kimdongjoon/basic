{
 "cells": [
  {
   "cell_type": "markdown",
   "metadata": {},
   "source": [
    "chapter 08. 모듈과 패키지"
   ]
  },
  {
   "cell_type": "code",
   "execution_count": 1,
   "metadata": {},
   "outputs": [],
   "source": [
    "# Ex 8-1. greet 모듈 생성\n",
    "def hello1(name):\n",
    "    x = '%s님 안녕하세요.' % name\n",
    "    return x\n",
    "\n",
    "def hello2(name):\n",
    "    x = '%s님 반갑습니다.' % name\n",
    "    return x\n",
    "\n",
    "def hello3(name):\n",
    "    x = '%s님 만나서 반가워요.' % name\n",
    "    return x\n",
    "\n"
   ]
  },
  {
   "cell_type": "code",
   "execution_count": 2,
   "metadata": {},
   "outputs": [],
   "source": [
    "# ex 8-2\n"
   ]
  },
  {
   "cell_type": "code",
   "execution_count": 8,
   "metadata": {},
   "outputs": [
    {
     "name": "stdout",
     "output_type": "stream",
     "text": [
      "7 11 8\n",
      "120\n"
     ]
    }
   ],
   "source": [
    "# Math 모듈\n",
    "import math\n",
    "\n",
    "print(math.floor(7.7), math.ceil(10.1), round(8.5))\n",
    "print(math.factorial(5))"
   ]
  },
  {
   "cell_type": "code",
   "execution_count": 9,
   "metadata": {},
   "outputs": [
    {
     "data": {
      "text/plain": [
       "120"
      ]
     },
     "execution_count": 9,
     "metadata": {},
     "output_type": "execute_result"
    }
   ],
   "source": [
    "## 함수의 재귀적 호출(Recursive call)\n",
    "def facto(n) :\n",
    "    if n == 0 :\n",
    "        return 1\n",
    "    return n * facto(n-1)\n",
    "\n",
    "facto(5)"
   ]
  },
  {
   "cell_type": "code",
   "execution_count": 17,
   "metadata": {},
   "outputs": [
    {
     "name": "stdout",
     "output_type": "stream",
     "text": [
      "3.141592653589793 1.0 -1.0 -2.4492935982947064e-16\n",
      "16.0 7.0 2.0\n"
     ]
    }
   ],
   "source": [
    "import math as m\n",
    "print (m.pi , m.sin(m.pi /2), m.cos(m.pi), m.tan(m.pi * 2))\n",
    "print(m.pow(2,4), m.sqrt(49), m.log10(100))"
   ]
  },
  {
   "cell_type": "code",
   "execution_count": 18,
   "metadata": {},
   "outputs": [],
   "source": [
    "# 약어 정리\n",
    "# numpy - > np\n",
    "# pandas -> pd\n",
    "# matplotlib.pyplot -> plt\n",
    "# seaborn - sns\n",
    "# tensorflow -> tf\n"
   ]
  },
  {
   "cell_type": "code",
   "execution_count": 22,
   "metadata": {},
   "outputs": [
    {
     "name": "stdout",
     "output_type": "stream",
     "text": [
      "1 1 2 3 5 8 13 21 34 55 89 144 233 377 610 987 1597 2584 4181 "
     ]
    }
   ],
   "source": [
    "def fibo(n):\n",
    "    if n == 1 or n ==2 :\n",
    "        return 1 \n",
    "    return fibo(n-1) + fibo(n-2)\n",
    "\n",
    "for i in range(1, 20):\n",
    "    print(fibo(i) , end = ' ')"
   ]
  },
  {
   "cell_type": "code",
   "execution_count": 31,
   "metadata": {},
   "outputs": [
    {
     "name": "stdout",
     "output_type": "stream",
     "text": [
      "0.09216912746376305\n",
      "0.9864683637160051\n",
      "0.45005076258886845\n"
     ]
    }
   ],
   "source": [
    "# rangdom 모듈\n",
    "import random\n",
    "\n",
    "for i in range(3):\n",
    "    print(random.random())"
   ]
  },
  {
   "cell_type": "code",
   "execution_count": 51,
   "metadata": {},
   "outputs": [
    {
     "name": "stdout",
     "output_type": "stream",
     "text": [
      "2020-06-03 10:16:27.722765\n",
      "2020-6-3\n",
      "10:16:27\n",
      "2\n",
      "2020-06-03 101627\n"
     ]
    }
   ],
   "source": [
    "# datatime 모듈\n",
    "\n",
    "from datetime import datetime\n",
    "today = datetime.now()\n",
    "print(today)\n",
    "print(today.year, today.month, today.day, sep = '-')\n",
    "print(today.hour, today.minute, today.second, sep =\":\")\n",
    "print(today.weekday())\n",
    "\n",
    "print(today.strftime('%Y-%m-%d %H%M%S'))\n",
    "\n"
   ]
  },
  {
   "cell_type": "code",
   "execution_count": 55,
   "metadata": {},
   "outputs": [
    {
     "name": "stdout",
     "output_type": "stream",
     "text": [
      "안지수님 안녕하세요.\n",
      "홍지영님 반갑습니다.\n",
      "황예림님 만나서 반가워요.\n"
     ]
    }
   ],
   "source": [
    "import ch08greet as greet\n",
    "\n",
    "print(greet.hello1('안지수'))\n",
    "print(greet.hello2('홍지영'))\n",
    "print(greet.hello3('황예림'))\n"
   ]
  },
  {
   "cell_type": "code",
   "execution_count": 58,
   "metadata": {},
   "outputs": [
    {
     "name": "stdout",
     "output_type": "stream",
     "text": [
      "1, 1\n",
      "2, 1\n",
      "6, 2\n",
      "24, 3\n",
      "120, 5\n",
      "720, 8\n",
      "5040, 13\n",
      "40320, 21\n",
      "362880, 34\n",
      "3628800, 55\n"
     ]
    }
   ],
   "source": [
    "import ch08util as my_util\n",
    "\n",
    "for i in range(1, 11):\n",
    "    print(my_util.facto(i), end = ', ')\n",
    "    print(my_util.fibo(i))"
   ]
  },
  {
   "cell_type": "code",
   "execution_count": null,
   "metadata": {},
   "outputs": [],
   "source": []
  }
 ],
 "metadata": {
  "kernelspec": {
   "display_name": "Python 3",
   "language": "python",
   "name": "python3"
  },
  "language_info": {
   "codemirror_mode": {
    "name": "ipython",
    "version": 3
   },
   "file_extension": ".py",
   "mimetype": "text/x-python",
   "name": "python",
   "nbconvert_exporter": "python",
   "pygments_lexer": "ipython3",
   "version": "3.7.6"
  }
 },
 "nbformat": 4,
 "nbformat_minor": 4
}
