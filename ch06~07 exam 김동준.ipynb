{
 "cells": [
  {
   "cell_type": "code",
   "execution_count": 1,
   "metadata": {},
   "outputs": [
    {
     "data": {
      "text/plain": [
       "'\\n회사 쇼핑몰 고객의 아이디에 부여된 마일리지 포인트를 딕셔너리에 저장하여 관리하고자 한다. \\n물음에 답하시오. (1~4번 문제)\\n\\n\\n아이디             kim99      lee66      han55     hong77      hwang33\\n마일리지 포인트    12000      11000      3000       5000       18000\\n'"
      ]
     },
     "execution_count": 1,
     "metadata": {},
     "output_type": "execute_result"
    }
   ],
   "source": [
    "'''\n",
    "회사 쇼핑몰 고객의 아이디에 부여된 마일리지 포인트를 딕셔너리에 저장하여 관리하고자 한다. \n",
    "물음에 답하시오. (1~4번 문제)\n",
    "\n",
    "\n",
    "아이디             kim99      lee66      han55     hong77      hwang33\n",
    "마일리지 포인트    12000      11000      3000       5000       18000\n",
    "'''"
   ]
  },
  {
   "cell_type": "code",
   "execution_count": 7,
   "metadata": {},
   "outputs": [
    {
     "name": "stdout",
     "output_type": "stream",
     "text": [
      "1. 아이디 : kim99, 마일리지 : 12000점\n",
      "2. 아이디 : lee66, 마일리지 : 11000점\n",
      "3. 아이디 : han55, 마일리지 : 3000점\n",
      "4. 아이디 : hong77, 마일리지 : 5000점\n",
      "5. 아이디 : hwang33, 마일리지 : 18000점\n"
     ]
    }
   ],
   "source": [
    "'''\n",
    "1. 위의 표에 나타난 아이디와 마일리지 포인트를 딕셔너리에 저장한 다음 출력하는 프로그램을 작성하시오. \n",
    "\n",
    "    실행결과 \n",
    "    1. 아이디 : kim99,   마일리지 : 12000점\n",
    "    2. 아이디 : lee66,   마일리지 : 11000점\n",
    "    3. 아이디 : han55,   마일리지 :  3000점\n",
    "    4. 아이디 : hong77,  마일리지 :  5000점\n",
    "    5. 아이디 : hwang33, 마일리지 : 18000점\n",
    "    \n",
    "'''\n",
    "shop = {'kim99':'12000','lee66':'11000','han55':'3000','hong77':'5000','hwang33':'18000'}\n",
    "\n",
    "n = 1\n",
    "for key in shop:\n",
    "    print('%d. 아이디 : %s, 마일리지 : %s점' %(n, key, shop[key]))\n",
    "    n+=1"
   ]
  },
  {
   "cell_type": "code",
   "execution_count": 13,
   "metadata": {},
   "outputs": [
    {
     "name": "stdout",
     "output_type": "stream",
     "text": [
      "아이디 입력 :han55\n",
      "변경할 마일리지 입력 :5000\n",
      "han55님의 마일리지가 5000점으로 변경 수정 되었습니다. \n"
     ]
    }
   ],
   "source": [
    "'''\n",
    "2. 아이디 'han55'의 마일리지를 5000점으로 업데이트하고 업데이트된 정보를 출력하는 프로그램을 작성하시오.\n",
    "\n",
    "    실행결과\n",
    "    1. han55님의 마일리지가 5000점으로 수정 되었습니다. \n",
    "'''\n",
    "shop = {'kim99':'12000','lee66':'11000','han55':'3000','hong77':'5000','hwang33':'18000'}\n",
    "\n",
    "ck_id = input('아이디 입력 :')\n",
    "ch_val = input('변경할 마일리지 입력 :')\n",
    "shop[ck_id] = ch_val\n",
    "\n",
    "print('%s님의 마일리지가 %s점으로 변경 수정 되었습니다. '% (ck_id, ch_val))\n"
   ]
  },
  {
   "cell_type": "code",
   "execution_count": 16,
   "metadata": {},
   "outputs": [
    {
     "name": "stdout",
     "output_type": "stream",
     "text": [
      "아이디 입력 :jang88\n",
      "변경할 마일리지 입력 :7000\n",
      "jang88님의 마일리지 (7000점)가 추가 되었습니다. \n"
     ]
    }
   ],
   "source": [
    "'''\n",
    "3. 딕셔너리에 아이디 'jang88과 마일리지 7000을 추가한 다음 \n",
    "전체 딕셔너리와 추가된 데이터를 출력하는 프로그램을 작성하시오. '\n",
    "\n",
    "    실행결과\n",
    "    전체 딕셔너리 : {'kim99:12000,'lee66':11000,'han55':3000,'hong77':5000, 'hwang33':18000,'jang88':7000}\n",
    "    jang88님의 마일리지(7000점)가 추가 되었습니다. \n",
    "'''\n",
    "shop = {'kim99':'12000','lee66':'11000','han55':'3000','hong77':'5000','hwang33':'18000'}\n",
    "ck_id = input('아이디 입력 :')\n",
    "ch_val = input('변경할 마일리지 입력 :')\n",
    "shop[ck_id] = ch_val\n",
    "\n",
    "print('%s님의 마일리지 (%s점)가 추가 되었습니다. '% (ck_id, ch_val))\n"
   ]
  },
  {
   "cell_type": "code",
   "execution_count": 44,
   "metadata": {},
   "outputs": [
    {
     "name": "stdout",
     "output_type": "stream",
     "text": [
      "kim99 12000\n",
      "lee66 11000\n",
      "han55 3000\n",
      "hong77 5000\n",
      "hwang33 18000\n",
      "hwang33님이 18000점으로 가장 높은 점수입니다. \n"
     ]
    }
   ],
   "source": [
    "'''\n",
    "4. 딕셔너리에서 가장 높은 마일리지를 찾아서 출력하는 프로그램을 작성하시오. \n",
    "\n",
    "    실행결과 \n",
    "    hwang33님이 18000점으로 가장 높은 점수입니다. \n",
    "\n",
    "\n",
    "'''\n",
    "shop = {'kim99':12000,'lee66':11000,'han55':3000,'hong77':5000,'hwang33':18000}\n",
    "\n",
    "high = ''\n",
    "max=0\n",
    "for key in shop:\n",
    "    if max < shop[key]:\n",
    "        max = shop[key]\n",
    "        high = key\n",
    "    #print('%s %s'%(key, shop[key]))\n",
    "\n",
    "    \n",
    "print('%s님이 %s점으로 가장 높은 점수입니다. ' %(high, shop[high]))        \n",
    "        "
   ]
  },
  {
   "cell_type": "code",
   "execution_count": 60,
   "metadata": {},
   "outputs": [
    {
     "name": "stdout",
     "output_type": "stream",
     "text": [
      "\n",
      "--------------------------------------------------\n",
      "월    화    수    목    금    토    일    \n",
      "--------------------------------------------------\n",
      "25.5  28.3  33.2  32.1  17.3  35.3  17.3  \n",
      "--------------------------------------------------\n"
     ]
    }
   ],
   "source": [
    "'''\n",
    "5. 다음은 어느 지역의 일주일 간의 최고 기온을 나타낸 것이다. \n",
    "다음 물음에 답하시오. \n",
    "\n",
    "    실행결과\n",
    "    --------------------------------------------------\n",
    "    월    화    수    목    금    토    일    \n",
    "    --------------------------------------------------\n",
    "    25.5  28.3  33.2  32.1  17.3  35.3  17.3  \n",
    "    --------------------------------------------------\n",
    "'''\n",
    "def line():\n",
    "    print()\n",
    "    print('-' * 50)\n",
    "    \n",
    "\n",
    "\n",
    "weather = {'월':25.5,'화':28.3,'수':33.2,'목':32.1,'금':17.3,'토':35.3,'일':17.3}\n",
    "\n",
    "\n",
    "line()\n",
    "for key in weather:\n",
    "    print(key, end ='    ')\n",
    "        \n",
    "\n",
    "line()\n",
    "for key in weather:\n",
    "    print(weather[key], end ='  ')\n",
    "    \n",
    "line()"
   ]
  },
  {
   "cell_type": "code",
   "execution_count": 89,
   "metadata": {},
   "outputs": [
    {
     "name": "stdout",
     "output_type": "stream",
     "text": [
      "가장 낮은 최고 기온 : 금 17.3\n"
     ]
    }
   ],
   "source": [
    "'''\n",
    "6. 딕셔너리에서 주중 가장 낮은 최고 기온을 찾아서 출력하는 프로그램을 작성하시오. \n",
    "\n",
    "'''\n",
    "weather = {'월':25.5,'화':28.3,'수':33.2,'목':32.1,'금':17.3,'토':35.3,'일':17.3}\n",
    "\n",
    "day = ''\n",
    "low = 100.0\n",
    "\n",
    "for key in weather:\n",
    "    if low > weather[key]:\n",
    "        low = weather[key]\n",
    "        day = key\n",
    "        \n",
    "print('가장 낮은 최고 기온 : %s %0.1f' % (day, weather[key]))"
   ]
  },
  {
   "cell_type": "code",
   "execution_count": 95,
   "metadata": {},
   "outputs": [
    {
     "name": "stdout",
     "output_type": "stream",
     "text": [
      "기온이 30도 이상인 요일 : 수 목 토 일 "
     ]
    }
   ],
   "source": [
    "'''\n",
    "딕셔너리에서 주간 최고 기온이 30도 이상인 요일을 출력하는 프로그램을 작성하시오. \n",
    "'''\n",
    "weather = {'월':25.5,'화':28.3,'수':33.2,'목':32.1,'금':17.3,'토':35.3,'일':33.3}\n",
    "\n",
    "print('기온이 30도 이상인 요일 : ' , end = '')\n",
    "\n",
    "for key in weather:\n",
    "    if weather[key] >= 30 :\n",
    "        print(key, end = ' ')\n",
    "\n",
    "#print('기온이 30도 이상인 요일 : %s' %day)"
   ]
  },
  {
   "cell_type": "code",
   "execution_count": 99,
   "metadata": {},
   "outputs": [
    {
     "name": "stdout",
     "output_type": "stream",
     "text": [
      "일주일간 최고 기온의 평균 : 29.3\n"
     ]
    }
   ],
   "source": [
    "'''\n",
    "딕셔너리에서 기온의 평균을 구하는 프로그램을 작성하시오. \n",
    "'''\n",
    "weather = {'월':25.5,'화':28.3,'수':33.2,'목':32.1,'금':17.3,'토':35.3,'일':33.3}\n",
    "sum = 0\n",
    "\n",
    "print('일주일간 최고 기온의 평균 : ' , end = '')\n",
    "for key in weather:\n",
    "    sum += weather[key]\n",
    "    \n",
    "sum = sum / len(weather)    \n",
    "print('%0.1f' % sum)\n"
   ]
  },
  {
   "cell_type": "code",
   "execution_count": 100,
   "metadata": {},
   "outputs": [],
   "source": [
    "#7장 연습문제\n"
   ]
  },
  {
   "cell_type": "code",
   "execution_count": 102,
   "metadata": {},
   "outputs": [
    {
     "name": "stdout",
     "output_type": "stream",
     "text": [
      "20 10\n"
     ]
    }
   ],
   "source": [
    "'''\n",
    "1. 다음 프로그램의 실행 결과는 무엇인가? 보기에서 고르시오.\n",
    "\n",
    "    20 10\n",
    "'''\n",
    "\n",
    "def f1(a):\n",
    "    a += 10\n",
    "    print(a, end = ' ')\n",
    "    \n",
    "a = 10\n",
    "f1(a)\n",
    "print(a)"
   ]
  },
  {
   "cell_type": "code",
   "execution_count": 103,
   "metadata": {},
   "outputs": [
    {
     "name": "stdout",
     "output_type": "stream",
     "text": [
      "300,100,300\n"
     ]
    }
   ],
   "source": [
    "'''\n",
    "2. 다음 프로그램의 실행 결과는 무엇인가? 보기에서 고르시오\n",
    "\n",
    "    300,100,300\n",
    "'''\n",
    "\n",
    "def f2(a):\n",
    "    global y \n",
    "    y += a\n",
    "    x = 500\n",
    "    print(y, end =',')\n",
    "    \n",
    "    \n",
    "x = 100\n",
    "y = 200\n",
    "f2(x)\n",
    "print(x, end =',')\n",
    "print(y)\n"
   ]
  },
  {
   "cell_type": "code",
   "execution_count": 28,
   "metadata": {},
   "outputs": [
    {
     "name": "stdout",
     "output_type": "stream",
     "text": [
      "n값을 입력해 주세요. :20\n",
      "2 3 5 7 11 13 17 19 "
     ]
    }
   ],
   "source": [
    "'''\n",
    "3. 다음은 2~N 까지의 정수 중에서 소수를 구하는 프로그램의 실행 결과이다. \n",
    "1개 이상의 사용자 함수를 정의하여 프로그램을 작성하시오. \n",
    "\n",
    "\n",
    "'''\n",
    "# 소수 구하기\n",
    "def getPrimeList(num):\n",
    "    primes = []\n",
    "    if num < 2:\n",
    "        return primes\n",
    "    for i in range(2, num+1):\n",
    "        isPrime = True\n",
    "        for j in primes:\n",
    "            if i % j == 0:\n",
    "                isPrime = False\n",
    "                break\n",
    "            elif j > i**0.5:\n",
    "                break\n",
    "        if isPrime:\n",
    "            primes.append(i)\n",
    "    return primes\n",
    "\n",
    "# 프린트 출력\n",
    "def printResult(calc):\n",
    "    for i in calc:\n",
    "        print('%d' % i , end =' ')\n",
    "\n",
    "\n",
    "# Main Program\n",
    "inNum = input('n값을 입력해 주세요. :')\n",
    "\n",
    "if __name__ == '__main__':\n",
    "    printResult(getPrimeList(int(inNum)))\n",
    "    \n",
    "\n",
    "\n"
   ]
  },
  {
   "cell_type": "code",
   "execution_count": 24,
   "metadata": {},
   "outputs": [
    {
     "name": "stdout",
     "output_type": "stream",
     "text": [
      "실행결과 문자열을 입력하세요 : i am hungry!\n",
      "!yrgnuh ma i"
     ]
    }
   ],
   "source": [
    "'''\n",
    "4. 다음은 입력받은 문자열을 역순으로 출력하는 프로그램의 실행 결과이다. \n",
    "1개 이상의 사용자 함수를 정의하여 프로그램을 작성하시오. \n",
    "\n",
    "    실행결과 문자열을 입력하세요 : I am hungry.\n",
    "    .yrgnuh ma I\n",
    "\n",
    "'''\n",
    "inText = input('실행결과 문자열을 입력하세요 : ')\n",
    "isList = list(inText)\n",
    "isList.reverse()\n",
    "\n",
    "for i in isList:\n",
    "    print('%s'% i , end ='')\n",
    "\n",
    "\n",
    "\n",
    "\n",
    "    \n",
    "    \n",
    "\n",
    "\n",
    "    \n",
    "    \n",
    "\n"
   ]
  },
  {
   "cell_type": "code",
   "execution_count": 4,
   "metadata": {},
   "outputs": [
    {
     "name": "stdout",
     "output_type": "stream",
     "text": [
      "[1, 4, 9, 16, 25]\n"
     ]
    }
   ],
   "source": [
    "'''\n",
    "5. 다음 프로그램의 실행 결과는 무엇인가? 빈 박스 안에 적으시오. \n",
    "\n",
    "\n",
    "'''\n",
    "\n",
    "def numSquare(num):\n",
    "    list_new = []\n",
    "    for i in range(1, num+1):\n",
    "        list_new.append(i**2)\n",
    "        \n",
    "    return list_new\n",
    "\n",
    "n = 5\n",
    "result = numSquare(n)\n",
    "print(result)\n"
   ]
  },
  {
   "cell_type": "code",
   "execution_count": 6,
   "metadata": {},
   "outputs": [
    {
     "name": "stdout",
     "output_type": "stream",
     "text": [
      "첫번째 숫자를 입력하세요: 8\n",
      "두번째 숫자를 입력하세요: 20\n",
      "두 수의 최소 공배수는 40 입니다.\n"
     ]
    }
   ],
   "source": [
    "'''\n",
    "6. 다음은 두 수의 최소 공배수를 구하는 프로그램의 실행 결과이다 .\n",
    "1개 이상의 사용자 함수를 정의하여 프로그램을 작성하시오. \n",
    "\n",
    "    실행결과 \n",
    "    첫 번째 수를 입력하세요 : 8\n",
    "    두 번째 수를 입력하세요 : 20 \n",
    "    8과 20 의 최소공배수 : 40\n",
    "'''\n",
    "# 최소 공배수 구하기\n",
    "\n",
    "def calc(number1, number2):\n",
    "    t_num = 0\n",
    "    if number1 > number2 :\n",
    "        t_num = number1\n",
    "    else :\n",
    "        t_num = number2\n",
    "\n",
    "    while t_num:\n",
    "        if t_num % number1 == 0 and t_num % number2 == 0 :\n",
    "            print(\"두 수의 최소 공배수는 %d 입니다.\" % t_num)\n",
    "            break\n",
    "        t_num += 1\n",
    "\n",
    "\n",
    "number1 = int(input(\"첫번째 숫자를 입력하세요: \"))\n",
    "number2 = int(input(\"두번째 숫자를 입력하세요: \"))\n",
    "calc(number1, number2)\n",
    "\n"
   ]
  },
  {
   "cell_type": "code",
   "execution_count": 3,
   "metadata": {},
   "outputs": [
    {
     "name": "stdout",
     "output_type": "stream",
     "text": [
      "비밀번호 :3677848\n",
      "비밀번호 확인 :3677848\n",
      "비밀번호가 잘못되었습니다! 다시 입력해주세요.\n",
      "비밀번호 :A123456789\n",
      "비밀번호 확인 :asdfsadf\n",
      "비밀번호와 비밀번호 확인이 서로 다릅니다! 다시 입력해 주세요!\n",
      "비밀번호 :A123456789\n",
      "비밀번호 확인 :A123456789\n",
      "유효한 비밀번호입니다~~~\n"
     ]
    }
   ],
   "source": [
    "'''\n",
    "7. 다음은 유효한 비밀번호 (10자리 이상, 영문대문자 반드시 포함)를 만드는 프로그램의 실행 결과이다. \n",
    "1개 이상의 사용자 함수를 정의하여 프로그램을 작성하시오. \\\n",
    "\n",
    "    실행결과\n",
    "    비밀번호는 10 자리 이상, 영문 대문자를 포함하여야 합니다. \n",
    "    \n",
    "'''\n",
    "def checkTest(n1, n2):\n",
    "\n",
    "    alpha = 'ABCDEFGHIJKLMNOPQRSTUVWXYZ'\n",
    "    checkSum = 0\n",
    "    \n",
    "    for i in n1:\n",
    "        if i in alpha or len(n1) >= 10:\n",
    "            checkSum = 1\n",
    "            \n",
    "    if n1 != n2 :\n",
    "        print(\"비밀번호와 비밀번호 확인이 서로 다릅니다! 다시 입력해 주세요!\")\n",
    "               \n",
    "    elif checkSum != 1 :\n",
    "        print(\"비밀번호가 잘못되었습니다! 다시 입력해주세요.\")\n",
    "\n",
    "    else :\n",
    "        print(\"유효한 비밀번호입니다~~~\")\n",
    "\n",
    "    return\n",
    "            \n",
    "\n",
    "for i in range(0,3,1):    \n",
    "    \n",
    "    checkPassword = input('비밀번호 :')\n",
    "    _checkPassword = input('비밀번호 확인 :')\n",
    "    checkTest(checkPassword, _checkPassword)\n",
    "\n",
    "    \n",
    "#10자리 이상, 영문 대문자\n",
    "\n",
    "\n",
    "\n",
    "\n",
    "\n"
   ]
  },
  {
   "cell_type": "code",
   "execution_count": 17,
   "metadata": {},
   "outputs": [
    {
     "name": "stdout",
     "output_type": "stream",
     "text": [
      "[77, 36, 29, 11, 20, 6, 91, 33]\n",
      "정렬된 수:\n",
      "6 11 20 29 33 36 77 91 "
     ]
    }
   ],
   "source": [
    "'''\n",
    "리스트 numbers는 다음과 같이 정의된다. 리스트의 요소를 오름차순으로 정렬하는 프로그램을 작성하시오. \n",
    "(단, 1 개 이상의 사용자 함수를 정의하여야 함.)\n",
    "\n",
    "    실행결과\n",
    "    [77,36,29,11,20,6,91,33]\n",
    "    정렬된 수 \n",
    "    6 11 20 29 33 36 77 91\n",
    "'''\n",
    "def callSort(numbers):\n",
    "    print(numbers)\n",
    "    numbers.sort()\n",
    "    print('정렬된 수:')\n",
    "    for i in numbers:\n",
    "\n",
    "        print('%d' % i , end = ' ')\n",
    "    \n",
    "    return\n",
    "\n",
    "\n",
    "\n",
    "numbers = [77,36,29,11,20,6,91,33]\n",
    "callSort(numbers)\n",
    "\n"
   ]
  },
  {
   "cell_type": "code",
   "execution_count": null,
   "metadata": {},
   "outputs": [],
   "source": []
  }
 ],
 "metadata": {
  "kernelspec": {
   "display_name": "Python 3",
   "language": "python",
   "name": "python3"
  },
  "language_info": {
   "codemirror_mode": {
    "name": "ipython",
    "version": 3
   },
   "file_extension": ".py",
   "mimetype": "text/x-python",
   "name": "python",
   "nbconvert_exporter": "python",
   "pygments_lexer": "ipython3",
   "version": "3.7.6"
  }
 },
 "nbformat": 4,
 "nbformat_minor": 4
}
