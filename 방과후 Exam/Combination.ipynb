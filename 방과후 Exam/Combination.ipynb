{
 "cells": [
  {
   "cell_type": "markdown",
   "metadata": {},
   "source": [
    "입력된 n 개의 문자에 대한 수열 계산\n"
   ]
  },
  {
   "cell_type": "code",
   "execution_count": 51,
   "metadata": {},
   "outputs": [
    {
     "name": "stdout",
     "output_type": "stream",
     "text": [
      "['a', 'ab', 'abc', 'ac', 'acb', 'b', 'ba', 'bac', 'bc', 'bca', 'c', 'ca', 'cab', 'cb', 'cba']\n"
     ]
    }
   ],
   "source": [
    "def combination(s):\n",
    "    if len(s) < 2 :\n",
    "        return s\n",
    "    res = []\n",
    "    for i , c in enumerate(s):\n",
    "        res.append(c)\n",
    "        #print(c)\n",
    "        for j in combination(s[:i] + s[i+1:]):\n",
    "            #print (c, j)    \n",
    "            res.append(c+j)\n",
    "            \n",
    "    return res\n",
    "\n",
    "if __name__ == \"__main__\":\n",
    "    result = combination('abc')\n",
    "    print(result)"
   ]
  },
  {
   "cell_type": "code",
   "execution_count": null,
   "metadata": {},
   "outputs": [],
   "source": []
  },
  {
   "cell_type": "code",
   "execution_count": null,
   "metadata": {},
   "outputs": [],
   "source": []
  }
 ],
 "metadata": {
  "kernelspec": {
   "display_name": "Python 3",
   "language": "python",
   "name": "python3"
  },
  "language_info": {
   "codemirror_mode": {
    "name": "ipython",
    "version": 3
   },
   "file_extension": ".py",
   "mimetype": "text/x-python",
   "name": "python",
   "nbconvert_exporter": "python",
   "pygments_lexer": "ipython3",
   "version": "3.7.6"
  }
 },
 "nbformat": 4,
 "nbformat_minor": 4
}
