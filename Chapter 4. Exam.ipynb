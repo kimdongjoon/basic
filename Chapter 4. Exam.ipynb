{
 "cells": [
  {
   "cell_type": "code",
   "execution_count": 2,
   "metadata": {},
   "outputs": [
    {
     "name": "stdout",
     "output_type": "stream",
     "text": [
      "**********\n",
      "**********\n",
      "**********\n",
      "**********\n",
      "**********\n",
      "**********\n"
     ]
    }
   ],
   "source": [
    "'''\n",
    "1. for문을 이용하여 실행 결과와 같은 형태로 출력하는 프로그램을\n",
    "   작성하시오. \n",
    "\n",
    "    실행결과\n",
    "    **********\n",
    "    **********\n",
    "    **********\n",
    "    **********\n",
    "    **********\n",
    "'''\n",
    "for i in range(0,6,1):\n",
    "    print('*' * 10 )"
   ]
  },
  {
   "cell_type": "code",
   "execution_count": 9,
   "metadata": {},
   "outputs": [
    {
     "name": "stdout",
     "output_type": "stream",
     "text": [
      "**********\n",
      "**********\n",
      "**********\n",
      "**********\n",
      "**********\n",
      "**********\n"
     ]
    }
   ],
   "source": [
    "''' \n",
    "2. while문을 이용하여 1번 문제와 동일한 결과를 가져오는\n",
    "   프로그램을 작성하시오. \n",
    "       \n",
    "    실행결과\n",
    "    **********\n",
    "    **********\n",
    "    **********\n",
    "    **********\n",
    "    **********\n",
    "'''\n",
    "\n",
    "check = 0\n",
    "\n",
    "while True :\n",
    "    print('*' * 10)\n",
    "    if check == 5:\n",
    "        break\n",
    "            \n",
    "    check = check + 1         \n",
    "            "
   ]
  },
  {
   "cell_type": "code",
   "execution_count": 23,
   "metadata": {},
   "outputs": [
    {
     "name": "stdout",
     "output_type": "stream",
     "text": [
      "6 6 6 6 6 6 \n",
      "5 5 5 5 5 \n",
      "4 4 4 4 \n",
      "3 3 3 \n",
      "2 2 \n",
      "1 \n"
     ]
    }
   ],
   "source": [
    "'''\n",
    "3. for문을 이용하여 실행 결과와 같은 형태로 출력하는 프로그램을\n",
    "   작성하시오\n",
    "   \n",
    "   실행결과\n",
    "   6 6 6 6 6 6\n",
    "   5 5 5 5 5\n",
    "   4 4 4 4\n",
    "   3 3 3\n",
    "   2 2\n",
    "   1\n",
    "   \n",
    "'''\n",
    "\n",
    "for i in range(6, 0, -1):\n",
    "    for k in range(0, i -1+1):\n",
    "        print(i, end =' ')\n",
    "    print()\n"
   ]
  },
  {
   "cell_type": "code",
   "execution_count": 37,
   "metadata": {},
   "outputs": [
    {
     "name": "stdout",
     "output_type": "stream",
     "text": [
      "0 \n",
      "0 1 \n",
      "0 1 2 \n",
      "0 1 2 3 \n",
      "0 1 2 3 4 \n",
      "0 1 2 3 4 5 \n"
     ]
    }
   ],
   "source": [
    "'''\n",
    "4. for문을 이용하여 실행 결과와 같은 형태로 출력하는 \n",
    "   프로그램을 작성하시오. \n",
    "   \n",
    "   실행결과\n",
    "   0\n",
    "   0 1\n",
    "   0 1 2\n",
    "   0 1 2 3\n",
    "   0 1 2 3 4\n",
    "   0 1 2 3 4 5 \n",
    "\n",
    "'''\n",
    "count = 0\n",
    "for i in range(0, 6, 1):\n",
    "    for k in range(0, i+1,1):\n",
    "        print(k, end=' ')\n",
    "        \n",
    "    print()"
   ]
  },
  {
   "cell_type": "code",
   "execution_count": 51,
   "metadata": {},
   "outputs": [
    {
     "name": "stdout",
     "output_type": "stream",
     "text": [
      "********\n",
      "*      *\n",
      "*      *\n",
      "*      *\n",
      "*      *\n",
      "*      *\n",
      "*      *\n",
      "********\n"
     ]
    }
   ],
   "source": [
    "'''\n",
    "5. for 문을 이용하여 실행 결과와 같은 형태로 출력하는 \n",
    "   프로그램을 작성하시오. \n",
    "   실행결과\n",
    "   ********\n",
    "   *      *\n",
    "   *      *\n",
    "   *      *\n",
    "   *      *\n",
    "   *      *\n",
    "   *      *\n",
    "   ********\n",
    "'''\n",
    "\n",
    "for i in range (0,8,1):\n",
    "    if i == 0 or i == 7:\n",
    "        for k in range (0,8,1):\n",
    "            print('*' , end ='')\n",
    "    else :\n",
    "            print('*      *' , end ='')\n",
    "    print()    "
   ]
  },
  {
   "cell_type": "code",
   "execution_count": 86,
   "metadata": {},
   "outputs": [
    {
     "name": "stdout",
     "output_type": "stream",
     "text": [
      "1 3 5 7 9 11 13 15 17 19 21 23 25 27 29 31 33 35 37 39 41 43 45 47 49 51 53 55 57 59 61 63 65 67 69 71 73 75 77 79 81 83 85 87 89 91 93 95 97 99 = 2500\n"
     ]
    }
   ],
   "source": [
    "'''\n",
    "6. 1~100까지의 수 중에서 홀수와 홀수의 합을 실행 결과와 같이\n",
    "   출력하는 프로그램을 작성하시오.\n",
    "     \n",
    "\n",
    "'''\n",
    "sum = 0\n",
    "for i in range(0, 101, 1):\n",
    "    if i % 2 == 1:\n",
    "        sum += i\n",
    "        print(\"%d\" % i , end = ' ')\n",
    "      \n",
    "        \n",
    "print('= ' + str(sum))"
   ]
  },
  {
   "cell_type": "code",
   "execution_count": null,
   "metadata": {},
   "outputs": [],
   "source": []
  }
 ],
 "metadata": {
  "kernelspec": {
   "display_name": "Python 3",
   "language": "python",
   "name": "python3"
  },
  "language_info": {
   "codemirror_mode": {
    "name": "ipython",
    "version": 3
   },
   "file_extension": ".py",
   "mimetype": "text/x-python",
   "name": "python",
   "nbconvert_exporter": "python",
   "pygments_lexer": "ipython3",
   "version": "3.7.6"
  }
 },
 "nbformat": 4,
 "nbformat_minor": 4
}
